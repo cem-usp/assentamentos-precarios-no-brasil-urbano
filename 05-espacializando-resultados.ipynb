{
 "cells": [
  {
   "cell_type": "code",
   "execution_count": 8,
   "metadata": {},
   "outputs": [],
   "source": [
    "import pandas as pd\n",
    "import geopandas as gpd"
   ]
  },
  {
   "cell_type": "code",
   "execution_count": 9,
   "metadata": {},
   "outputs": [],
   "source": [
    "gdf_br = gpd.read_file('data/censo_2010/BR_Setores_2010.gpkg')"
   ]
  },
  {
   "cell_type": "code",
   "execution_count": 10,
   "metadata": {},
   "outputs": [],
   "source": [
    "_ = gdf_br.to_crs(epsg='4674', inplace=True)"
   ]
  },
  {
   "cell_type": "code",
   "execution_count": 11,
   "metadata": {},
   "outputs": [
    {
     "name": "stderr",
     "output_type": "stream",
     "text": [
      "/tmp/ipykernel_91516/1623530861.py:1: DtypeWarning: Columns (3) have mixed types. Specify dtype option on import or set low_memory=False.\n",
      "  df = pd.read_csv('resultados/modelo_preditivo.csv.zip')\n"
     ]
    }
   ],
   "source": [
    "df = pd.read_csv('resultados/modelo_preditivo.csv.zip')"
   ]
  },
  {
   "cell_type": "code",
   "execution_count": 12,
   "metadata": {},
   "outputs": [
    {
     "data": {
      "text/plain": [
       "((310120, 37), (316574, 16))"
      ]
     },
     "execution_count": 12,
     "metadata": {},
     "output_type": "execute_result"
    }
   ],
   "source": [
    "df.shape, gdf_br.shape"
   ]
  },
  {
   "cell_type": "code",
   "execution_count": null,
   "metadata": {},
   "outputs": [],
   "source": [
    "# Apresentação do método\n",
    "\n",
    "## Introdução\n",
    "    # Objetivo rodar o modelo criado para 2010 a partir do modelo proposto pelo CEM\n",
    "    # Aguardar os dados de 2022\n",
    "## Método\n",
    "    # Dimensões\n",
    "        # as 3 dimensões que ficaram de fora\n",
    "    # Modelos: LDA, RandomForest, SVM\n",
    "    # agregados espacialmente: RM, UF e o restante MacroRegião\n",
    "## Resultados\n",
    "    # Modelo roda para todo BR\n",
    "    # Performance de cada um dos modelos\n",
    "    # percentual\n",
    "    # Alguns exemplos\n",
    "    # Resultado visual município de SP comparando com favelas, corticos, etc\n",
    "## Próximos passos\n",
    "    # Publicação de um Dash\n",
    "        # por Município e RM\n",
    "        # publicação de mapas e tabelas\n",
    "\n"
   ]
  }
 ],
 "metadata": {
  "kernelspec": {
   "display_name": "geo",
   "language": "python",
   "name": "python3"
  },
  "language_info": {
   "codemirror_mode": {
    "name": "ipython",
    "version": 3
   },
   "file_extension": ".py",
   "mimetype": "text/x-python",
   "name": "python",
   "nbconvert_exporter": "python",
   "pygments_lexer": "ipython3",
   "version": "3.8.12"
  },
  "orig_nbformat": 4
 },
 "nbformat": 4,
 "nbformat_minor": 2
}
