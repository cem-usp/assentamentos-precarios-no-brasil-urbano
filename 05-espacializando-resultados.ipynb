{
 "cells": [
  {
   "cell_type": "code",
   "execution_count": 1,
   "metadata": {},
   "outputs": [
    {
     "name": "stderr",
     "output_type": "stream",
     "text": [
      "/home/feromes/miniconda3/envs/geo/lib/python3.8/site-packages/geopandas/_compat.py:111: UserWarning: The Shapely GEOS version (3.8.0-CAPI-1.13.1 ) is incompatible with the GEOS version PyGEOS was compiled with (3.10.1-CAPI-1.16.0). Conversions between both will be slow.\n",
      "  warnings.warn(\n"
     ]
    }
   ],
   "source": [
    "import pandas as pd\n",
    "import geopandas as gpd"
   ]
  },
  {
   "cell_type": "code",
   "execution_count": 2,
   "metadata": {},
   "outputs": [],
   "source": [
    "gdf_br = gpd.read_file('data/censo_2010/BR_Setores_2010.gpkg')"
   ]
  },
  {
   "cell_type": "code",
   "execution_count": 3,
   "metadata": {},
   "outputs": [],
   "source": [
    "_ = gdf_br.to_crs(epsg='5880', inplace=True)"
   ]
  },
  {
   "cell_type": "code",
   "execution_count": 4,
   "metadata": {},
   "outputs": [
    {
     "name": "stderr",
     "output_type": "stream",
     "text": [
      "/tmp/ipykernel_11827/1623530861.py:1: DtypeWarning: Columns (3) have mixed types. Specify dtype option on import or set low_memory=False.\n",
      "  df = pd.read_csv('resultados/modelo_preditivo.csv.zip')\n"
     ]
    }
   ],
   "source": [
    "df = pd.read_csv('resultados/modelo_preditivo.csv.zip')"
   ]
  },
  {
   "cell_type": "code",
   "execution_count": 5,
   "metadata": {},
   "outputs": [
    {
     "data": {
      "text/plain": [
       "((310120, 37), (316574, 16))"
      ]
     },
     "execution_count": 5,
     "metadata": {},
     "output_type": "execute_result"
    }
   ],
   "source": [
    "df.shape, gdf_br.shape"
   ]
  },
  {
   "cell_type": "code",
   "execution_count": 6,
   "metadata": {},
   "outputs": [],
   "source": [
    "gdf_br.loc[:, 'Cod_setor'] = gdf_br.CD_GEOCODI.astype('int')"
   ]
  },
  {
   "cell_type": "code",
   "execution_count": 7,
   "metadata": {},
   "outputs": [
    {
     "data": {
      "text/plain": [
       "0         110009812000003\n",
       "1         110009815000001\n",
       "2         110009815000002\n",
       "3         110009815000003\n",
       "4         110009815000004\n",
       "               ...       \n",
       "316569    280760005000030\n",
       "316570    280760005000031\n",
       "316571    280760005000032\n",
       "316572    280760005000033\n",
       "316573    280760005000028\n",
       "Name: Cod_setor, Length: 316574, dtype: int64"
      ]
     },
     "execution_count": 7,
     "metadata": {},
     "output_type": "execute_result"
    }
   ],
   "source": [
    "gdf_br.Cod_setor"
   ]
  },
  {
   "cell_type": "code",
   "execution_count": 8,
   "metadata": {},
   "outputs": [
    {
     "data": {
      "text/plain": [
       "0         120001305000001\n",
       "1         120001305000002\n",
       "2         120001305000003\n",
       "3         120001305000004\n",
       "4         120001305000005\n",
       "               ...       \n",
       "310115    170210905000098\n",
       "310116    170210905000099\n",
       "310117    170210905000100\n",
       "310118    170210905000101\n",
       "310119    170210905000102\n",
       "Name: Cod_setor, Length: 310120, dtype: int64"
      ]
     },
     "execution_count": 8,
     "metadata": {},
     "output_type": "execute_result"
    }
   ],
   "source": [
    "df.Cod_setor"
   ]
  },
  {
   "cell_type": "code",
   "execution_count": 9,
   "metadata": {},
   "outputs": [],
   "source": [
    "gdf_br_joined = gdf_br.set_index('Cod_setor').join(df.set_index('Cod_setor'), how='left', lsuffix='_df')"
   ]
  },
  {
   "cell_type": "code",
   "execution_count": 10,
   "metadata": {},
   "outputs": [],
   "source": [
    "gdf_br_joined.loc[:, 'legenda'] = 'Setores Comuns'\n",
    "gdf_br_joined.loc[gdf_br_joined.subnormal_LDA.isna(), 'legenda'] = 'Sem Informação'"
   ]
  },
  {
   "cell_type": "code",
   "execution_count": 11,
   "metadata": {},
   "outputs": [],
   "source": [
    "subnormal = (gdf_br_joined.tipo_do_setor == 1)"
   ]
  },
  {
   "cell_type": "code",
   "execution_count": 12,
   "metadata": {},
   "outputs": [],
   "source": [
    "gdf_br_joined.loc[subnormal, 'legenda'] = 'Subnormais'"
   ]
  },
  {
   "cell_type": "code",
   "execution_count": 13,
   "metadata": {},
   "outputs": [],
   "source": [
    "precarios = (gdf_br_joined.subnormal_LDA == 1.0)"
   ]
  },
  {
   "cell_type": "code",
   "execution_count": 14,
   "metadata": {},
   "outputs": [],
   "source": [
    "gdf_br_joined.loc[(precarios & ~subnormal), 'legenda'] = 'Precários'"
   ]
  },
  {
   "cell_type": "code",
   "execution_count": 15,
   "metadata": {},
   "outputs": [],
   "source": [
    "rurais = (gdf_br_joined.TIPO == 'RURAL')"
   ]
  },
  {
   "cell_type": "code",
   "execution_count": 16,
   "metadata": {},
   "outputs": [],
   "source": [
    "gdf_br_joined.loc[(rurais & ~precarios & ~subnormal), 'legenda'] = 'Rurais'"
   ]
  },
  {
   "cell_type": "code",
   "execution_count": 17,
   "metadata": {},
   "outputs": [],
   "source": [
    "# gdf_br_joined.subnormal_LDA.isna().value_counts()"
   ]
  },
  {
   "cell_type": "code",
   "execution_count": 18,
   "metadata": {},
   "outputs": [
    {
     "data": {
      "text/plain": [
       "Setores Comuns    215103\n",
       "Rurais             75626\n",
       "Subnormais         15815\n",
       "Sem Informação      6657\n",
       "Precários           3373\n",
       "Name: legenda, dtype: int64"
      ]
     },
     "execution_count": 18,
     "metadata": {},
     "output_type": "execute_result"
    }
   ],
   "source": [
    "gdf_br_joined.legenda.value_counts()"
   ]
  },
  {
   "cell_type": "code",
   "execution_count": 19,
   "metadata": {},
   "outputs": [],
   "source": [
    "gdf_br_joined.to_file('resultados/assentamentos_precarios_BR.gpkg', driver='GPKG')"
   ]
  },
  {
   "cell_type": "code",
   "execution_count": 20,
   "metadata": {},
   "outputs": [],
   "source": [
    "cores = {\n",
    "    \"Setores Comuns\": \"#E9E2E7\",\n",
    "    \"Rurais\": \"#C0D265\",\n",
    "    \"Precários\": \"#F8BD09\",\n",
    "    \"Subnormais\": \"#EA1C23\",\n",
    "    \"Sem Informação\": \"#7E7C82\"\n",
    "}"
   ]
  },
  {
   "cell_type": "code",
   "execution_count": 21,
   "metadata": {},
   "outputs": [],
   "source": [
    "# Apresentação do método\n",
    "\n",
    "## Introdução\n",
    "    # Objetivo rodar o modelo criado para 2010 a partir do modelo proposto pelo CEM\n",
    "    # Aguardar os dados de 2022\n",
    "## Método\n",
    "    # Dimensões\n",
    "        # as 3 dimensões que ficaram de fora\n",
    "    # Modelos: LDA, RandomForest, SVM\n",
    "    # agregados espacialmente: RM, UF e o restante MacroRegião\n",
    "## Resultados\n",
    "    # Modelo roda para todo BR\n",
    "    # Performance de cada um dos modelos\n",
    "    # percentual\n",
    "    # Alguns exemplos\n",
    "    # Resultado visual município de SP comparando com favelas, corticos, etc\n",
    "## Próximos passos\n",
    "    # Publicação de um Dash\n",
    "        # por Município e RM\n",
    "        # publicação de mapas e tabelas\n",
    "\n"
   ]
  }
 ],
 "metadata": {
  "kernelspec": {
   "display_name": "geo",
   "language": "python",
   "name": "python3"
  },
  "language_info": {
   "codemirror_mode": {
    "name": "ipython",
    "version": 3
   },
   "file_extension": ".py",
   "mimetype": "text/x-python",
   "name": "python",
   "nbconvert_exporter": "python",
   "pygments_lexer": "ipython3",
   "version": "3.8.12"
  },
  "orig_nbformat": 4
 },
 "nbformat": 4,
 "nbformat_minor": 2
}
