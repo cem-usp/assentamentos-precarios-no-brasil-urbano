{
 "cells": [
  {
   "cell_type": "code",
   "execution_count": 1,
   "metadata": {},
   "outputs": [],
   "source": [
    "import numpy as np\n",
    "from ftplib import FTP\n",
    "import urllib.request\n",
    "import zipfile\n",
    "import os.path\n",
    "import glob\n",
    "import shutil"
   ]
  },
  {
   "cell_type": "code",
   "execution_count": 2,
   "metadata": {},
   "outputs": [],
   "source": [
    "URL_DOWNLOAD = 'ftp://ftp.ibge.gov.br/Censos/Censo_Demografico_2010/Resultados_do_Universo/Agregados_por_Setores_Censitarios/'"
   ]
  },
  {
   "cell_type": "code",
   "execution_count": 3,
   "metadata": {},
   "outputs": [
    {
     "data": {
      "text/plain": [
       "'221 Goodbye.'"
      ]
     },
     "execution_count": 3,
     "metadata": {},
     "output_type": "execute_result"
    }
   ],
   "source": [
    "ftp = FTP('ftp.ibge.gov.br')\n",
    "ftp.login()\n",
    "ftp.cwd('Censos/Censo_Demografico_2010/Resultados_do_Universo/Agregados_por_Setores_Censitarios/')\n",
    "files = ftp.nlst()\n",
    "ftp.quit()\n"
   ]
  },
  {
   "cell_type": "code",
   "execution_count": 4,
   "metadata": {},
   "outputs": [
    {
     "data": {
      "text/plain": [
       "['1_Atualizacoes_20200219.txt',\n",
       " 'AC_20171016.zip',\n",
       " 'AL_20171016.zip',\n",
       " 'AM_20171016.zip',\n",
       " 'AP_20171016.zip',\n",
       " 'BA_20171016.zip',\n",
       " 'CE_20171016.zip',\n",
       " 'DF_20171016.zip',\n",
       " 'Documentacao_Agregado_dos_Setores_20180416.zip',\n",
       " 'ES_20171016.zip',\n",
       " 'GO_20171016.zip',\n",
       " 'MA_20171016.zip',\n",
       " 'MG_20171016.zip',\n",
       " 'MS_20171016.zip',\n",
       " 'MT_20171016.zip',\n",
       " 'PA_20171016.zip',\n",
       " 'PB_20171016.zip',\n",
       " 'PE_20200219.zip',\n",
       " 'PI_20171016.zip',\n",
       " 'PR_20171016.zip',\n",
       " 'RJ_20171016.zip',\n",
       " 'RN_20171016.zip',\n",
       " 'RO_20171016.zip',\n",
       " 'RR_20171016.zip',\n",
       " 'RS_20171016.zip',\n",
       " 'SC_20171016.zip',\n",
       " 'SE_20171016.zip',\n",
       " 'SP_Capital_20190823.zip',\n",
       " 'SP_Exceto_a_Capital_20190207.zip',\n",
       " 'TO_20171016.zip']"
      ]
     },
     "execution_count": 4,
     "metadata": {},
     "output_type": "execute_result"
    }
   ],
   "source": [
    "files"
   ]
  },
  {
   "cell_type": "code",
   "execution_count": 5,
   "metadata": {},
   "outputs": [],
   "source": [
    "UFS = [\n",
    "    'AC',\n",
    "    'AL',\n",
    "    'AM',\n",
    "    'AP',\n",
    "    'BA',\n",
    "    'CE',\n",
    "    'DF',\n",
    "    'ES',\n",
    "    'GO',\n",
    "    'MA',\n",
    "    'MG',\n",
    "    'MS',\n",
    "    'MT',\n",
    "    'PA',\n",
    "    'PB',\n",
    "    'PE',\n",
    "    'PI',\n",
    "    'PR',\n",
    "    'RJ',\n",
    "    'RN',\n",
    "    'RO',\n",
    "    'RR',\n",
    "    'RS',\n",
    "    'SC',\n",
    "    'SE',\n",
    "    'SP_Capital',\n",
    "    'SP_Exceto_a_Capital',\n",
    "    'TO'\n",
    "]"
   ]
  },
  {
   "cell_type": "code",
   "execution_count": 6,
   "metadata": {},
   "outputs": [
    {
     "data": {
      "text/plain": [
       "'SP_Capital_20190823.zip'"
      ]
     },
     "execution_count": 6,
     "metadata": {},
     "output_type": "execute_result"
    }
   ],
   "source": [
    "np.array(files)[np.char.startswith(files, 'SP')][0]"
   ]
  },
  {
   "cell_type": "code",
   "execution_count": 7,
   "metadata": {},
   "outputs": [
    {
     "name": "stdout",
     "output_type": "stream",
     "text": [
      "AC_20171016.zip\n",
      "AL_20171016.zip\n",
      "AM_20171016.zip\n",
      "AP_20171016.zip\n",
      "BA_20171016.zip\n",
      "CE_20171016.zip\n",
      "DF_20171016.zip\n",
      "ES_20171016.zip\n",
      "GO_20171016.zip\n",
      "MA_20171016.zip\n",
      "MG_20171016.zip\n",
      "MS_20171016.zip\n",
      "MT_20171016.zip\n",
      "PA_20171016.zip\n",
      "PB_20171016.zip\n",
      "PE_20200219.zip\n",
      "PI_20171016.zip\n",
      "PR_20171016.zip\n",
      "RJ_20171016.zip\n",
      "RN_20171016.zip\n",
      "RO_20171016.zip\n",
      "RR_20171016.zip\n",
      "RS_20171016.zip\n",
      "SC_20171016.zip\n",
      "SE_20171016.zip\n",
      "SP_Capital_20190823.zip\n",
      "SP_Exceto_a_Capital_20190207.zip\n",
      "TO_20171016.zip\n"
     ]
    }
   ],
   "source": [
    "for uf in UFS:\n",
    "    starts_with = np.char.startswith(files, uf)\n",
    "    file = np.array(files)[starts_with][0]\n",
    "    url = f'{URL_DOWNLOAD}/{file}'\n",
    "    file_target = f'data/censo_2010/{uf}.zip'\n",
    "    if not os.path.isfile(file_target):\n",
    "        urllib.request.urlretrieve(url, f'data/censo_2010/{uf}.zip')\n",
    "    print(file) "
   ]
  },
  {
   "cell_type": "code",
   "execution_count": 8,
   "metadata": {},
   "outputs": [
    {
     "name": "stdout",
     "output_type": "stream",
     "text": [
      "Descompactando AC\n",
      "Descompactando AL\n",
      "Descompactando AM\n",
      "Descompactando AP\n",
      "Descompactando BA\n",
      "Descompactando CE\n",
      "Descompactando DF\n",
      "Descompactando ES\n",
      "Descompactando GO\n",
      "Descompactando MA\n",
      "Descompactando MG\n",
      "Descompactando MS\n",
      "Descompactando MT\n",
      "Descompactando PA\n",
      "Descompactando PB\n",
      "Descompactando PE\n",
      "Descompactando PI\n",
      "Descompactando PR\n",
      "Descompactando RJ\n",
      "Descompactando RN\n",
      "Descompactando RO\n",
      "Descompactando RR\n",
      "Descompactando RS\n",
      "Descompactando SC\n",
      "Descompactando SE\n",
      "Descompactando SP_Capital\n",
      "Descompactando SP_Exceto_a_Capital\n",
      "Descompactando TO\n"
     ]
    }
   ],
   "source": [
    "for uf in UFS:\n",
    "    print(f'Descompactando {uf}')\n",
    "    folder = f'data/censo_2010/csvs'\n",
    "    check_folder = os.path.isdir(folder)\n",
    "    if not check_folder:\n",
    "        os.makedirs(folder)\n",
    "    os.makedirs('temp')\n",
    "    with zipfile.ZipFile(f'data/censo_2010/{uf}.zip', 'r') as zip_ref:\n",
    "        zip_ref.extractall('temp/')\n",
    "        csv_files = glob.glob(f'temp/**/*.csv', recursive=True)\n",
    "        for f in csv_files:\n",
    "            shutil.copyfile(f, f'{folder}/{f.split(\"/\")[-1]}')\n",
    "    shutil.rmtree('temp')\n",
    "    # break"
   ]
  },
  {
   "cell_type": "code",
   "execution_count": 9,
   "metadata": {},
   "outputs": [
    {
     "data": {
      "text/plain": [
       "[None, None]"
      ]
     },
     "execution_count": 9,
     "metadata": {},
     "output_type": "execute_result"
    }
   ],
   "source": [
    "## Arrumando nomes de arquivos SP2\n",
    "[os.rename(f, '_'.join(f.split('_')[:2]) + '_SP2.csv') for f in glob.glob('data/censo_2010/csvs/*sp2.csv')]"
   ]
  },
  {
   "cell_type": "code",
   "execution_count": 10,
   "metadata": {},
   "outputs": [
    {
     "data": {
      "text/plain": [
       "[None,\n",
       " None,\n",
       " None,\n",
       " None,\n",
       " None,\n",
       " None,\n",
       " None,\n",
       " None,\n",
       " None,\n",
       " None,\n",
       " None,\n",
       " None,\n",
       " None,\n",
       " None]"
      ]
     },
     "execution_count": 10,
     "metadata": {},
     "output_type": "execute_result"
    }
   ],
   "source": [
    "[os.rename(f, f.replace('SP', 'SP2')) for f in glob.glob('data/censo_2010/csvs/*SP.csv')]"
   ]
  },
  {
   "cell_type": "code",
   "execution_count": 11,
   "metadata": {},
   "outputs": [
    {
     "data": {
      "text/plain": [
       "[None, None]"
      ]
     },
     "execution_count": 11,
     "metadata": {},
     "output_type": "execute_result"
    }
   ],
   "source": [
    "[os.rename(f, f.replace('responsavel', 'Responsavel')) for f in glob.glob('data/censo_2010/csvs/responsavel*.csv')]"
   ]
  },
  {
   "cell_type": "code",
   "execution_count": null,
   "metadata": {},
   "outputs": [],
   "source": []
  }
 ],
 "metadata": {
  "kernelspec": {
   "display_name": "dash",
   "language": "python",
   "name": "python3"
  },
  "language_info": {
   "codemirror_mode": {
    "name": "ipython",
    "version": 3
   },
   "file_extension": ".py",
   "mimetype": "text/x-python",
   "name": "python",
   "nbconvert_exporter": "python",
   "pygments_lexer": "ipython3",
   "version": "3.9.12"
  },
  "orig_nbformat": 4
 },
 "nbformat": 4,
 "nbformat_minor": 2
}
