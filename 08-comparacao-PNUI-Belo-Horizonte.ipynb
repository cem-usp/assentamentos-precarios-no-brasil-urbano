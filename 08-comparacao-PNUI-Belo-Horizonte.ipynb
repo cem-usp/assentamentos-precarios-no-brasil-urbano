{
 "cells": [
  {
   "cell_type": "code",
   "execution_count": 12,
   "metadata": {},
   "outputs": [],
   "source": [
    "import pandas as pd\n",
    "import geopandas as gpd"
   ]
  },
  {
   "cell_type": "code",
   "execution_count": 13,
   "metadata": {},
   "outputs": [],
   "source": [
    "gdf_MG = gpd.read_file('data/censo_2010/mg_setores_censitarios.zip')"
   ]
  },
  {
   "cell_type": "code",
   "execution_count": null,
   "metadata": {},
   "outputs": [],
   "source": []
  },
  {
   "cell_type": "code",
   "execution_count": 14,
   "metadata": {},
   "outputs": [],
   "source": [
    "# # Codigo do municipio de São Paulo 3106200\n",
    "# gdf_bh = gdf_MG[gdf_MG.CD_GEOCODM == '3106200'].reset_index()"
   ]
  },
  {
   "cell_type": "code",
   "execution_count": 15,
   "metadata": {},
   "outputs": [],
   "source": [
    "# gdf_sp.loc[:, 'Cod_setor'] = \n",
    "gdf_MG.loc[:, 'Cod_setor'] = gdf_MG.loc[:, 'CD_GEOCODI'].astype(str).astype(int)"
   ]
  },
  {
   "cell_type": "code",
   "execution_count": 16,
   "metadata": {},
   "outputs": [],
   "source": [
    "gdf_MG.set_index('Cod_setor', inplace=True)"
   ]
  },
  {
   "cell_type": "code",
   "execution_count": 17,
   "metadata": {},
   "outputs": [
    {
     "name": "stderr",
     "output_type": "stream",
     "text": [
      "/tmp/ipykernel_85158/2015228504.py:1: DtypeWarning: Columns (3) have mixed types. Specify dtype option on import or set low_memory=False.\n",
      "  df = pd.read_csv('resultados/modelo_preditivo.csv.zip').set_index('Cod_setor')\n"
     ]
    }
   ],
   "source": [
    "df = pd.read_csv('resultados/modelo_preditivo.csv.zip').set_index('Cod_setor')"
   ]
  },
  {
   "cell_type": "code",
   "execution_count": 18,
   "metadata": {},
   "outputs": [],
   "source": [
    "rmbh = (df.rm == 16)"
   ]
  },
  {
   "cell_type": "code",
   "execution_count": 19,
   "metadata": {},
   "outputs": [
    {
     "data": {
      "text/plain": [
       "Cod_setor\n",
       "120001305000001    False\n",
       "120001305000002    False\n",
       "120001305000003    False\n",
       "120001305000004    False\n",
       "120001305000005    False\n",
       "                   ...  \n",
       "170210905000098    False\n",
       "170210905000099    False\n",
       "170210905000100    False\n",
       "170210905000101    False\n",
       "170210905000102    False\n",
       "Name: rm, Length: 310120, dtype: bool"
      ]
     },
     "execution_count": 19,
     "metadata": {},
     "output_type": "execute_result"
    }
   ],
   "source": [
    "rmbh"
   ]
  },
  {
   "cell_type": "code",
   "execution_count": 20,
   "metadata": {},
   "outputs": [],
   "source": [
    "gdf_rmbh_joinned = gdf_MG.join(df[rmbh], how='right')"
   ]
  },
  {
   "cell_type": "code",
   "execution_count": 21,
   "metadata": {},
   "outputs": [
    {
     "data": {
      "text/plain": [
       "0.0    7496\n",
       "1.0    1027\n",
       "Name: subnormal_LDA, dtype: int64"
      ]
     },
     "execution_count": 21,
     "metadata": {},
     "output_type": "execute_result"
    }
   ],
   "source": [
    "gdf_rmbh_joinned.subnormal_LDA.value_counts()"
   ]
  },
  {
   "cell_type": "code",
   "execution_count": 22,
   "metadata": {},
   "outputs": [],
   "source": [
    "gdf_rmbh_joinned.to_file('resultados/premilinar-municipio-rmbh.gpkg', driver='GPKG')"
   ]
  },
  {
   "cell_type": "code",
   "execution_count": null,
   "metadata": {},
   "outputs": [],
   "source": []
  }
 ],
 "metadata": {
  "kernelspec": {
   "display_name": "geo",
   "language": "python",
   "name": "python3"
  },
  "language_info": {
   "codemirror_mode": {
    "name": "ipython",
    "version": 3
   },
   "file_extension": ".py",
   "mimetype": "text/x-python",
   "name": "python",
   "nbconvert_exporter": "python",
   "pygments_lexer": "ipython3",
   "version": "3.8.12"
  },
  "orig_nbformat": 4
 },
 "nbformat": 4,
 "nbformat_minor": 2
}
