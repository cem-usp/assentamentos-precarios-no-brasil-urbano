{
 "cells": [
  {
   "cell_type": "code",
   "execution_count": 1,
   "metadata": {},
   "outputs": [
    {
     "name": "stderr",
     "output_type": "stream",
     "text": [
      "/home/feromes/miniconda3/envs/geo/lib/python3.8/site-packages/geopandas/_compat.py:111: UserWarning: The Shapely GEOS version (3.8.0-CAPI-1.13.1 ) is incompatible with the GEOS version PyGEOS was compiled with (3.10.1-CAPI-1.16.0). Conversions between both will be slow.\n",
      "  warnings.warn(\n"
     ]
    }
   ],
   "source": [
    "import geopandas as gpd\n",
    "import pandas as pd\n",
    "import glob"
   ]
  },
  {
   "cell_type": "code",
   "execution_count": 2,
   "metadata": {},
   "outputs": [],
   "source": [
    "# Downloado dos dados da malha censitária de 2010\n",
    "#\n",
    "\n",
    "# Download das geometrias da malha censitária de 2000\n",
    "# https://github.com/bplmp/shapefiles-setores-censitarios-censo-2000/tree/master"
   ]
  },
  {
   "cell_type": "code",
   "execution_count": 3,
   "metadata": {},
   "outputs": [],
   "source": [
    "setores = glob.glob(\"data/censo_2000/*_setores_censitarios.zip\")"
   ]
  },
  {
   "cell_type": "code",
   "execution_count": 4,
   "metadata": {},
   "outputs": [
    {
     "data": {
      "text/plain": [
       "['data/censo_2000/ro_setores_censitarios.zip',\n",
       " 'data/censo_2000/al_setores_censitarios.zip',\n",
       " 'data/censo_2000/ap_setores_censitarios.zip',\n",
       " 'data/censo_2000/rr_setores_censitarios.zip',\n",
       " 'data/censo_2000/ac_setores_censitarios.zip',\n",
       " 'data/censo_2000/ms_setores_censitarios.zip',\n",
       " 'data/censo_2000/go_setores_censitarios.zip',\n",
       " 'data/censo_2000/pa_setores_censitarios.zip',\n",
       " 'data/censo_2000/pe_setores_censitarios.zip',\n",
       " 'data/censo_2000/rs_setores_censitarios.zip',\n",
       " 'data/censo_2000/ma_setores_censitarios.zip',\n",
       " 'data/censo_2000/to_setores_censitarios.zip',\n",
       " 'data/censo_2000/ce_setores_censitarios.zip',\n",
       " 'data/censo_2000/sp_setores_censitarios.zip',\n",
       " 'data/censo_2000/pb_setores_censitarios.zip',\n",
       " 'data/censo_2000/am_setores_censitarios.zip',\n",
       " 'data/censo_2000/rj_setores_censitarios.zip',\n",
       " 'data/censo_2000/pr_setores_censitarios.zip',\n",
       " 'data/censo_2000/pi_setores_censitarios.zip',\n",
       " 'data/censo_2000/df_setores_censitarios.zip',\n",
       " 'data/censo_2000/sc_setores_censitarios.zip',\n",
       " 'data/censo_2000/es_setores_censitarios.zip',\n",
       " 'data/censo_2000/mg_setores_censitarios.zip',\n",
       " 'data/censo_2000/ba_setores_censitarios.zip',\n",
       " 'data/censo_2000/mt_setores_censitarios.zip',\n",
       " 'data/censo_2000/rn_setores_censitarios.zip',\n",
       " 'data/censo_2000/se_setores_censitarios.zip']"
      ]
     },
     "execution_count": 4,
     "metadata": {},
     "output_type": "execute_result"
    }
   ],
   "source": [
    "setores"
   ]
  },
  {
   "cell_type": "code",
   "execution_count": 5,
   "metadata": {},
   "outputs": [],
   "source": [
    "areas = []\n",
    "gdfs = []\n",
    "\n",
    "for setor in setores:\n",
    "    gdf_uf = gpd.read_file(setor)\n",
    "    gdf_uf.to_crs(epsg=\"5880\", inplace=True)\n",
    "    gdf_uf.loc[:, 'area_do_setor'] = gdf_uf.area\n",
    "    gdfs.append(gdf_uf)\n",
    "    areas.append(gdf_uf.loc[:, ['CD_GEOCODI', 'area_do_setor']])\n",
    "    # break"
   ]
  },
  {
   "cell_type": "code",
   "execution_count": 6,
   "metadata": {},
   "outputs": [],
   "source": [
    "gdf_setores_br = pd.concat(gdfs)"
   ]
  },
  {
   "cell_type": "code",
   "execution_count": 7,
   "metadata": {},
   "outputs": [
    {
     "data": {
      "text/plain": [
       "(316574, 16)"
      ]
     },
     "execution_count": 7,
     "metadata": {},
     "output_type": "execute_result"
    }
   ],
   "source": [
    "gdf_setores_br.shape"
   ]
  },
  {
   "cell_type": "code",
   "execution_count": 8,
   "metadata": {},
   "outputs": [
    {
     "data": {
      "text/html": [
       "<div>\n",
       "<style scoped>\n",
       "    .dataframe tbody tr th:only-of-type {\n",
       "        vertical-align: middle;\n",
       "    }\n",
       "\n",
       "    .dataframe tbody tr th {\n",
       "        vertical-align: top;\n",
       "    }\n",
       "\n",
       "    .dataframe thead th {\n",
       "        text-align: right;\n",
       "    }\n",
       "</style>\n",
       "<table border=\"1\" class=\"dataframe\">\n",
       "  <thead>\n",
       "    <tr style=\"text-align: right;\">\n",
       "      <th></th>\n",
       "      <th>ID</th>\n",
       "      <th>CD_GEOCODI</th>\n",
       "      <th>TIPO</th>\n",
       "      <th>CD_GEOCODB</th>\n",
       "      <th>NM_BAIRRO</th>\n",
       "      <th>CD_GEOCODS</th>\n",
       "      <th>NM_SUBDIST</th>\n",
       "      <th>CD_GEOCODD</th>\n",
       "      <th>NM_DISTRIT</th>\n",
       "      <th>CD_GEOCODM</th>\n",
       "      <th>NM_MUNICIP</th>\n",
       "      <th>NM_MICRO</th>\n",
       "      <th>NM_MESO</th>\n",
       "      <th>geometry</th>\n",
       "      <th>area_do_setor</th>\n",
       "      <th>ID1</th>\n",
       "    </tr>\n",
       "  </thead>\n",
       "  <tbody>\n",
       "    <tr>\n",
       "      <th>0</th>\n",
       "      <td>17182.0</td>\n",
       "      <td>110009812000003</td>\n",
       "      <td>RURAL</td>\n",
       "      <td>None</td>\n",
       "      <td>None</td>\n",
       "      <td>11000981200</td>\n",
       "      <td>None</td>\n",
       "      <td>110009812</td>\n",
       "      <td>NOVO PARAÍSO</td>\n",
       "      <td>1100098</td>\n",
       "      <td>ESPIGÃO D'OESTE</td>\n",
       "      <td>CACOAL</td>\n",
       "      <td>LESTE RONDONIENSE</td>\n",
       "      <td>POLYGON ((4247367.130 8735338.452, 4247388.230...</td>\n",
       "      <td>1.191899e+08</td>\n",
       "      <td>NaN</td>\n",
       "    </tr>\n",
       "    <tr>\n",
       "      <th>1</th>\n",
       "      <td>17183.0</td>\n",
       "      <td>110009815000001</td>\n",
       "      <td>URBANO</td>\n",
       "      <td>None</td>\n",
       "      <td>None</td>\n",
       "      <td>11000981500</td>\n",
       "      <td>None</td>\n",
       "      <td>110009815</td>\n",
       "      <td>FLOR DA SERRA</td>\n",
       "      <td>1100098</td>\n",
       "      <td>ESPIGÃO D'OESTE</td>\n",
       "      <td>CACOAL</td>\n",
       "      <td>LESTE RONDONIENSE</td>\n",
       "      <td>POLYGON ((4263388.469 8730722.399, 4263484.078...</td>\n",
       "      <td>6.478010e+05</td>\n",
       "      <td>NaN</td>\n",
       "    </tr>\n",
       "    <tr>\n",
       "      <th>2</th>\n",
       "      <td>17184.0</td>\n",
       "      <td>110009815000002</td>\n",
       "      <td>RURAL</td>\n",
       "      <td>None</td>\n",
       "      <td>None</td>\n",
       "      <td>11000981500</td>\n",
       "      <td>None</td>\n",
       "      <td>110009815</td>\n",
       "      <td>FLOR DA SERRA</td>\n",
       "      <td>1100098</td>\n",
       "      <td>ESPIGÃO D'OESTE</td>\n",
       "      <td>CACOAL</td>\n",
       "      <td>LESTE RONDONIENSE</td>\n",
       "      <td>POLYGON ((4265475.644 8735506.466, 4265510.344...</td>\n",
       "      <td>1.742784e+08</td>\n",
       "      <td>NaN</td>\n",
       "    </tr>\n",
       "    <tr>\n",
       "      <th>3</th>\n",
       "      <td>17185.0</td>\n",
       "      <td>110009815000003</td>\n",
       "      <td>RURAL</td>\n",
       "      <td>None</td>\n",
       "      <td>None</td>\n",
       "      <td>11000981500</td>\n",
       "      <td>None</td>\n",
       "      <td>110009815</td>\n",
       "      <td>FLOR DA SERRA</td>\n",
       "      <td>1100098</td>\n",
       "      <td>ESPIGÃO D'OESTE</td>\n",
       "      <td>CACOAL</td>\n",
       "      <td>LESTE RONDONIENSE</td>\n",
       "      <td>POLYGON ((4244745.922 8742111.062, 4244993.522...</td>\n",
       "      <td>2.962791e+08</td>\n",
       "      <td>NaN</td>\n",
       "    </tr>\n",
       "    <tr>\n",
       "      <th>4</th>\n",
       "      <td>17186.0</td>\n",
       "      <td>110009815000004</td>\n",
       "      <td>RURAL</td>\n",
       "      <td>None</td>\n",
       "      <td>None</td>\n",
       "      <td>11000981500</td>\n",
       "      <td>None</td>\n",
       "      <td>110009815</td>\n",
       "      <td>FLOR DA SERRA</td>\n",
       "      <td>1100098</td>\n",
       "      <td>ESPIGÃO D'OESTE</td>\n",
       "      <td>CACOAL</td>\n",
       "      <td>LESTE RONDONIENSE</td>\n",
       "      <td>POLYGON ((4269841.950 8732652.065, 4269859.650...</td>\n",
       "      <td>1.517830e+08</td>\n",
       "      <td>NaN</td>\n",
       "    </tr>\n",
       "    <tr>\n",
       "      <th>...</th>\n",
       "      <td>...</td>\n",
       "      <td>...</td>\n",
       "      <td>...</td>\n",
       "      <td>...</td>\n",
       "      <td>...</td>\n",
       "      <td>...</td>\n",
       "      <td>...</td>\n",
       "      <td>...</td>\n",
       "      <td>...</td>\n",
       "      <td>...</td>\n",
       "      <td>...</td>\n",
       "      <td>...</td>\n",
       "      <td>...</td>\n",
       "      <td>...</td>\n",
       "      <td>...</td>\n",
       "      <td>...</td>\n",
       "    </tr>\n",
       "    <tr>\n",
       "      <th>3311</th>\n",
       "      <td>59717.0</td>\n",
       "      <td>280760005000030</td>\n",
       "      <td>URBANO</td>\n",
       "      <td>None</td>\n",
       "      <td>None</td>\n",
       "      <td>28076000500</td>\n",
       "      <td>None</td>\n",
       "      <td>280760005</td>\n",
       "      <td>UMBAÚBA</td>\n",
       "      <td>2807600</td>\n",
       "      <td>UMBAÚBA</td>\n",
       "      <td>BOQUIM</td>\n",
       "      <td>LESTE SERGIPANO</td>\n",
       "      <td>POLYGON ((6782278.055 8690474.777, 6782273.601...</td>\n",
       "      <td>1.027160e+05</td>\n",
       "      <td>NaN</td>\n",
       "    </tr>\n",
       "    <tr>\n",
       "      <th>3312</th>\n",
       "      <td>59718.0</td>\n",
       "      <td>280760005000031</td>\n",
       "      <td>URBANO</td>\n",
       "      <td>None</td>\n",
       "      <td>None</td>\n",
       "      <td>28076000500</td>\n",
       "      <td>None</td>\n",
       "      <td>280760005</td>\n",
       "      <td>UMBAÚBA</td>\n",
       "      <td>2807600</td>\n",
       "      <td>UMBAÚBA</td>\n",
       "      <td>BOQUIM</td>\n",
       "      <td>LESTE SERGIPANO</td>\n",
       "      <td>POLYGON ((6781484.945 8691502.846, 6781485.831...</td>\n",
       "      <td>6.230987e+04</td>\n",
       "      <td>NaN</td>\n",
       "    </tr>\n",
       "    <tr>\n",
       "      <th>3313</th>\n",
       "      <td>59719.0</td>\n",
       "      <td>280760005000032</td>\n",
       "      <td>URBANO</td>\n",
       "      <td>None</td>\n",
       "      <td>None</td>\n",
       "      <td>28076000500</td>\n",
       "      <td>None</td>\n",
       "      <td>280760005</td>\n",
       "      <td>UMBAÚBA</td>\n",
       "      <td>2807600</td>\n",
       "      <td>UMBAÚBA</td>\n",
       "      <td>BOQUIM</td>\n",
       "      <td>LESTE SERGIPANO</td>\n",
       "      <td>POLYGON ((6782229.282 8692045.779, 6782231.253...</td>\n",
       "      <td>6.312372e+05</td>\n",
       "      <td>NaN</td>\n",
       "    </tr>\n",
       "    <tr>\n",
       "      <th>3314</th>\n",
       "      <td>59720.0</td>\n",
       "      <td>280760005000033</td>\n",
       "      <td>URBANO</td>\n",
       "      <td>None</td>\n",
       "      <td>None</td>\n",
       "      <td>28076000500</td>\n",
       "      <td>None</td>\n",
       "      <td>280760005</td>\n",
       "      <td>UMBAÚBA</td>\n",
       "      <td>2807600</td>\n",
       "      <td>UMBAÚBA</td>\n",
       "      <td>BOQUIM</td>\n",
       "      <td>LESTE SERGIPANO</td>\n",
       "      <td>POLYGON ((6783041.106 8691159.359, 6783041.174...</td>\n",
       "      <td>4.819123e+04</td>\n",
       "      <td>NaN</td>\n",
       "    </tr>\n",
       "    <tr>\n",
       "      <th>3315</th>\n",
       "      <td>59721.0</td>\n",
       "      <td>280760005000028</td>\n",
       "      <td>RURAL</td>\n",
       "      <td>None</td>\n",
       "      <td>None</td>\n",
       "      <td>28076000500</td>\n",
       "      <td>None</td>\n",
       "      <td>280760005</td>\n",
       "      <td>UMBAÚBA</td>\n",
       "      <td>2807600</td>\n",
       "      <td>UMBAÚBA</td>\n",
       "      <td>BOQUIM</td>\n",
       "      <td>LESTE SERGIPANO</td>\n",
       "      <td>MULTIPOLYGON (((6781228.321 8691642.253, 67812...</td>\n",
       "      <td>1.225431e+07</td>\n",
       "      <td>NaN</td>\n",
       "    </tr>\n",
       "  </tbody>\n",
       "</table>\n",
       "<p>316574 rows × 16 columns</p>\n",
       "</div>"
      ],
      "text/plain": [
       "           ID       CD_GEOCODI    TIPO CD_GEOCODB NM_BAIRRO   CD_GEOCODS  \\\n",
       "0     17182.0  110009812000003   RURAL       None      None  11000981200   \n",
       "1     17183.0  110009815000001  URBANO       None      None  11000981500   \n",
       "2     17184.0  110009815000002   RURAL       None      None  11000981500   \n",
       "3     17185.0  110009815000003   RURAL       None      None  11000981500   \n",
       "4     17186.0  110009815000004   RURAL       None      None  11000981500   \n",
       "...       ...              ...     ...        ...       ...          ...   \n",
       "3311  59717.0  280760005000030  URBANO       None      None  28076000500   \n",
       "3312  59718.0  280760005000031  URBANO       None      None  28076000500   \n",
       "3313  59719.0  280760005000032  URBANO       None      None  28076000500   \n",
       "3314  59720.0  280760005000033  URBANO       None      None  28076000500   \n",
       "3315  59721.0  280760005000028   RURAL       None      None  28076000500   \n",
       "\n",
       "     NM_SUBDIST CD_GEOCODD     NM_DISTRIT CD_GEOCODM       NM_MUNICIP  \\\n",
       "0          None  110009812   NOVO PARAÍSO    1100098  ESPIGÃO D'OESTE   \n",
       "1          None  110009815  FLOR DA SERRA    1100098  ESPIGÃO D'OESTE   \n",
       "2          None  110009815  FLOR DA SERRA    1100098  ESPIGÃO D'OESTE   \n",
       "3          None  110009815  FLOR DA SERRA    1100098  ESPIGÃO D'OESTE   \n",
       "4          None  110009815  FLOR DA SERRA    1100098  ESPIGÃO D'OESTE   \n",
       "...         ...        ...            ...        ...              ...   \n",
       "3311       None  280760005        UMBAÚBA    2807600          UMBAÚBA   \n",
       "3312       None  280760005        UMBAÚBA    2807600          UMBAÚBA   \n",
       "3313       None  280760005        UMBAÚBA    2807600          UMBAÚBA   \n",
       "3314       None  280760005        UMBAÚBA    2807600          UMBAÚBA   \n",
       "3315       None  280760005        UMBAÚBA    2807600          UMBAÚBA   \n",
       "\n",
       "     NM_MICRO            NM_MESO  \\\n",
       "0      CACOAL  LESTE RONDONIENSE   \n",
       "1      CACOAL  LESTE RONDONIENSE   \n",
       "2      CACOAL  LESTE RONDONIENSE   \n",
       "3      CACOAL  LESTE RONDONIENSE   \n",
       "4      CACOAL  LESTE RONDONIENSE   \n",
       "...       ...                ...   \n",
       "3311   BOQUIM    LESTE SERGIPANO   \n",
       "3312   BOQUIM    LESTE SERGIPANO   \n",
       "3313   BOQUIM    LESTE SERGIPANO   \n",
       "3314   BOQUIM    LESTE SERGIPANO   \n",
       "3315   BOQUIM    LESTE SERGIPANO   \n",
       "\n",
       "                                               geometry  area_do_setor  ID1  \n",
       "0     POLYGON ((4247367.130 8735338.452, 4247388.230...   1.191899e+08  NaN  \n",
       "1     POLYGON ((4263388.469 8730722.399, 4263484.078...   6.478010e+05  NaN  \n",
       "2     POLYGON ((4265475.644 8735506.466, 4265510.344...   1.742784e+08  NaN  \n",
       "3     POLYGON ((4244745.922 8742111.062, 4244993.522...   2.962791e+08  NaN  \n",
       "4     POLYGON ((4269841.950 8732652.065, 4269859.650...   1.517830e+08  NaN  \n",
       "...                                                 ...            ...  ...  \n",
       "3311  POLYGON ((6782278.055 8690474.777, 6782273.601...   1.027160e+05  NaN  \n",
       "3312  POLYGON ((6781484.945 8691502.846, 6781485.831...   6.230987e+04  NaN  \n",
       "3313  POLYGON ((6782229.282 8692045.779, 6782231.253...   6.312372e+05  NaN  \n",
       "3314  POLYGON ((6783041.106 8691159.359, 6783041.174...   4.819123e+04  NaN  \n",
       "3315  MULTIPOLYGON (((6781228.321 8691642.253, 67812...   1.225431e+07  NaN  \n",
       "\n",
       "[316574 rows x 16 columns]"
      ]
     },
     "execution_count": 8,
     "metadata": {},
     "output_type": "execute_result"
    }
   ],
   "source": [
    "gdf_setores_br"
   ]
  },
  {
   "cell_type": "code",
   "execution_count": 9,
   "metadata": {},
   "outputs": [
    {
     "name": "stderr",
     "output_type": "stream",
     "text": [
      "/home/feromes/miniconda3/envs/geo/lib/python3.8/site-packages/geopandas/io/file.py:362: FutureWarning: pandas.Int64Index is deprecated and will be removed from pandas in a future version. Use pandas.Index with the appropriate dtype instead.\n",
      "  pd.Int64Index,\n"
     ]
    }
   ],
   "source": [
    "gdf_setores_br.to_file('data/censo_2000/BR_Setores_2000.gpkg', driver='GPKG')"
   ]
  },
  {
   "cell_type": "code",
   "execution_count": 10,
   "metadata": {},
   "outputs": [],
   "source": [
    "pd.concat(areas).set_index('CD_GEOCODI').to_csv('resultados/area_dos_setores_2000.zip')"
   ]
  },
  {
   "cell_type": "code",
   "execution_count": 11,
   "metadata": {},
   "outputs": [
    {
     "data": {
      "text/plain": [
       "CD_GEOCODI         int64\n",
       "area_do_setor    float64\n",
       "dtype: object"
      ]
     },
     "execution_count": 11,
     "metadata": {},
     "output_type": "execute_result"
    }
   ],
   "source": [
    "pd.read_csv('resultados/area_dos_setores_2000.zip').dtypes"
   ]
  },
  {
   "cell_type": "code",
   "execution_count": 6,
   "metadata": {},
   "outputs": [],
   "source": [
    "ufs = glob.glob(\"data/censo_2010/*_municipios.zip\")"
   ]
  },
  {
   "cell_type": "code",
   "execution_count": 10,
   "metadata": {},
   "outputs": [
    {
     "data": {
      "text/plain": [
       "27"
      ]
     },
     "execution_count": 10,
     "metadata": {},
     "output_type": "execute_result"
    }
   ],
   "source": [
    "len(ufs)"
   ]
  },
  {
   "cell_type": "code",
   "execution_count": 11,
   "metadata": {},
   "outputs": [],
   "source": [
    "# # Trabalhando os distritos\n",
    "# # ufs = []\n",
    "# gdfs = []\n",
    "\n",
    "# for uf in ufs:\n",
    "#     gdf_uf = gpd.read_file(uf, encoding='ISO-8859-15')\n",
    "#     gdf_uf.to_crs(epsg=\"4674\", inplace=True)\n",
    "#     # gdf_uf.loc[:, 'area_do_setor'] = gdf_uf.area\n",
    "#     gdfs.append(gdf_uf)\n",
    "#     # break"
   ]
  },
  {
   "cell_type": "code",
   "execution_count": 12,
   "metadata": {},
   "outputs": [],
   "source": [
    "# gdf_distritos = pd.concat(gdfs)"
   ]
  },
  {
   "cell_type": "code",
   "execution_count": 14,
   "metadata": {},
   "outputs": [
    {
     "name": "stderr",
     "output_type": "stream",
     "text": [
      "/home/feromes/miniconda3/envs/geo/lib/python3.8/site-packages/geopandas/io/file.py:362: FutureWarning: pandas.Int64Index is deprecated and will be removed from pandas in a future version. Use pandas.Index with the appropriate dtype instead.\n",
      "  pd.Int64Index,\n"
     ]
    }
   ],
   "source": [
    "# gdf_distritos.to_file('data/censo_2010/municipios.gpkg', driver='GPKG')"
   ]
  },
  {
   "cell_type": "code",
   "execution_count": null,
   "metadata": {},
   "outputs": [],
   "source": []
  }
 ],
 "metadata": {
  "kernelspec": {
   "display_name": "geo",
   "language": "python",
   "name": "python3"
  },
  "language_info": {
   "codemirror_mode": {
    "name": "ipython",
    "version": 3
   },
   "file_extension": ".py",
   "mimetype": "text/x-python",
   "name": "python",
   "nbconvert_exporter": "python",
   "pygments_lexer": "ipython3",
   "version": "3.8.12"
  },
  "orig_nbformat": 4
 },
 "nbformat": 4,
 "nbformat_minor": 2
}
