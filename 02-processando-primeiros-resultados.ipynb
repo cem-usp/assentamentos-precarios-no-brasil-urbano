{
 "cells": [
  {
   "cell_type": "code",
   "execution_count": 1,
   "metadata": {},
   "outputs": [],
   "source": [
    "import pandas as pd\n",
    "import geopandas as gpd\n",
    "import numpy as np\n",
    "import seaborn as sns\n",
    "# from sklearn.cross_decomposition import CCA\n",
    "from sklearn.preprocessing import Normalizer\n",
    "from sklearn.discriminant_analysis import LinearDiscriminantAnalysis\n",
    "from sklearn.metrics import confusion_matrix\n",
    "# https://scikit-learn.org/stable/modules/generated/sklearn.discriminant_analysis.LinearDiscriminantAnalysis.html"
   ]
  },
  {
   "cell_type": "code",
   "execution_count": 2,
   "metadata": {},
   "outputs": [
    {
     "name": "stderr",
     "output_type": "stream",
     "text": [
      "/tmp/ipykernel_87669/3539471951.py:1: DtypeWarning: Columns (2) have mixed types. Specify dtype option on import or set low_memory=False.\n",
      "  df = pd.read_csv('resultados/modelo.csv.zip')\n"
     ]
    }
   ],
   "source": [
    "df = pd.read_csv('resultados/modelo.csv.zip')"
   ]
  },
  {
   "cell_type": "code",
   "execution_count": 3,
   "metadata": {},
   "outputs": [],
   "source": [
    "df.fillna(0, inplace=True)"
   ]
  },
  {
   "cell_type": "code",
   "execution_count": 4,
   "metadata": {},
   "outputs": [
    {
     "data": {
      "text/plain": [
       "tipo_do_setor\n",
       "0.0    290193\n",
       "1.0     15815\n",
       "8.0      2001\n",
       "5.0      1211\n",
       "7.0       475\n",
       "6.0       315\n",
       "2.0        58\n",
       "3.0        49\n",
       "4.0         3\n",
       "Name: count, dtype: int64"
      ]
     },
     "execution_count": 4,
     "metadata": {},
     "output_type": "execute_result"
    }
   ],
   "source": [
    "df.tipo_do_setor.value_counts()\n",
    "\n",
    "    # 0 - Setor comum ou não especial\n",
    "    # 1 -Setor especial de aglomerado subnormal\n",
    "    # 2 - Setor especial quartéis, bases militares, etc.\n",
    "    # 3 - Setor especial de alojamento, acampamentos, etc.\n",
    "    # 4 - Setor especial de embarcações, barcos, navios, etc.\n",
    "    # 5 - Setor especial de aldeia indígena\n",
    "    # 6 - Setor especial de penitenciárias, colônias penais, presídios, cadeias, etc.\n",
    "    # 7 - Setor especial de asilos, orfanatos, conventos, hospitais, etc.\n",
    "    # 8 - Setor especial de projetos de assentamentos rurais\n"
   ]
  },
  {
   "cell_type": "code",
   "execution_count": 5,
   "metadata": {},
   "outputs": [],
   "source": [
    "# Fazendo um teste com RMSP\n",
    "# RMSP é RM n. 20"
   ]
  },
  {
   "cell_type": "code",
   "execution_count": 6,
   "metadata": {},
   "outputs": [],
   "source": [
    "rmsp = (df.rm == 20)\n",
    "subnormal = (df.tipo_do_setor == 1)"
   ]
  },
  {
   "cell_type": "code",
   "execution_count": 7,
   "metadata": {},
   "outputs": [],
   "source": [
    "# df.columns\n",
    "df.loc[:, 'subnormal'] = 0"
   ]
  },
  {
   "cell_type": "code",
   "execution_count": 8,
   "metadata": {},
   "outputs": [],
   "source": [
    "df.loc[subnormal, 'subnormal'] = 1"
   ]
  },
  {
   "cell_type": "code",
   "execution_count": 9,
   "metadata": {},
   "outputs": [
    {
     "data": {
      "text/plain": [
       "subnormal\n",
       "0    26709\n",
       "1     3234\n",
       "Name: count, dtype: int64"
      ]
     },
     "execution_count": 9,
     "metadata": {},
     "output_type": "execute_result"
    }
   ],
   "source": [
    "df.loc[rmsp].subnormal.value_counts()"
   ]
  },
  {
   "cell_type": "code",
   "execution_count": 10,
   "metadata": {},
   "outputs": [],
   "source": [
    "dimensoes = [\n",
    "    'situacao_setor',\n",
    "    'porcentagem_domicilios_sem_coleta_de_lixo',\n",
    "    'porcentagem_domicilios_sem_ligacao_rede_de_agua',\n",
    "    'porcentagem_domicilios_sem_banheiros',\n",
    "    'porcentagem_domicilios_sem_esgoto_ou_fossa',\n",
    "    # # 'porcentagem_domicilios_tipo_comodo',\n",
    "    'porcentagem_domicilios_cedidos_outra_forma',\n",
    "    'porcentagem_domicilios_em_outra_condicao_de_ocupacao',\n",
    "    'numero_de_banheiros_por_habitante',\n",
    "    'porcentagem_responsaveis_nao_alfabetizado',\n",
    "    'porcentagem_responsaveis_nao_alfabetizado_com_menos_de_30_anos',\n",
    "    'porcentagem_responsaveis_renda_ate_3_salarios',\n",
    "    # # 'porcentagem_responsaveis_menos_8_anos_de_estudo',\n",
    "    # # 'anos_medios_estudo_responsavel',\n",
    "    'renda_media_responsavel',\n",
    "    'numero_de_domicilios_particulares_permanentes',\n",
    "    'numero_de_domicilios_improvisados',\n",
    "    'numero_de_pessoas_residentes',\n",
    "    'porcentagem_de_responsaveis_com_menos_30_anos',\n",
    "    'numero_medio_pessoas',\n",
    "    # 'area_do_setor',\n",
    "    'densidade_populacional',\n",
    "    'densidade_domicilios'\n",
    "]"
   ]
  },
  {
   "cell_type": "code",
   "execution_count": 11,
   "metadata": {},
   "outputs": [
    {
     "data": {
      "text/plain": [
       "19"
      ]
     },
     "execution_count": 11,
     "metadata": {},
     "output_type": "execute_result"
    }
   ],
   "source": [
    "len(dimensoes)"
   ]
  },
  {
   "cell_type": "code",
   "execution_count": 12,
   "metadata": {},
   "outputs": [],
   "source": [
    "x = df.loc[(rmsp) & (subnormal)]"
   ]
  },
  {
   "cell_type": "code",
   "execution_count": 13,
   "metadata": {},
   "outputs": [
    {
     "data": {
      "text/plain": [
       "(3234, 33)"
      ]
     },
     "execution_count": 13,
     "metadata": {},
     "output_type": "execute_result"
    }
   ],
   "source": [
    "x.shape"
   ]
  },
  {
   "cell_type": "code",
   "execution_count": 14,
   "metadata": {},
   "outputs": [],
   "source": [
    "samples = df.loc[rmsp & (df.loc[rmsp].subnormal == 1)].shape[0]"
   ]
  },
  {
   "cell_type": "code",
   "execution_count": 15,
   "metadata": {},
   "outputs": [],
   "source": [
    "x_ = df.loc[(rmsp) & (~subnormal)].sample(n=samples*2, random_state=51)"
   ]
  },
  {
   "cell_type": "code",
   "execution_count": 16,
   "metadata": {},
   "outputs": [
    {
     "data": {
      "text/plain": [
       "(9702, 33)"
      ]
     },
     "execution_count": 16,
     "metadata": {},
     "output_type": "execute_result"
    }
   ],
   "source": [
    "pd.concat([x, x_]).shape"
   ]
  },
  {
   "cell_type": "code",
   "execution_count": 17,
   "metadata": {},
   "outputs": [],
   "source": [
    "X = pd.concat([x, x_]).loc[(rmsp), dimensoes]"
   ]
  },
  {
   "cell_type": "code",
   "execution_count": 18,
   "metadata": {},
   "outputs": [],
   "source": [
    "y = pd.concat([x, x_]).loc[(rmsp), 'subnormal']"
   ]
  },
  {
   "cell_type": "code",
   "execution_count": 19,
   "metadata": {},
   "outputs": [
    {
     "data": {
      "text/plain": [
       "subnormal\n",
       "0    6468\n",
       "1    3234\n",
       "Name: count, dtype: int64"
      ]
     },
     "execution_count": 19,
     "metadata": {},
     "output_type": "execute_result"
    }
   ],
   "source": [
    "y.value_counts()"
   ]
  },
  {
   "cell_type": "code",
   "execution_count": 20,
   "metadata": {},
   "outputs": [],
   "source": [
    "# sns.pairplot(X, corner=True)"
   ]
  },
  {
   "cell_type": "code",
   "execution_count": 21,
   "metadata": {},
   "outputs": [
    {
     "data": {
      "text/html": [
       "<style>#sk-container-id-1 {color: black;background-color: white;}#sk-container-id-1 pre{padding: 0;}#sk-container-id-1 div.sk-toggleable {background-color: white;}#sk-container-id-1 label.sk-toggleable__label {cursor: pointer;display: block;width: 100%;margin-bottom: 0;padding: 0.3em;box-sizing: border-box;text-align: center;}#sk-container-id-1 label.sk-toggleable__label-arrow:before {content: \"▸\";float: left;margin-right: 0.25em;color: #696969;}#sk-container-id-1 label.sk-toggleable__label-arrow:hover:before {color: black;}#sk-container-id-1 div.sk-estimator:hover label.sk-toggleable__label-arrow:before {color: black;}#sk-container-id-1 div.sk-toggleable__content {max-height: 0;max-width: 0;overflow: hidden;text-align: left;background-color: #f0f8ff;}#sk-container-id-1 div.sk-toggleable__content pre {margin: 0.2em;color: black;border-radius: 0.25em;background-color: #f0f8ff;}#sk-container-id-1 input.sk-toggleable__control:checked~div.sk-toggleable__content {max-height: 200px;max-width: 100%;overflow: auto;}#sk-container-id-1 input.sk-toggleable__control:checked~label.sk-toggleable__label-arrow:before {content: \"▾\";}#sk-container-id-1 div.sk-estimator input.sk-toggleable__control:checked~label.sk-toggleable__label {background-color: #d4ebff;}#sk-container-id-1 div.sk-label input.sk-toggleable__control:checked~label.sk-toggleable__label {background-color: #d4ebff;}#sk-container-id-1 input.sk-hidden--visually {border: 0;clip: rect(1px 1px 1px 1px);clip: rect(1px, 1px, 1px, 1px);height: 1px;margin: -1px;overflow: hidden;padding: 0;position: absolute;width: 1px;}#sk-container-id-1 div.sk-estimator {font-family: monospace;background-color: #f0f8ff;border: 1px dotted black;border-radius: 0.25em;box-sizing: border-box;margin-bottom: 0.5em;}#sk-container-id-1 div.sk-estimator:hover {background-color: #d4ebff;}#sk-container-id-1 div.sk-parallel-item::after {content: \"\";width: 100%;border-bottom: 1px solid gray;flex-grow: 1;}#sk-container-id-1 div.sk-label:hover label.sk-toggleable__label {background-color: #d4ebff;}#sk-container-id-1 div.sk-serial::before {content: \"\";position: absolute;border-left: 1px solid gray;box-sizing: border-box;top: 0;bottom: 0;left: 50%;z-index: 0;}#sk-container-id-1 div.sk-serial {display: flex;flex-direction: column;align-items: center;background-color: white;padding-right: 0.2em;padding-left: 0.2em;position: relative;}#sk-container-id-1 div.sk-item {position: relative;z-index: 1;}#sk-container-id-1 div.sk-parallel {display: flex;align-items: stretch;justify-content: center;background-color: white;position: relative;}#sk-container-id-1 div.sk-item::before, #sk-container-id-1 div.sk-parallel-item::before {content: \"\";position: absolute;border-left: 1px solid gray;box-sizing: border-box;top: 0;bottom: 0;left: 50%;z-index: -1;}#sk-container-id-1 div.sk-parallel-item {display: flex;flex-direction: column;z-index: 1;position: relative;background-color: white;}#sk-container-id-1 div.sk-parallel-item:first-child::after {align-self: flex-end;width: 50%;}#sk-container-id-1 div.sk-parallel-item:last-child::after {align-self: flex-start;width: 50%;}#sk-container-id-1 div.sk-parallel-item:only-child::after {width: 0;}#sk-container-id-1 div.sk-dashed-wrapped {border: 1px dashed gray;margin: 0 0.4em 0.5em 0.4em;box-sizing: border-box;padding-bottom: 0.4em;background-color: white;}#sk-container-id-1 div.sk-label label {font-family: monospace;font-weight: bold;display: inline-block;line-height: 1.2em;}#sk-container-id-1 div.sk-label-container {text-align: center;}#sk-container-id-1 div.sk-container {/* jupyter's `normalize.less` sets `[hidden] { display: none; }` but bootstrap.min.css set `[hidden] { display: none !important; }` so we also need the `!important` here to be able to override the default hidden behavior on the sphinx rendered scikit-learn.org. See: https://github.com/scikit-learn/scikit-learn/issues/21755 */display: inline-block !important;position: relative;}#sk-container-id-1 div.sk-text-repr-fallback {display: none;}</style><div id=\"sk-container-id-1\" class=\"sk-top-container\"><div class=\"sk-text-repr-fallback\"><pre>LinearDiscriminantAnalysis(solver=&#x27;lsqr&#x27;)</pre><b>In a Jupyter environment, please rerun this cell to show the HTML representation or trust the notebook. <br />On GitHub, the HTML representation is unable to render, please try loading this page with nbviewer.org.</b></div><div class=\"sk-container\" hidden><div class=\"sk-item\"><div class=\"sk-estimator sk-toggleable\"><input class=\"sk-toggleable__control sk-hidden--visually\" id=\"sk-estimator-id-1\" type=\"checkbox\" checked><label for=\"sk-estimator-id-1\" class=\"sk-toggleable__label sk-toggleable__label-arrow\">LinearDiscriminantAnalysis</label><div class=\"sk-toggleable__content\"><pre>LinearDiscriminantAnalysis(solver=&#x27;lsqr&#x27;)</pre></div></div></div></div></div>"
      ],
      "text/plain": [
       "LinearDiscriminantAnalysis(solver='lsqr')"
      ]
     },
     "execution_count": 21,
     "metadata": {},
     "output_type": "execute_result"
    }
   ],
   "source": [
    "clf = LinearDiscriminantAnalysis(solver='lsqr')\n",
    "clf.fit(X, y)"
   ]
  },
  {
   "cell_type": "code",
   "execution_count": 22,
   "metadata": {},
   "outputs": [
    {
     "data": {
      "text/plain": [
       "(array([0, 1]), array([6743, 2959]))"
      ]
     },
     "execution_count": 22,
     "metadata": {},
     "output_type": "execute_result"
    }
   ],
   "source": [
    "np.unique(clf.predict(X), return_counts=True)"
   ]
  },
  {
   "cell_type": "code",
   "execution_count": 23,
   "metadata": {},
   "outputs": [
    {
     "data": {
      "text/plain": [
       "0.8593073593073594"
      ]
     },
     "execution_count": 23,
     "metadata": {},
     "output_type": "execute_result"
    }
   ],
   "source": [
    "clf.score(X, y)"
   ]
  },
  {
   "cell_type": "code",
   "execution_count": 24,
   "metadata": {},
   "outputs": [],
   "source": [
    "cf_matrix = confusion_matrix(y, clf.predict(X))"
   ]
  },
  {
   "cell_type": "code",
   "execution_count": 25,
   "metadata": {},
   "outputs": [
    {
     "data": {
      "text/plain": [
       "array([[5923,  545],\n",
       "       [ 820, 2414]])"
      ]
     },
     "execution_count": 25,
     "metadata": {},
     "output_type": "execute_result"
    }
   ],
   "source": [
    "cf_matrix"
   ]
  },
  {
   "cell_type": "code",
   "execution_count": 26,
   "metadata": {},
   "outputs": [
    {
     "data": {
      "text/plain": [
       "<Axes: >"
      ]
     },
     "execution_count": 26,
     "metadata": {},
     "output_type": "execute_result"
    },
    {
     "data": {
      "image/png": "[encoded data removed]",
      "text/plain": [
       "<Figure size 640x480 with 2 Axes>"
      ]
     },
     "metadata": {},
     "output_type": "display_data"
    }
   ],
   "source": [
    "import seaborn as sns\n",
    "sns.heatmap(cf_matrix, annot=True, fmt='0', cmap='Blues')"
   ]
  },
  {
   "cell_type": "code",
   "execution_count": 27,
   "metadata": {},
   "outputs": [
    {
     "data": {
      "text/plain": [
       "array([0, 0, 0, ..., 0, 0, 0])"
      ]
     },
     "execution_count": 27,
     "metadata": {},
     "output_type": "execute_result"
    }
   ],
   "source": [
    "clf.predict(df.loc[(rmsp), dimensoes])"
   ]
  },
  {
   "cell_type": "code",
   "execution_count": 28,
   "metadata": {},
   "outputs": [
    {
     "data": {
      "text/plain": [
       "(array([0, 1]), array([25245,  4698]))"
      ]
     },
     "execution_count": 28,
     "metadata": {},
     "output_type": "execute_result"
    }
   ],
   "source": [
    "np.unique(clf.predict(df.loc[(rmsp), dimensoes]), return_counts=True)"
   ]
  },
  {
   "cell_type": "code",
   "execution_count": 29,
   "metadata": {},
   "outputs": [],
   "source": [
    "# clf.get_params()"
   ]
  },
  {
   "cell_type": "code",
   "execution_count": 30,
   "metadata": {},
   "outputs": [],
   "source": [
    "df.loc[(rmsp), 'predicted'] = clf.predict(df.loc[(rmsp), dimensoes])"
   ]
  },
  {
   "cell_type": "code",
   "execution_count": 31,
   "metadata": {},
   "outputs": [
    {
     "data": {
      "text/html": [
       "<div>\n",
       "<style scoped>\n",
       "    .dataframe tbody tr th:only-of-type {\n",
       "        vertical-align: middle;\n",
       "    }\n",
       "\n",
       "    .dataframe tbody tr th {\n",
       "        vertical-align: top;\n",
       "    }\n",
       "\n",
       "    .dataframe thead th {\n",
       "        text-align: right;\n",
       "    }\n",
       "</style>\n",
       "<table border=\"1\" class=\"dataframe\">\n",
       "  <thead>\n",
       "    <tr style=\"text-align: right;\">\n",
       "      <th></th>\n",
       "      <th>Cod_setor</th>\n",
       "      <th>cod_grande_regiao</th>\n",
       "      <th>uf</th>\n",
       "      <th>nome_UF</th>\n",
       "      <th>rm</th>\n",
       "      <th>nome_rm</th>\n",
       "      <th>meso_regiao</th>\n",
       "      <th>cod_municipio</th>\n",
       "      <th>nome_municipio</th>\n",
       "      <th>situacao_setor</th>\n",
       "      <th>...</th>\n",
       "      <th>renda_media_responsavel</th>\n",
       "      <th>numero_de_domicilios_particulares_permanentes</th>\n",
       "      <th>numero_de_domicilios_improvisados</th>\n",
       "      <th>numero_de_pessoas_residentes</th>\n",
       "      <th>porcentagem_de_responsaveis_com_menos_30_anos</th>\n",
       "      <th>numero_medio_pessoas</th>\n",
       "      <th>densidade_populacional</th>\n",
       "      <th>densidade_domicilios</th>\n",
       "      <th>subnormal</th>\n",
       "      <th>predicted</th>\n",
       "    </tr>\n",
       "  </thead>\n",
       "  <tbody>\n",
       "    <tr>\n",
       "      <th>242228</th>\n",
       "      <td>355030803000112</td>\n",
       "      <td>3.0</td>\n",
       "      <td>35</td>\n",
       "      <td>SP1</td>\n",
       "      <td>20.0</td>\n",
       "      <td>RM São Paulo</td>\n",
       "      <td>3515.0</td>\n",
       "      <td>3550308.0</td>\n",
       "      <td>SÃO PAULO</td>\n",
       "      <td>1.0</td>\n",
       "      <td>...</td>\n",
       "      <td>1042.688679</td>\n",
       "      <td>102</td>\n",
       "      <td>4.0</td>\n",
       "      <td>376.0</td>\n",
       "      <td>0.198113</td>\n",
       "      <td>3.686275</td>\n",
       "      <td>0.036002</td>\n",
       "      <td>0.009767</td>\n",
       "      <td>1</td>\n",
       "      <td>1.0</td>\n",
       "    </tr>\n",
       "    <tr>\n",
       "      <th>242229</th>\n",
       "      <td>355030803000113</td>\n",
       "      <td>3.0</td>\n",
       "      <td>35</td>\n",
       "      <td>SP1</td>\n",
       "      <td>20.0</td>\n",
       "      <td>RM São Paulo</td>\n",
       "      <td>3515.0</td>\n",
       "      <td>3550308.0</td>\n",
       "      <td>SÃO PAULO</td>\n",
       "      <td>1.0</td>\n",
       "      <td>...</td>\n",
       "      <td>1429.807692</td>\n",
       "      <td>78</td>\n",
       "      <td>0.0</td>\n",
       "      <td>248.0</td>\n",
       "      <td>0.179487</td>\n",
       "      <td>3.179487</td>\n",
       "      <td>0.032539</td>\n",
       "      <td>0.010234</td>\n",
       "      <td>1</td>\n",
       "      <td>1.0</td>\n",
       "    </tr>\n",
       "    <tr>\n",
       "      <th>242230</th>\n",
       "      <td>355030803000114</td>\n",
       "      <td>3.0</td>\n",
       "      <td>35</td>\n",
       "      <td>SP1</td>\n",
       "      <td>20.0</td>\n",
       "      <td>RM São Paulo</td>\n",
       "      <td>3515.0</td>\n",
       "      <td>3550308.0</td>\n",
       "      <td>SÃO PAULO</td>\n",
       "      <td>1.0</td>\n",
       "      <td>...</td>\n",
       "      <td>2890.532086</td>\n",
       "      <td>373</td>\n",
       "      <td>1.0</td>\n",
       "      <td>1191.0</td>\n",
       "      <td>0.211230</td>\n",
       "      <td>3.193029</td>\n",
       "      <td>0.104252</td>\n",
       "      <td>0.032650</td>\n",
       "      <td>1</td>\n",
       "      <td>0.0</td>\n",
       "    </tr>\n",
       "    <tr>\n",
       "      <th>242231</th>\n",
       "      <td>355030803000115</td>\n",
       "      <td>3.0</td>\n",
       "      <td>35</td>\n",
       "      <td>SP1</td>\n",
       "      <td>20.0</td>\n",
       "      <td>RM São Paulo</td>\n",
       "      <td>3515.0</td>\n",
       "      <td>3550308.0</td>\n",
       "      <td>SÃO PAULO</td>\n",
       "      <td>1.0</td>\n",
       "      <td>...</td>\n",
       "      <td>1206.738710</td>\n",
       "      <td>310</td>\n",
       "      <td>0.0</td>\n",
       "      <td>1019.0</td>\n",
       "      <td>0.287097</td>\n",
       "      <td>3.287097</td>\n",
       "      <td>0.047381</td>\n",
       "      <td>0.014414</td>\n",
       "      <td>1</td>\n",
       "      <td>1.0</td>\n",
       "    </tr>\n",
       "    <tr>\n",
       "      <th>242232</th>\n",
       "      <td>355030803000116</td>\n",
       "      <td>3.0</td>\n",
       "      <td>35</td>\n",
       "      <td>SP1</td>\n",
       "      <td>20.0</td>\n",
       "      <td>RM São Paulo</td>\n",
       "      <td>3515.0</td>\n",
       "      <td>3550308.0</td>\n",
       "      <td>SÃO PAULO</td>\n",
       "      <td>1.0</td>\n",
       "      <td>...</td>\n",
       "      <td>862.845588</td>\n",
       "      <td>130</td>\n",
       "      <td>6.0</td>\n",
       "      <td>479.0</td>\n",
       "      <td>0.154412</td>\n",
       "      <td>3.684615</td>\n",
       "      <td>0.094330</td>\n",
       "      <td>0.025601</td>\n",
       "      <td>1</td>\n",
       "      <td>1.0</td>\n",
       "    </tr>\n",
       "    <tr>\n",
       "      <th>...</th>\n",
       "      <td>...</td>\n",
       "      <td>...</td>\n",
       "      <td>...</td>\n",
       "      <td>...</td>\n",
       "      <td>...</td>\n",
       "      <td>...</td>\n",
       "      <td>...</td>\n",
       "      <td>...</td>\n",
       "      <td>...</td>\n",
       "      <td>...</td>\n",
       "      <td>...</td>\n",
       "      <td>...</td>\n",
       "      <td>...</td>\n",
       "      <td>...</td>\n",
       "      <td>...</td>\n",
       "      <td>...</td>\n",
       "      <td>...</td>\n",
       "      <td>...</td>\n",
       "      <td>...</td>\n",
       "      <td>...</td>\n",
       "      <td>...</td>\n",
       "    </tr>\n",
       "    <tr>\n",
       "      <th>305265</th>\n",
       "      <td>355280905000267</td>\n",
       "      <td>3.0</td>\n",
       "      <td>SP</td>\n",
       "      <td>SP2</td>\n",
       "      <td>20.0</td>\n",
       "      <td>RM São Paulo</td>\n",
       "      <td>3515.0</td>\n",
       "      <td>3552809.0</td>\n",
       "      <td>TABOÃO DA SERRA</td>\n",
       "      <td>1.0</td>\n",
       "      <td>...</td>\n",
       "      <td>1101.300000</td>\n",
       "      <td>230</td>\n",
       "      <td>0.0</td>\n",
       "      <td>868.0</td>\n",
       "      <td>0.169565</td>\n",
       "      <td>3.773913</td>\n",
       "      <td>0.019520</td>\n",
       "      <td>0.005172</td>\n",
       "      <td>1</td>\n",
       "      <td>1.0</td>\n",
       "    </tr>\n",
       "    <tr>\n",
       "      <th>305266</th>\n",
       "      <td>355280905000268</td>\n",
       "      <td>3.0</td>\n",
       "      <td>SP</td>\n",
       "      <td>SP2</td>\n",
       "      <td>20.0</td>\n",
       "      <td>RM São Paulo</td>\n",
       "      <td>3515.0</td>\n",
       "      <td>3552809.0</td>\n",
       "      <td>TABOÃO DA SERRA</td>\n",
       "      <td>1.0</td>\n",
       "      <td>...</td>\n",
       "      <td>1091.910345</td>\n",
       "      <td>290</td>\n",
       "      <td>0.0</td>\n",
       "      <td>1023.0</td>\n",
       "      <td>0.220690</td>\n",
       "      <td>3.527586</td>\n",
       "      <td>0.028032</td>\n",
       "      <td>0.007946</td>\n",
       "      <td>1</td>\n",
       "      <td>1.0</td>\n",
       "    </tr>\n",
       "    <tr>\n",
       "      <th>305267</th>\n",
       "      <td>355280905000269</td>\n",
       "      <td>3.0</td>\n",
       "      <td>SP</td>\n",
       "      <td>SP2</td>\n",
       "      <td>20.0</td>\n",
       "      <td>RM São Paulo</td>\n",
       "      <td>3515.0</td>\n",
       "      <td>3552809.0</td>\n",
       "      <td>TABOÃO DA SERRA</td>\n",
       "      <td>1.0</td>\n",
       "      <td>...</td>\n",
       "      <td>1510.217877</td>\n",
       "      <td>179</td>\n",
       "      <td>0.0</td>\n",
       "      <td>690.0</td>\n",
       "      <td>0.167598</td>\n",
       "      <td>3.854749</td>\n",
       "      <td>0.021757</td>\n",
       "      <td>0.005644</td>\n",
       "      <td>1</td>\n",
       "      <td>0.0</td>\n",
       "    </tr>\n",
       "    <tr>\n",
       "      <th>305268</th>\n",
       "      <td>355280905000270</td>\n",
       "      <td>3.0</td>\n",
       "      <td>SP</td>\n",
       "      <td>SP2</td>\n",
       "      <td>20.0</td>\n",
       "      <td>RM São Paulo</td>\n",
       "      <td>3515.0</td>\n",
       "      <td>3552809.0</td>\n",
       "      <td>TABOÃO DA SERRA</td>\n",
       "      <td>1.0</td>\n",
       "      <td>...</td>\n",
       "      <td>1314.503546</td>\n",
       "      <td>141</td>\n",
       "      <td>0.0</td>\n",
       "      <td>553.0</td>\n",
       "      <td>0.241135</td>\n",
       "      <td>3.921986</td>\n",
       "      <td>0.008531</td>\n",
       "      <td>0.002175</td>\n",
       "      <td>1</td>\n",
       "      <td>1.0</td>\n",
       "    </tr>\n",
       "    <tr>\n",
       "      <th>305269</th>\n",
       "      <td>355280905000271</td>\n",
       "      <td>3.0</td>\n",
       "      <td>SP</td>\n",
       "      <td>SP2</td>\n",
       "      <td>20.0</td>\n",
       "      <td>RM São Paulo</td>\n",
       "      <td>3515.0</td>\n",
       "      <td>3552809.0</td>\n",
       "      <td>TABOÃO DA SERRA</td>\n",
       "      <td>1.0</td>\n",
       "      <td>...</td>\n",
       "      <td>1090.620192</td>\n",
       "      <td>208</td>\n",
       "      <td>0.0</td>\n",
       "      <td>768.0</td>\n",
       "      <td>0.254808</td>\n",
       "      <td>3.692308</td>\n",
       "      <td>0.021407</td>\n",
       "      <td>0.005798</td>\n",
       "      <td>1</td>\n",
       "      <td>0.0</td>\n",
       "    </tr>\n",
       "  </tbody>\n",
       "</table>\n",
       "<p>3234 rows × 34 columns</p>\n",
       "</div>"
      ],
      "text/plain": [
       "              Cod_setor  cod_grande_regiao  uf nome_UF    rm       nome_rm  \\\n",
       "242228  355030803000112                3.0  35     SP1  20.0  RM São Paulo   \n",
       "242229  355030803000113                3.0  35     SP1  20.0  RM São Paulo   \n",
       "242230  355030803000114                3.0  35     SP1  20.0  RM São Paulo   \n",
       "242231  355030803000115                3.0  35     SP1  20.0  RM São Paulo   \n",
       "242232  355030803000116                3.0  35     SP1  20.0  RM São Paulo   \n",
       "...                 ...                ...  ..     ...   ...           ...   \n",
       "305265  355280905000267                3.0  SP     SP2  20.0  RM São Paulo   \n",
       "305266  355280905000268                3.0  SP     SP2  20.0  RM São Paulo   \n",
       "305267  355280905000269                3.0  SP     SP2  20.0  RM São Paulo   \n",
       "305268  355280905000270                3.0  SP     SP2  20.0  RM São Paulo   \n",
       "305269  355280905000271                3.0  SP     SP2  20.0  RM São Paulo   \n",
       "\n",
       "        meso_regiao  cod_municipio   nome_municipio  situacao_setor  ...  \\\n",
       "242228       3515.0      3550308.0        SÃO PAULO             1.0  ...   \n",
       "242229       3515.0      3550308.0        SÃO PAULO             1.0  ...   \n",
       "242230       3515.0      3550308.0        SÃO PAULO             1.0  ...   \n",
       "242231       3515.0      3550308.0        SÃO PAULO             1.0  ...   \n",
       "242232       3515.0      3550308.0        SÃO PAULO             1.0  ...   \n",
       "...             ...            ...              ...             ...  ...   \n",
       "305265       3515.0      3552809.0  TABOÃO DA SERRA             1.0  ...   \n",
       "305266       3515.0      3552809.0  TABOÃO DA SERRA             1.0  ...   \n",
       "305267       3515.0      3552809.0  TABOÃO DA SERRA             1.0  ...   \n",
       "305268       3515.0      3552809.0  TABOÃO DA SERRA             1.0  ...   \n",
       "305269       3515.0      3552809.0  TABOÃO DA SERRA             1.0  ...   \n",
       "\n",
       "        renda_media_responsavel  \\\n",
       "242228              1042.688679   \n",
       "242229              1429.807692   \n",
       "242230              2890.532086   \n",
       "242231              1206.738710   \n",
       "242232               862.845588   \n",
       "...                         ...   \n",
       "305265              1101.300000   \n",
       "305266              1091.910345   \n",
       "305267              1510.217877   \n",
       "305268              1314.503546   \n",
       "305269              1090.620192   \n",
       "\n",
       "        numero_de_domicilios_particulares_permanentes  \\\n",
       "242228                                            102   \n",
       "242229                                             78   \n",
       "242230                                            373   \n",
       "242231                                            310   \n",
       "242232                                            130   \n",
       "...                                               ...   \n",
       "305265                                            230   \n",
       "305266                                            290   \n",
       "305267                                            179   \n",
       "305268                                            141   \n",
       "305269                                            208   \n",
       "\n",
       "        numero_de_domicilios_improvisados  numero_de_pessoas_residentes  \\\n",
       "242228                                4.0                         376.0   \n",
       "242229                                0.0                         248.0   \n",
       "242230                                1.0                        1191.0   \n",
       "242231                                0.0                        1019.0   \n",
       "242232                                6.0                         479.0   \n",
       "...                                   ...                           ...   \n",
       "305265                                0.0                         868.0   \n",
       "305266                                0.0                        1023.0   \n",
       "305267                                0.0                         690.0   \n",
       "305268                                0.0                         553.0   \n",
       "305269                                0.0                         768.0   \n",
       "\n",
       "        porcentagem_de_responsaveis_com_menos_30_anos  numero_medio_pessoas  \\\n",
       "242228                                       0.198113              3.686275   \n",
       "242229                                       0.179487              3.179487   \n",
       "242230                                       0.211230              3.193029   \n",
       "242231                                       0.287097              3.287097   \n",
       "242232                                       0.154412              3.684615   \n",
       "...                                               ...                   ...   \n",
       "305265                                       0.169565              3.773913   \n",
       "305266                                       0.220690              3.527586   \n",
       "305267                                       0.167598              3.854749   \n",
       "305268                                       0.241135              3.921986   \n",
       "305269                                       0.254808              3.692308   \n",
       "\n",
       "        densidade_populacional  densidade_domicilios  subnormal  predicted  \n",
       "242228                0.036002              0.009767          1        1.0  \n",
       "242229                0.032539              0.010234          1        1.0  \n",
       "242230                0.104252              0.032650          1        0.0  \n",
       "242231                0.047381              0.014414          1        1.0  \n",
       "242232                0.094330              0.025601          1        1.0  \n",
       "...                        ...                   ...        ...        ...  \n",
       "305265                0.019520              0.005172          1        1.0  \n",
       "305266                0.028032              0.007946          1        1.0  \n",
       "305267                0.021757              0.005644          1        0.0  \n",
       "305268                0.008531              0.002175          1        1.0  \n",
       "305269                0.021407              0.005798          1        0.0  \n",
       "\n",
       "[3234 rows x 34 columns]"
      ]
     },
     "execution_count": 31,
     "metadata": {},
     "output_type": "execute_result"
    }
   ],
   "source": [
    "df.loc[(rmsp) & (subnormal)]"
   ]
  },
  {
   "cell_type": "code",
   "execution_count": 32,
   "metadata": {},
   "outputs": [
    {
     "data": {
      "text/plain": [
       "subnormal\n",
       "0    294305\n",
       "1     15815\n",
       "Name: count, dtype: int64"
      ]
     },
     "execution_count": 32,
     "metadata": {},
     "output_type": "execute_result"
    }
   ],
   "source": [
    "df.subnormal.value_counts()"
   ]
  },
  {
   "cell_type": "code",
   "execution_count": null,
   "metadata": {},
   "outputs": [],
   "source": []
  }
 ],
 "metadata": {
  "kernelspec": {
   "display_name": "geo",
   "language": "python",
   "name": "python3"
  },
  "language_info": {
   "codemirror_mode": {
    "name": "ipython",
    "version": 3
   },
   "file_extension": ".py",
   "mimetype": "text/x-python",
   "name": "python",
   "nbconvert_exporter": "python",
   "pygments_lexer": "ipython3",
   "version": "3.11.3"
  },
  "orig_nbformat": 4
 },
 "nbformat": 4,
 "nbformat_minor": 2
}
