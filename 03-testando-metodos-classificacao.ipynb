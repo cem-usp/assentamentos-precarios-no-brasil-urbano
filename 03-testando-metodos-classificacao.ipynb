{
 "cells": [
  {
   "cell_type": "code",
   "execution_count": 1,
   "metadata": {},
   "outputs": [],
   "source": [
    "import pandas as pd\n",
    "import geopandas as gpd\n",
    "import numpy as np\n",
    "from sklearn.preprocessing import Normalizer\n",
    "from sklearn.ensemble import RandomForestClassifier\n",
    "from sklearn.svm import LinearSVC\n",
    "from sklearn.svm import SVC\n",
    "from sklearn.metrics import confusion_matrix"
   ]
  },
  {
   "cell_type": "code",
   "execution_count": 2,
   "metadata": {},
   "outputs": [
    {
     "name": "stderr",
     "output_type": "stream",
     "text": [
      "/tmp/ipykernel_77146/1804806534.py:1: DtypeWarning: Columns (2) have mixed types. Specify dtype option on import or set low_memory=False.\n",
      "  df = pd.read_csv('resultados/modelo.csv.zip')\n"
     ]
    }
   ],
   "source": [
    "df = pd.read_csv('resultados/modelo.csv.zip')\n",
    "df.fillna(0, inplace=True)\n",
    "rmsp = (df.rm == 20)\n",
    "subnormal = (df.tipo_do_setor == 1)\n",
    "df.loc[:, 'subnormal'] = 0\n",
    "df.loc[subnormal, 'subnormal'] = 1"
   ]
  },
  {
   "cell_type": "code",
   "execution_count": 3,
   "metadata": {},
   "outputs": [],
   "source": [
    "dimensoes = [\n",
    "    'situacao_setor',\n",
    "    'porcentagem_domicilios_sem_coleta_de_lixo',\n",
    "    'porcentagem_domicilios_sem_ligacao_rede_de_agua',\n",
    "    'porcentagem_domicilios_sem_banheiros',\n",
    "    'porcentagem_domicilios_sem_esgoto_ou_fossa',\n",
    "    # # 'porcentagem_domicilios_tipo_comodo',\n",
    "    'porcentagem_domicilios_cedidos_outra_forma',\n",
    "    'porcentagem_domicilios_em_outra_condicao_de_ocupacao',\n",
    "    'numero_de_banheiros_por_habitante',\n",
    "    'porcentagem_responsaveis_nao_alfabetizado',\n",
    "    'porcentagem_responsaveis_nao_alfabetizado_com_menos_de_30_anos',\n",
    "    'porcentagem_responsaveis_renda_ate_3_salarios',\n",
    "    # # 'porcentagem_responsaveis_menos_8_anos_de_estudo',\n",
    "    # # 'anos_medios_estudo_responsavel',\n",
    "    'renda_media_responsavel',\n",
    "    'numero_de_domicilios_particulares_permanentes',\n",
    "    'numero_de_domicilios_improvisados',\n",
    "    'numero_de_pessoas_residentes',\n",
    "    'porcentagem_de_responsaveis_com_menos_30_anos',\n",
    "    'numero_medio_pessoas'\n",
    "]"
   ]
  },
  {
   "cell_type": "code",
   "execution_count": 4,
   "metadata": {},
   "outputs": [
    {
     "data": {
      "text/plain": [
       "subnormal\n",
       "0    26709\n",
       "1     3234\n",
       "Name: count, dtype: int64"
      ]
     },
     "execution_count": 4,
     "metadata": {},
     "output_type": "execute_result"
    }
   ],
   "source": [
    "df.loc[rmsp].subnormal.value_counts()"
   ]
  },
  {
   "cell_type": "code",
   "execution_count": 5,
   "metadata": {},
   "outputs": [],
   "source": [
    "samples = df.loc[rmsp & (df.loc[rmsp].subnormal == 1)].shape[0]"
   ]
  },
  {
   "cell_type": "code",
   "execution_count": 6,
   "metadata": {},
   "outputs": [],
   "source": [
    "x = df.loc[(rmsp) & (subnormal)]\n",
    "x_ = df.loc[(rmsp) & (~subnormal)].sample(n=samples, random_state=51)"
   ]
  },
  {
   "cell_type": "code",
   "execution_count": 7,
   "metadata": {},
   "outputs": [
    {
     "data": {
      "text/plain": [
       "(6468, 30)"
      ]
     },
     "execution_count": 7,
     "metadata": {},
     "output_type": "execute_result"
    }
   ],
   "source": [
    "pd.concat([x, x_]).shape"
   ]
  },
  {
   "cell_type": "code",
   "execution_count": 8,
   "metadata": {},
   "outputs": [],
   "source": [
    "X = pd.concat([x, x_]).loc[(rmsp), dimensoes]\n",
    "y = pd.concat([x, x_]).loc[(rmsp), 'subnormal']"
   ]
  },
  {
   "cell_type": "code",
   "execution_count": 9,
   "metadata": {},
   "outputs": [
    {
     "data": {
      "text/plain": [
       "subnormal\n",
       "1    3234\n",
       "0    3234\n",
       "Name: count, dtype: int64"
      ]
     },
     "execution_count": 9,
     "metadata": {},
     "output_type": "execute_result"
    }
   ],
   "source": [
    "y.value_counts()"
   ]
  },
  {
   "cell_type": "code",
   "execution_count": 10,
   "metadata": {},
   "outputs": [
    {
     "data": {
      "text/plain": [
       "0.950834879406308"
      ]
     },
     "execution_count": 10,
     "metadata": {},
     "output_type": "execute_result"
    }
   ],
   "source": [
    "random_forest_clf = RandomForestClassifier(max_depth=10, random_state=0)\n",
    "random_forest_clf.fit(X,y)\n",
    "random_forest_clf.score(X,y)"
   ]
  },
  {
   "cell_type": "code",
   "execution_count": 11,
   "metadata": {},
   "outputs": [],
   "source": [
    "cf_matrix = confusion_matrix(y, random_forest_clf.predict(X))"
   ]
  },
  {
   "cell_type": "code",
   "execution_count": 12,
   "metadata": {},
   "outputs": [
    {
     "data": {
      "text/plain": [
       "<Axes: >"
      ]
     },
     "execution_count": 12,
     "metadata": {},
     "output_type": "execute_result"
    },
    {
     "data": {
      "image/png": "[encoded data removed]",
      "text/plain": [
       "<Figure size 640x480 with 2 Axes>"
      ]
     },
     "metadata": {},
     "output_type": "display_data"
    }
   ],
   "source": [
    "import seaborn as sns\n",
    "sns.heatmap(cf_matrix, annot=True, fmt='0', cmap='Blues')"
   ]
  },
  {
   "cell_type": "code",
   "execution_count": 13,
   "metadata": {},
   "outputs": [
    {
     "data": {
      "text/plain": [
       "(array([0, 1]), array([23295,  6648]))"
      ]
     },
     "execution_count": 13,
     "metadata": {},
     "output_type": "execute_result"
    }
   ],
   "source": [
    "np.unique(random_forest_clf.predict(df.loc[(rmsp), dimensoes]), return_counts=True)"
   ]
  },
  {
   "cell_type": "code",
   "execution_count": 14,
   "metadata": {},
   "outputs": [
    {
     "data": {
      "text/plain": [
       "0.7164502164502164"
      ]
     },
     "execution_count": 14,
     "metadata": {},
     "output_type": "execute_result"
    }
   ],
   "source": [
    "linear_svc_clf = LinearSVC(random_state=0, tol=1e-5)\n",
    "# linear_svc_clf = SVC(gamma='auto')\n",
    "linear_svc_clf.fit(Normalizer().fit_transform(X),y)\n",
    "linear_svc_clf.score(Normalizer().fit_transform(X),y)"
   ]
  },
  {
   "cell_type": "code",
   "execution_count": 15,
   "metadata": {},
   "outputs": [],
   "source": [
    "cf_matrix = confusion_matrix(y, linear_svc_clf.predict(Normalizer().fit_transform(X)))"
   ]
  },
  {
   "cell_type": "code",
   "execution_count": 16,
   "metadata": {},
   "outputs": [
    {
     "data": {
      "text/plain": [
       "<Axes: >"
      ]
     },
     "execution_count": 16,
     "metadata": {},
     "output_type": "execute_result"
    },
    {
     "data": {
      "image/png": "[encoded data removed]",
      "text/plain": [
       "<Figure size 640x480 with 2 Axes>"
      ]
     },
     "metadata": {},
     "output_type": "display_data"
    }
   ],
   "source": [
    "sns.heatmap(cf_matrix, annot=True, fmt='0', cmap='Blues')"
   ]
  },
  {
   "cell_type": "code",
   "execution_count": 17,
   "metadata": {},
   "outputs": [
    {
     "data": {
      "text/plain": [
       "(array([0, 1]), array([20610,  9333]))"
      ]
     },
     "execution_count": 17,
     "metadata": {},
     "output_type": "execute_result"
    }
   ],
   "source": [
    "np.unique(linear_svc_clf.predict(Normalizer().fit_transform(df.loc[(rmsp), dimensoes])), return_counts=True)"
   ]
  },
  {
   "cell_type": "code",
   "execution_count": null,
   "metadata": {},
   "outputs": [],
   "source": []
  }
 ],
 "metadata": {
  "kernelspec": {
   "display_name": "sklearn-env",
   "language": "python",
   "name": "python3"
  },
  "language_info": {
   "codemirror_mode": {
    "name": "ipython",
    "version": 3
   },
   "file_extension": ".py",
   "mimetype": "text/x-python",
   "name": "python",
   "nbconvert_exporter": "python",
   "pygments_lexer": "ipython3",
   "version": "3.11.3"
  },
  "orig_nbformat": 4
 },
 "nbformat": 4,
 "nbformat_minor": 2
}
