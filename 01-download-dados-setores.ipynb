{
 "cells": [
  {
   "cell_type": "code",
   "execution_count": 5,
   "metadata": {},
   "outputs": [
    {
     "data": {
      "text/plain": [
       "'221 Goodbye.'"
      ]
     },
     "execution_count": 5,
     "metadata": {},
     "output_type": "execute_result"
    }
   ],
   "source": [
    "from ftplib import FTP\n",
    "\n",
    "ftp = FTP('ftp.ibge.gov.br')\n",
    "ftp.login()\n",
    "ftp.cwd('Censos/Censo_Demografico_2010/Resultados_do_Universo/Agregados_por_Setores_Censitarios/')\n",
    "files = ftp.nlst()\n",
    "ftp.quit()\n"
   ]
  },
  {
   "cell_type": "code",
   "execution_count": null,
   "metadata": {},
   "outputs": [],
   "source": [
    "UFS = [\n",
    "    'AC',\n",
    "    'AL',\n",
    "    'AM',\n",
    "    'AP',\n",
    "    'BA',\n",
    "    'CE',\n",
    "    'DF',\n",
    "    'ES',\n",
    "    'GO',\n",
    "    'MA',\n",
    "    'MG',\n",
    "    'MS',\n",
    "    'MT',\n",
    "    'PA',\n",
    "    'PB',\n",
    "    'PE',\n",
    "    'PI',\n",
    "    'PR',\n",
    "    'RJ',\n",
    "    'RN',\n",
    "    'RO',\n",
    "    'RR',\n",
    "    'RS',\n",
    "    'SC',\n",
    "    'SE',\n",
    "    'SP_Capital',\n",
    "    'SP_Exceto_a_Capital',\n",
    "    'TO'\n",
    "]"
   ]
  },
  {
   "cell_type": "code",
   "execution_count": 6,
   "metadata": {},
   "outputs": [
    {
     "data": {
      "text/plain": [
       "['1_Atualizacoes_20200219.txt',\n",
       " 'AC_20171016.zip',\n",
       " 'AL_20171016.zip',\n",
       " 'AM_20171016.zip',\n",
       " 'AP_20171016.zip',\n",
       " 'BA_20171016.zip',\n",
       " 'CE_20171016.zip',\n",
       " 'DF_20171016.zip',\n",
       " 'Documentacao_Agregado_dos_Setores_20180416.zip',\n",
       " 'ES_20171016.zip',\n",
       " 'GO_20171016.zip',\n",
       " 'MA_20171016.zip',\n",
       " 'MG_20171016.zip',\n",
       " 'MS_20171016.zip',\n",
       " 'MT_20171016.zip',\n",
       " 'PA_20171016.zip',\n",
       " 'PB_20171016.zip',\n",
       " 'PE_20200219.zip',\n",
       " 'PI_20171016.zip',\n",
       " 'PR_20171016.zip',\n",
       " 'RJ_20171016.zip',\n",
       " 'RN_20171016.zip',\n",
       " 'RO_20171016.zip',\n",
       " 'RR_20171016.zip',\n",
       " 'RS_20171016.zip',\n",
       " 'SC_20171016.zip',\n",
       " 'SE_20171016.zip',\n",
       " 'SP_Capital_20190823.zip',\n",
       " 'SP_Exceto_a_Capital_20190207.zip',\n",
       " 'TO_20171016.zip']"
      ]
     },
     "execution_count": 6,
     "metadata": {},
     "output_type": "execute_result"
    }
   ],
   "source": [
    "files"
   ]
  },
  {
   "cell_type": "code",
   "execution_count": null,
   "metadata": {},
   "outputs": [],
   "source": []
  }
 ],
 "metadata": {
  "kernelspec": {
   "display_name": "dash",
   "language": "python",
   "name": "python3"
  },
  "language_info": {
   "codemirror_mode": {
    "name": "ipython",
    "version": 3
   },
   "file_extension": ".py",
   "mimetype": "text/x-python",
   "name": "python",
   "nbconvert_exporter": "python",
   "pygments_lexer": "ipython3",
   "version": "3.9.12"
  },
  "orig_nbformat": 4
 },
 "nbformat": 4,
 "nbformat_minor": 2
}
