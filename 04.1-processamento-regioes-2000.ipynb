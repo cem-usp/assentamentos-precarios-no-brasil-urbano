{
 "cells": [
  {
   "cell_type": "code",
   "execution_count": 38,
   "metadata": {},
   "outputs": [],
   "source": [
    "import pandas as pd\n",
    "import geopandas as gpd\n",
    "import numpy as np\n",
    "from sklearn.preprocessing import Normalizer\n",
    "from sklearn.ensemble import RandomForestClassifier\n",
    "from sklearn.svm import LinearSVC\n",
    "from sklearn.discriminant_analysis import LinearDiscriminantAnalysis\n",
    "import math"
   ]
  },
  {
   "cell_type": "code",
   "execution_count": 39,
   "metadata": {},
   "outputs": [],
   "source": [
    "dimensoes = [\n",
    "    # 'situacao_setor',#\n",
    "    # 'tipo_setor',#\n",
    "    'numero_de_domicilios',#\n",
    "    'numero_moradores',#\n",
    "    'porcentagem_domicilios_tipo_comodo', #\n",
    "    'porcentagem_domicilios_sem_coleta_de_lixo', #\n",
    "    'porcentagem_domicilios_sem_ligacao_rede_de_agua', #\n",
    "    'porcentagem_domicilios_sem_banheiros', #\n",
    "    'porcentagem_domicilios_sem_esgoto_ou_fossa', #\n",
    "    'porcentagem_domicilios_cedidos_outra_forma', #\n",
    "    'numero_de_banheiros_por_habitante', #\n",
    "    'porcentagem_responsaveis_nao_alfabetizado', #\n",
    "    'porcentagem_responsaveis_nao_alfabetizado_com_menos_de_30_anos', #\n",
    "    'porcentagem_de_responsaveis_com_menos_30_anos', #\n",
    "    'porcentagem_responsaveis_renda_ate_3_salarios', #\n",
    "    'porcentagem_responsaveis_menos_8_anos_de_estudo', #\n",
    "    'anos_medios_estudo_responsavel', #\n",
    "    'renda_media_responsavel', #\n",
    "    'numero_de_domicilios_improvisados', #\n",
    "    'numero_medio_pessoas', #\n",
    "]"
   ]
  },
  {
   "cell_type": "code",
   "execution_count": 40,
   "metadata": {},
   "outputs": [],
   "source": [
    "df = pd.read_csv('resultados/modelo-2000.csv.zip')\n",
    "df.fillna(0, inplace=True)\n",
    "# rmsp = (df.rm == 20)\n",
    "subnormal = (df.tipo_setor == 1)\n",
    "df.loc[:, 'subnormal'] = 0\n",
    "df.loc[subnormal, 'subnormal'] = 1\n",
    "df.loc[:, 'processado'] = False"
   ]
  },
  {
   "cell_type": "code",
   "execution_count": 41,
   "metadata": {},
   "outputs": [
    {
     "data": {
      "text/plain": [
       "tipo_setor\n",
       "0    206570\n",
       "1      7871\n",
       "7       578\n",
       "5       387\n",
       "6       219\n",
       "2        96\n",
       "3        87\n",
       "4         3\n",
       "Name: count, dtype: int64"
      ]
     },
     "execution_count": 41,
     "metadata": {},
     "output_type": "execute_result"
    }
   ],
   "source": [
    "df.tipo_setor.value_counts()"
   ]
  },
  {
   "cell_type": "code",
   "execution_count": 42,
   "metadata": {},
   "outputs": [],
   "source": [
    "r_subnormal = df.loc[(subnormal), ['rm', 'subnormal']].groupby('rm').count().reset_index()\n",
    "cidades_fora_rms = r_subnormal[(r_subnormal.subnormal < 20) | (r_subnormal.rm == 0.)].rm.to_list()\n",
    "rms = r_subnormal[(r_subnormal.subnormal >= 20) & (r_subnormal.rm != 0.)].rm.to_list()"
   ]
  },
  {
   "cell_type": "code",
   "execution_count": 43,
   "metadata": {},
   "outputs": [
    {
     "data": {
      "text/plain": [
       "[1, 2, 3, 5, 6, 7, 8, 10, 13, 14, 15, 16, 17, 26, 27, 28]"
      ]
     },
     "execution_count": 43,
     "metadata": {},
     "output_type": "execute_result"
    }
   ],
   "source": [
    "rms"
   ]
  },
  {
   "cell_type": "code",
   "execution_count": 44,
   "metadata": {},
   "outputs": [
    {
     "data": {
      "text/html": [
       "<div>\n",
       "<style scoped>\n",
       "    .dataframe tbody tr th:only-of-type {\n",
       "        vertical-align: middle;\n",
       "    }\n",
       "\n",
       "    .dataframe tbody tr th {\n",
       "        vertical-align: top;\n",
       "    }\n",
       "\n",
       "    .dataframe thead th {\n",
       "        text-align: right;\n",
       "    }\n",
       "</style>\n",
       "<table border=\"1\" class=\"dataframe\">\n",
       "  <thead>\n",
       "    <tr style=\"text-align: right;\">\n",
       "      <th></th>\n",
       "      <th>nome_rm</th>\n",
       "    </tr>\n",
       "    <tr>\n",
       "      <th>rm</th>\n",
       "      <th></th>\n",
       "    </tr>\n",
       "  </thead>\n",
       "  <tbody>\n",
       "    <tr>\n",
       "      <th>0</th>\n",
       "      <td>Não pertence</td>\n",
       "    </tr>\n",
       "    <tr>\n",
       "      <th>1</th>\n",
       "      <td>Belém</td>\n",
       "    </tr>\n",
       "    <tr>\n",
       "      <th>2</th>\n",
       "      <td>Grande São Luís</td>\n",
       "    </tr>\n",
       "    <tr>\n",
       "      <th>3</th>\n",
       "      <td>Fortaleza</td>\n",
       "    </tr>\n",
       "    <tr>\n",
       "      <th>4</th>\n",
       "      <td>Natal</td>\n",
       "    </tr>\n",
       "    <tr>\n",
       "      <th>5</th>\n",
       "      <td>Recife</td>\n",
       "    </tr>\n",
       "    <tr>\n",
       "      <th>6</th>\n",
       "      <td>Maceió</td>\n",
       "    </tr>\n",
       "    <tr>\n",
       "      <th>7</th>\n",
       "      <td>Salvador</td>\n",
       "    </tr>\n",
       "    <tr>\n",
       "      <th>8</th>\n",
       "      <td>Belo Horizonte</td>\n",
       "    </tr>\n",
       "    <tr>\n",
       "      <th>9</th>\n",
       "      <td>Colar Metropolitano da RM Belo Horizonte</td>\n",
       "    </tr>\n",
       "    <tr>\n",
       "      <th>10</th>\n",
       "      <td>Vale do Aço</td>\n",
       "    </tr>\n",
       "    <tr>\n",
       "      <th>11</th>\n",
       "      <td>Colar Metropolitano da RM Vale do Aço</td>\n",
       "    </tr>\n",
       "    <tr>\n",
       "      <th>12</th>\n",
       "      <td>Grande Vitória</td>\n",
       "    </tr>\n",
       "    <tr>\n",
       "      <th>13</th>\n",
       "      <td>Rio de Janeiro</td>\n",
       "    </tr>\n",
       "    <tr>\n",
       "      <th>14</th>\n",
       "      <td>São Paulo</td>\n",
       "    </tr>\n",
       "    <tr>\n",
       "      <th>15</th>\n",
       "      <td>Baixada Santista</td>\n",
       "    </tr>\n",
       "    <tr>\n",
       "      <th>16</th>\n",
       "      <td>Campinas</td>\n",
       "    </tr>\n",
       "    <tr>\n",
       "      <th>17</th>\n",
       "      <td>Curitiba</td>\n",
       "    </tr>\n",
       "    <tr>\n",
       "      <th>18</th>\n",
       "      <td>Londrina</td>\n",
       "    </tr>\n",
       "    <tr>\n",
       "      <th>19</th>\n",
       "      <td>Maringá</td>\n",
       "    </tr>\n",
       "    <tr>\n",
       "      <th>20</th>\n",
       "      <td>Núcleo Metropolitano da RM Florianópolis</td>\n",
       "    </tr>\n",
       "    <tr>\n",
       "      <th>21</th>\n",
       "      <td>Área de Expansão Metropolitana da RM Florianóp...</td>\n",
       "    </tr>\n",
       "    <tr>\n",
       "      <th>22</th>\n",
       "      <td>Núcleo Metropolitano da RM Vale do Itajaí</td>\n",
       "    </tr>\n",
       "    <tr>\n",
       "      <th>23</th>\n",
       "      <td>Área de Expansão Metroplitana da RM Vale do It...</td>\n",
       "    </tr>\n",
       "    <tr>\n",
       "      <th>24</th>\n",
       "      <td>Núcleo Metropolitano da RM Norte/Nordeste Cata...</td>\n",
       "    </tr>\n",
       "    <tr>\n",
       "      <th>25</th>\n",
       "      <td>Área de Expansão Metropolitana da RM Norte/Nor...</td>\n",
       "    </tr>\n",
       "    <tr>\n",
       "      <th>26</th>\n",
       "      <td>Porto Alegre</td>\n",
       "    </tr>\n",
       "    <tr>\n",
       "      <th>27</th>\n",
       "      <td>Goiânia</td>\n",
       "    </tr>\n",
       "    <tr>\n",
       "      <th>28</th>\n",
       "      <td>Região Integrada de Desenvolvimento do Distrit...</td>\n",
       "    </tr>\n",
       "  </tbody>\n",
       "</table>\n",
       "</div>"
      ],
      "text/plain": [
       "                                              nome_rm\n",
       "rm                                                   \n",
       "0                                        Não pertence\n",
       "1                                               Belém\n",
       "2                                     Grande São Luís\n",
       "3                                           Fortaleza\n",
       "4                                               Natal\n",
       "5                                              Recife\n",
       "6                                              Maceió\n",
       "7                                            Salvador\n",
       "8                                      Belo Horizonte\n",
       "9            Colar Metropolitano da RM Belo Horizonte\n",
       "10                                        Vale do Aço\n",
       "11              Colar Metropolitano da RM Vale do Aço\n",
       "12                                     Grande Vitória\n",
       "13                                     Rio de Janeiro\n",
       "14                                          São Paulo\n",
       "15                                   Baixada Santista\n",
       "16                                           Campinas\n",
       "17                                           Curitiba\n",
       "18                                           Londrina\n",
       "19                                            Maringá\n",
       "20           Núcleo Metropolitano da RM Florianópolis\n",
       "21  Área de Expansão Metropolitana da RM Florianóp...\n",
       "22          Núcleo Metropolitano da RM Vale do Itajaí\n",
       "23  Área de Expansão Metroplitana da RM Vale do It...\n",
       "24  Núcleo Metropolitano da RM Norte/Nordeste Cata...\n",
       "25  Área de Expansão Metropolitana da RM Norte/Nor...\n",
       "26                                       Porto Alegre\n",
       "27                                            Goiânia\n",
       "28  Região Integrada de Desenvolvimento do Distrit..."
      ]
     },
     "execution_count": 44,
     "metadata": {},
     "output_type": "execute_result"
    }
   ],
   "source": [
    "df.loc[:, ['rm', 'nome_rm']].groupby('rm').first()"
   ]
  },
  {
   "cell_type": "code",
   "execution_count": 103,
   "metadata": {},
   "outputs": [],
   "source": [
    "def processa_modelos(filter, rm=None, uf=None):\n",
    "\n",
    "    registro = {}\n",
    "\n",
    "    # filter = (df.rm == rm)\n",
    "    df_rm = df.loc[(filter)]\n",
    "    df.loc[(filter), 'processado'] = True\n",
    "    print(df.loc[(filter)].shape)\n",
    "\n",
    "    # print(df_rm.nome_rm.unique()[0])\n",
    "    if rm:\n",
    "        registro['nome_rm_ou_UF'] = df_rm.nome_rm.unique()[0]\n",
    "    \n",
    "    if uf:\n",
    "        registro['nome_rm_ou_UF'] = uf\n",
    "    # print(df_rm.subnormal.value_counts())\n",
    "\n",
    "    registro['quantidade_de_municipios_processados'] = df_rm.cod_municipio.unique().shape[0]\n",
    "\n",
    "    setores_normais = df_rm.loc[filter & (df_rm.loc[filter].subnormal == 0)].shape[0]\n",
    "    registro['quantidade_original_de_setores_normais'] = setores_normais\n",
    "    \n",
    "    setores_subnormais = df_rm.loc[filter & (df_rm.loc[filter].subnormal == 1)].shape[0]\n",
    "    registro['quantidade_original_de_setores_subnormais'] = setores_subnormais\n",
    "    # print(setores_normais, setores_subnormais)\n",
    "    \n",
    "\n",
    "    samples = min(setores_normais, math.floor(setores_subnormais * 1.9))\n",
    "    # samples = 1\n",
    "\n",
    "    # prepara amostras e lições\n",
    "    x = df_rm.loc[(filter) & (subnormal)]\n",
    "    x_ = df_rm.loc[(filter) & (~subnormal)].sample(n=samples, random_state=13)\n",
    "    X = pd.concat([x, x_]).loc[(filter), dimensoes]\n",
    "    transformer = Normalizer().fit(X)\n",
    "    \n",
    "    # X = transformer.transform(X)\n",
    "\n",
    "    y = pd.concat([x, x_]).loc[(filter), 'subnormal']\n",
    "    # X = df_rm.loc[(filter), dimensoes]\n",
    "    # y = df_rm.loc[(filter), 'subnormal']\n",
    "\n",
    "    # Processa os modelos, LDA\n",
    "    # print(y.value_counts())\n",
    "    clf = LinearDiscriminantAnalysis(solver='svd')\n",
    "    clf.fit(X, y)\n",
    "    # print(np.unique(clf.predict(X), return_counts=True))\n",
    "    # predicao = clf.predict(transformer.transform(df_rm.loc[(filter), dimensoes]))\n",
    "    predicao = clf.predict(df_rm.loc[(filter), dimensoes])\n",
    "    try: \n",
    "        atribuidos_como_subnormais = np.unique(predicao, return_counts=True)[1][1]\n",
    "    except:\n",
    "        atribuidos_como_subnormais = 0\n",
    "    registro['atribuidos_como_subnormais_LDA'] = atribuidos_como_subnormais\n",
    "    # print(clf.score(X, y))\n",
    "    registro['proporcao_atribuido_original_LDA'] = atribuidos_como_subnormais / setores_subnormais\n",
    "    registro['score_LDA'] = clf.score(X, y)\n",
    "    df.loc[(filter), 'subnormal_LDA'] = predicao\n",
    "\n",
    "    # Processa model RandonForest\n",
    "    clf = RandomForestClassifier(max_depth=10, random_state=0)\n",
    "    clf.fit(X, y)\n",
    "    # print(np.unique(clf.predict(X), return_counts=True))\n",
    "    # predicao = clf.predict(transformer.transform(df_rm.loc[(filter), dimensoes]))\n",
    "    predicao = clf.predict(df_rm.loc[(filter), dimensoes])\n",
    "    try:\n",
    "        atribuidos_como_subnormais = np.unique(predicao, return_counts=True)[1][1]\n",
    "    except:\n",
    "        atribuidos_como_subnormais = 0    \n",
    "    registro['atribuidos_como_subnormais_RandomForest'] = atribuidos_como_subnormais\n",
    "    # print(clf.score(X, y))\n",
    "    registro['proporcao_atribuido_original_RandomForest'] = atribuidos_como_subnormais / setores_subnormais\n",
    "    registro['score_RandomForest'] = clf.score(X, y)\n",
    "    df.loc[(filter), 'subnormal_RandomForest'] = predicao\n",
    "\n",
    "\n",
    "    # # Processa modelo SVC\n",
    "    # clf = LinearSVC(random_state=0, tol=1e-5)\n",
    "    # clf.fit(Normalizer().fit_transform(X), y)\n",
    "    # # print(np.unique(clf.predict(X), return_counts=True))\n",
    "    # predicao = clf.predict(Normalizer().fit_transform(df_rm.loc[(filter), dimensoes]))\n",
    "    # try:\n",
    "    #     atribuidos_como_subnormais = np.unique(clf.predict(Normalizer().fit_transform(df_rm.loc[(filter), dimensoes])), return_counts=True)[1][1]\n",
    "    # except:\n",
    "    #     atribuidos_como_subnormais = 0    \n",
    "    # registro['atribuidos_como_subnormais_SVC'] = atribuidos_como_subnormais\n",
    "    # # print(clf.score(X, y))\n",
    "    # registro['proporcao_atribuido_original_SVC'] = atribuidos_como_subnormais / setores_subnormais\n",
    "    # registro['score_SVC'] = clf.score(Normalizer().fit_transform(X), y)\n",
    "    # df.loc[(filter), 'subnormal_SVC'] = predicao\n",
    "\n",
    "    # Salva as predicoes em atributos\n",
    "    return registro"
   ]
  },
  {
   "cell_type": "code",
   "execution_count": 104,
   "metadata": {},
   "outputs": [
    {
     "name": "stdout",
     "output_type": "stream",
     "text": [
      "(1666, 33)\n",
      "(985, 33)\n",
      "(2987, 33)\n",
      "(2806, 33)\n",
      "(842, 33)\n",
      "(3143, 33)\n",
      "(4907, 33)\n",
      "(465, 33)\n",
      "(14990, 33)\n",
      "(21753, 33)\n",
      "(2171, 33)\n",
      "(3106, 33)\n",
      "(3391, 33)\n",
      "(5285, 33)\n",
      "(1576, 33)\n",
      "(3659, 33)\n"
     ]
    }
   ],
   "source": [
    "# Processa cada um dos municípios da sua Região MEtropolitana\n",
    "result = [] \n",
    "\n",
    "for rm in rms:\n",
    "\n",
    "    rm_filter = (df.rm == rm)\n",
    "    registro = processa_modelos(rm_filter, rm=rm)\n",
    "    # Salva as predicoes em atributos\n",
    "    result.append(registro)"
   ]
  },
  {
   "cell_type": "code",
   "execution_count": 105,
   "metadata": {},
   "outputs": [
    {
     "data": {
      "text/html": [
       "<div>\n",
       "<style scoped>\n",
       "    .dataframe tbody tr th:only-of-type {\n",
       "        vertical-align: middle;\n",
       "    }\n",
       "\n",
       "    .dataframe tbody tr th {\n",
       "        vertical-align: top;\n",
       "    }\n",
       "\n",
       "    .dataframe thead th {\n",
       "        text-align: right;\n",
       "    }\n",
       "</style>\n",
       "<table border=\"1\" class=\"dataframe\">\n",
       "  <thead>\n",
       "    <tr style=\"text-align: right;\">\n",
       "      <th></th>\n",
       "      <th>nome_rm</th>\n",
       "      <th>rm</th>\n",
       "      <th>numero_de_domicilios</th>\n",
       "      <th>numero_moradores</th>\n",
       "    </tr>\n",
       "    <tr>\n",
       "      <th>rm</th>\n",
       "      <th></th>\n",
       "      <th></th>\n",
       "      <th></th>\n",
       "      <th></th>\n",
       "    </tr>\n",
       "  </thead>\n",
       "  <tbody>\n",
       "    <tr>\n",
       "      <th>13</th>\n",
       "      <td>Rio de Janeiro</td>\n",
       "      <td>1301</td>\n",
       "      <td>273085.0</td>\n",
       "      <td>978127.0</td>\n",
       "    </tr>\n",
       "    <tr>\n",
       "      <th>14</th>\n",
       "      <td>São Paulo</td>\n",
       "      <td>1746</td>\n",
       "      <td>374643.0</td>\n",
       "      <td>1476084.0</td>\n",
       "    </tr>\n",
       "    <tr>\n",
       "      <th>15</th>\n",
       "      <td>Baixada Santista</td>\n",
       "      <td>165</td>\n",
       "      <td>43319.0</td>\n",
       "      <td>167535.0</td>\n",
       "    </tr>\n",
       "    <tr>\n",
       "      <th>16</th>\n",
       "      <td>Campinas</td>\n",
       "      <td>229</td>\n",
       "      <td>41165.0</td>\n",
       "      <td>161620.0</td>\n",
       "    </tr>\n",
       "  </tbody>\n",
       "</table>\n",
       "</div>"
      ],
      "text/plain": [
       "             nome_rm    rm  numero_de_domicilios  numero_moradores\n",
       "rm                                                                \n",
       "13    Rio de Janeiro  1301              273085.0          978127.0\n",
       "14         São Paulo  1746              374643.0         1476084.0\n",
       "15  Baixada Santista   165               43319.0          167535.0\n",
       "16          Campinas   229               41165.0          161620.0"
      ]
     },
     "execution_count": 105,
     "metadata": {},
     "output_type": "execute_result"
    }
   ],
   "source": [
    "df.loc[df.rm.isin([13, 14, 15, 16]) & (df.subnormal == 0) & (df.subnormal_LDA == 1), ['rm', 'nome_rm', 'numero_de_domicilios', 'numero_moradores']].groupby('rm').agg({\n",
    "    'nome_rm': 'first',\n",
    "    'rm': 'count',\n",
    "    'numero_de_domicilios': 'sum',\n",
    "    'numero_moradores': 'sum'\n",
    "})"
   ]
  },
  {
   "cell_type": "code",
   "execution_count": null,
   "metadata": {},
   "outputs": [],
   "source": [
    "# result"
   ]
  },
  {
   "cell_type": "code",
   "execution_count": null,
   "metadata": {},
   "outputs": [],
   "source": [
    "df.subnormal_LDA.value_counts()"
   ]
  },
  {
   "cell_type": "code",
   "execution_count": null,
   "metadata": {},
   "outputs": [],
   "source": [
    "df.subnormal_RandomForest.value_counts()"
   ]
  },
  {
   "cell_type": "code",
   "execution_count": null,
   "metadata": {},
   "outputs": [],
   "source": [
    "df.columns"
   ]
  },
  {
   "cell_type": "code",
   "execution_count": null,
   "metadata": {},
   "outputs": [],
   "source": [
    "r_ufs = df[df.rm.isin(cidades_fora_rms)].loc[(subnormal), ['nome_UF', 'subnormal']].groupby('nome_UF').count().reset_index()"
   ]
  },
  {
   "cell_type": "code",
   "execution_count": null,
   "metadata": {},
   "outputs": [],
   "source": [
    "r_ufs"
   ]
  },
  {
   "cell_type": "code",
   "execution_count": null,
   "metadata": {},
   "outputs": [],
   "source": [
    "df_setores = df[df.rm.isin(cidades_fora_rms)].loc[:, ['nome_UF', 'subnormal', 'Cod_setor']].groupby('nome_UF').agg({'subnormal': 'sum', 'Cod_setor':'count'})"
   ]
  },
  {
   "cell_type": "code",
   "execution_count": null,
   "metadata": {},
   "outputs": [],
   "source": [
    "df_setores[df_setores.subnormal < 20]"
   ]
  },
  {
   "cell_type": "code",
   "execution_count": null,
   "metadata": {},
   "outputs": [],
   "source": [
    "df_setores[df_setores.subnormal < 20].sum()"
   ]
  },
  {
   "cell_type": "code",
   "execution_count": null,
   "metadata": {},
   "outputs": [],
   "source": [
    "cidades_fora_rms"
   ]
  },
  {
   "cell_type": "code",
   "execution_count": null,
   "metadata": {},
   "outputs": [],
   "source": [
    "r_ufs[r_ufs.subnormal >= 20]"
   ]
  },
  {
   "cell_type": "code",
   "execution_count": null,
   "metadata": {},
   "outputs": [],
   "source": [
    "r_ufs[r_ufs.subnormal < 20]"
   ]
  },
  {
   "cell_type": "code",
   "execution_count": null,
   "metadata": {},
   "outputs": [],
   "source": [
    "# df[(df.rm.isin(cidades_fora_rms))]"
   ]
  },
  {
   "cell_type": "code",
   "execution_count": null,
   "metadata": {},
   "outputs": [],
   "source": [
    "# Processa cada uma das UFs\n",
    "df_uf = df[df.rm.isin(cidades_fora_rms)]\n",
    "ufs = r_ufs[r_ufs.subnormal >= 20].nome_UF.to_list()\n",
    "\n",
    "for uf in ufs:\n",
    "\n",
    "    uf_filter = (df.nome_UF == uf) & (df.rm.isin(cidades_fora_rms))\n",
    "    print(uf)\n",
    "\n",
    "    registro = processa_modelos(uf_filter, uf=uf)\n",
    "    # Salva as predicoes em atributos\n",
    "    result.append(registro)\n"
   ]
  },
  {
   "cell_type": "code",
   "execution_count": null,
   "metadata": {},
   "outputs": [],
   "source": [
    "gr_filter = (df.cod_grande_regiao == 4.) & (df.subnormal_LDA.isna())"
   ]
  },
  {
   "cell_type": "code",
   "execution_count": null,
   "metadata": {},
   "outputs": [],
   "source": [
    "## TODO\n",
    "## Processar as cidades restantes por MacroRegião \n",
    "## Região 4 (Sul) não possui licoes suficientes de municípios com setores subnormais\n",
    "for gr in [1., 2., 3., 5.]:\n",
    "    gr_filter = (df.cod_grande_regiao == gr) & (~df.processado)\n",
    "    print(gr)\n",
    "\n",
    "    if len(df[gr_filter]) > 0:\n",
    "        registro = processa_modelos(gr_filter, uf=f'Macro Região {str(gr)}')\n",
    "        # Salva as predicoes em atributos\n",
    "        result.append(registro)"
   ]
  },
  {
   "cell_type": "code",
   "execution_count": null,
   "metadata": {},
   "outputs": [],
   "source": [
    "df[df.cod_grande_regiao == 4.]"
   ]
  },
  {
   "cell_type": "code",
   "execution_count": null,
   "metadata": {},
   "outputs": [],
   "source": [
    "pd.DataFrame(result).to_excel('resultados/geral_por_RM_UF.xlsx')"
   ]
  },
  {
   "cell_type": "code",
   "execution_count": null,
   "metadata": {},
   "outputs": [],
   "source": [
    "pd.DataFrame(result).quantidade_de_municipios_processados.sum()"
   ]
  },
  {
   "cell_type": "code",
   "execution_count": null,
   "metadata": {},
   "outputs": [],
   "source": [
    "df.subnormal_LDA.value_counts()"
   ]
  },
  {
   "cell_type": "code",
   "execution_count": null,
   "metadata": {},
   "outputs": [],
   "source": [
    "df.subnormal_RandomForest.value_counts()\n",
    "# df.columns"
   ]
  },
  {
   "cell_type": "code",
   "execution_count": null,
   "metadata": {},
   "outputs": [],
   "source": [
    "df.subnormal.value_counts()"
   ]
  },
  {
   "cell_type": "code",
   "execution_count": null,
   "metadata": {},
   "outputs": [],
   "source": [
    "df.to_csv('resultados/modelo_preditivo.csv.zip', compression='zip')"
   ]
  },
  {
   "cell_type": "code",
   "execution_count": null,
   "metadata": {},
   "outputs": [],
   "source": [
    "df[df.subnormal_LDA.isna()]"
   ]
  },
  {
   "cell_type": "code",
   "execution_count": null,
   "metadata": {},
   "outputs": [],
   "source": [
    "df"
   ]
  },
  {
   "cell_type": "code",
   "execution_count": null,
   "metadata": {},
   "outputs": [],
   "source": [
    "df.processado.value_counts()"
   ]
  },
  {
   "cell_type": "code",
   "execution_count": null,
   "metadata": {},
   "outputs": [],
   "source": []
  }
 ],
 "metadata": {
  "kernelspec": {
   "display_name": "sklearn-env",
   "language": "python",
   "name": "python3"
  },
  "language_info": {
   "codemirror_mode": {
    "name": "ipython",
    "version": 3
   },
   "file_extension": ".py",
   "mimetype": "text/x-python",
   "name": "python",
   "nbconvert_exporter": "python",
   "pygments_lexer": "ipython3",
   "version": "3.11.3"
  },
  "orig_nbformat": 4
 },
 "nbformat": 4,
 "nbformat_minor": 2
}
