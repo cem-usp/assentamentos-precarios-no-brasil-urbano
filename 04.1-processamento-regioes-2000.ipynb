{
 "cells": [
  {
   "cell_type": "code",
   "execution_count": 38,
   "metadata": {},
   "outputs": [],
   "source": [
    "import pandas as pd\n",
    "import geopandas as gpd\n",
    "import numpy as np\n",
    "from sklearn.preprocessing import Normalizer\n",
    "from sklearn.ensemble import RandomForestClassifier\n",
    "from sklearn.svm import LinearSVC\n",
    "from sklearn.discriminant_analysis import LinearDiscriminantAnalysis\n",
    "from sklearn.discriminant_analysis import QuadraticDiscriminantAnalysis\n",
    "from sklearn.naive_bayes import GaussianNB\n",
    "from sklearn.svm import SVC\n",
    "from sklearn.gaussian_process import GaussianProcessClassifier\n",
    "from sklearn.gaussian_process.kernels import RBF\n",
    "import math\n",
    "from sklearn.preprocessing import QuantileTransformer"
   ]
  },
  {
   "cell_type": "code",
   "execution_count": 2,
   "metadata": {},
   "outputs": [],
   "source": [
    "# df_cem = pd.read_excel('data/CEM/Tabelas_MCidades.xls')"
   ]
  },
  {
   "cell_type": "code",
   "execution_count": 3,
   "metadata": {},
   "outputs": [],
   "source": [
    "# df_cem"
   ]
  },
  {
   "cell_type": "code",
   "execution_count": 4,
   "metadata": {},
   "outputs": [],
   "source": [
    "# Abrindo os dados espacializados para remover os setores Rurais"
   ]
  },
  {
   "cell_type": "code",
   "execution_count": 5,
   "metadata": {},
   "outputs": [],
   "source": [
    "gdf_setores = gpd.read_file('data/censo_2000/br_set_cens_2000_4326.zip')"
   ]
  },
  {
   "cell_type": "code",
   "execution_count": 6,
   "metadata": {},
   "outputs": [],
   "source": [
    "gdf_setores.to_crs(epsg='5880', inplace=True)"
   ]
  },
  {
   "cell_type": "code",
   "execution_count": 7,
   "metadata": {},
   "outputs": [],
   "source": [
    "pd.set_option('display.float_format', '{:.2f}'.format)"
   ]
  },
  {
   "cell_type": "code",
   "execution_count": 8,
   "metadata": {},
   "outputs": [
    {
     "data": {
      "text/plain": [
       "(128012, 9)"
      ]
     },
     "execution_count": 8,
     "metadata": {},
     "output_type": "execute_result"
    }
   ],
   "source": [
    "gdf_setores.shape"
   ]
  },
  {
   "cell_type": "code",
   "execution_count": 9,
   "metadata": {},
   "outputs": [],
   "source": [
    "dimensoes = [\n",
    "    # 'situacao_setor',#\n",
    "    # 'tipo_setor',#\n",
    "    'numero_de_domicilios',#\n",
    "    'numero_moradores',#\n",
    "    'porcentagem_domicilios_tipo_comodo', #\n",
    "    'porcentagem_domicilios_sem_coleta_de_lixo', #\n",
    "    'porcentagem_domicilios_sem_ligacao_rede_de_agua', #\n",
    "    'porcentagem_domicilios_sem_banheiros', #\n",
    "    'porcentagem_domicilios_sem_esgoto_ou_fossa', #\n",
    "    'porcentagem_domicilios_cedidos_outra_forma', #\n",
    "    'numero_de_banheiros_por_habitante', #\n",
    "    'porcentagem_responsaveis_nao_alfabetizado', #\n",
    "    'porcentagem_responsaveis_nao_alfabetizado_com_menos_de_30_anos', #\n",
    "    'porcentagem_de_responsaveis_com_menos_30_anos', #\n",
    "    'porcentagem_responsaveis_renda_ate_3_salarios', #\n",
    "    'porcentagem_responsaveis_menos_8_anos_de_estudo', #\n",
    "    'anos_medios_estudo_responsavel', #\n",
    "    'renda_media_responsavel', #\n",
    "    'numero_de_domicilios_improvisados', #\n",
    "    'numero_medio_pessoas', #\n",
    "]"
   ]
  },
  {
   "cell_type": "code",
   "execution_count": 10,
   "metadata": {},
   "outputs": [],
   "source": [
    "df = pd.read_csv('resultados/modelo-2000.csv.zip')\n",
    "df.fillna(0, inplace=True)\n",
    "# rmsp = (df.rm == 20)\n"
   ]
  },
  {
   "cell_type": "code",
   "execution_count": 11,
   "metadata": {},
   "outputs": [],
   "source": [
    "## join com dados espaciais"
   ]
  },
  {
   "cell_type": "code",
   "execution_count": 12,
   "metadata": {},
   "outputs": [],
   "source": [
    "# df.numero_moradores.median()"
   ]
  },
  {
   "cell_type": "code",
   "execution_count": 13,
   "metadata": {},
   "outputs": [
    {
     "data": {
      "text/plain": [
       "(215811, 29)"
      ]
     },
     "execution_count": 13,
     "metadata": {},
     "output_type": "execute_result"
    }
   ],
   "source": [
    "df.shape"
   ]
  },
  {
   "cell_type": "code",
   "execution_count": 14,
   "metadata": {},
   "outputs": [],
   "source": [
    "# Exclui setores com menos de 50 domicílios\n",
    "df = df[df.numero_de_domicilios > 50]"
   ]
  },
  {
   "cell_type": "code",
   "execution_count": 15,
   "metadata": {},
   "outputs": [
    {
     "data": {
      "text/plain": [
       "(200834, 29)"
      ]
     },
     "execution_count": 15,
     "metadata": {},
     "output_type": "execute_result"
    }
   ],
   "source": [
    "df.shape"
   ]
  },
  {
   "cell_type": "code",
   "execution_count": 16,
   "metadata": {},
   "outputs": [],
   "source": [
    "## Join na base geografica com a base de setores\n",
    "# gdf_br_joined = gdf_br.set_index('Cod_setor').join(df.set_index('Cod_setor'), how='left', lsuffix='_df')\n",
    "gdf_setores.loc[:, 'Cod_setor'] = gdf_setores.CD_GEOCODI.astype('int')\n",
    "df = df.set_index('Cod_setor').join(gdf_setores.set_index('Cod_setor').area.rename('area_setor'))#.join(df.set_index('Cod_setor'), how='left', lsuffix='_df')"
   ]
  },
  {
   "cell_type": "code",
   "execution_count": 17,
   "metadata": {},
   "outputs": [
    {
     "data": {
      "text/plain": [
       "area_setor\n",
       "False    124214\n",
       "True      76620\n",
       "Name: count, dtype: int64"
      ]
     },
     "execution_count": 17,
     "metadata": {},
     "output_type": "execute_result"
    }
   ],
   "source": [
    "df.area_setor.isna().value_counts()"
   ]
  },
  {
   "cell_type": "code",
   "execution_count": 18,
   "metadata": {},
   "outputs": [],
   "source": [
    "df = df[~df.area_setor.isna()]"
   ]
  },
  {
   "cell_type": "code",
   "execution_count": 19,
   "metadata": {},
   "outputs": [],
   "source": [
    "\n",
    "## exlcuir setores com densidade demográfica menor que algo a ser definido\n",
    "df.loc[:, 'densidade_demografica'] = df.numero_moradores / (df.area_setor / 10000)"
   ]
  },
  {
   "cell_type": "code",
   "execution_count": 20,
   "metadata": {},
   "outputs": [],
   "source": [
    "# REmovendo densidade demográgica menor que __ hab. por Ha.\n",
    "condicao_de_densidade = (df.densidade_demografica > 8.) & (df.densidade_demografica < 1000000)\n",
    "# df.loc[condicao_de_densidade, 'densidade_demografica'].describe()\n",
    "df.loc[condicao_de_densidade, 'densidade_demografica'].shape\n",
    "df = df.loc[condicao_de_densidade]"
   ]
  },
  {
   "cell_type": "code",
   "execution_count": 21,
   "metadata": {},
   "outputs": [
    {
     "data": {
      "text/plain": [
       "count   116054.00\n",
       "mean       901.35\n",
       "std        373.74\n",
       "min         86.00\n",
       "25%        652.00\n",
       "50%        858.00\n",
       "75%       1096.00\n",
       "max       7834.00\n",
       "Name: numero_moradores, dtype: float64"
      ]
     },
     "execution_count": 21,
     "metadata": {},
     "output_type": "execute_result"
    }
   ],
   "source": [
    "df.numero_moradores.describe()"
   ]
  },
  {
   "cell_type": "code",
   "execution_count": 22,
   "metadata": {},
   "outputs": [
    {
     "data": {
      "text/html": [
       "<div>\n",
       "<style scoped>\n",
       "    .dataframe tbody tr th:only-of-type {\n",
       "        vertical-align: middle;\n",
       "    }\n",
       "\n",
       "    .dataframe tbody tr th {\n",
       "        vertical-align: top;\n",
       "    }\n",
       "\n",
       "    .dataframe thead th {\n",
       "        text-align: right;\n",
       "    }\n",
       "</style>\n",
       "<table border=\"1\" class=\"dataframe\">\n",
       "  <thead>\n",
       "    <tr style=\"text-align: right;\">\n",
       "      <th></th>\n",
       "      <th>cod_grande_regiao</th>\n",
       "      <th>uf</th>\n",
       "      <th>nome_UF</th>\n",
       "      <th>rm</th>\n",
       "      <th>nome_rm</th>\n",
       "      <th>meso_regiao</th>\n",
       "      <th>cod_municipio</th>\n",
       "      <th>nome_municipio</th>\n",
       "      <th>situacao_setor</th>\n",
       "      <th>tipo_setor</th>\n",
       "      <th>...</th>\n",
       "      <th>porcentagem_responsaveis_nao_alfabetizado_com_menos_de_30_anos</th>\n",
       "      <th>porcentagem_de_responsaveis_com_menos_30_anos</th>\n",
       "      <th>porcentagem_responsaveis_renda_ate_3_salarios</th>\n",
       "      <th>porcentagem_responsaveis_menos_8_anos_de_estudo</th>\n",
       "      <th>anos_medios_estudo_responsavel</th>\n",
       "      <th>renda_media_responsavel</th>\n",
       "      <th>numero_de_domicilios_improvisados</th>\n",
       "      <th>numero_medio_pessoas</th>\n",
       "      <th>area_setor</th>\n",
       "      <th>densidade_demografica</th>\n",
       "    </tr>\n",
       "    <tr>\n",
       "      <th>Cod_setor</th>\n",
       "      <th></th>\n",
       "      <th></th>\n",
       "      <th></th>\n",
       "      <th></th>\n",
       "      <th></th>\n",
       "      <th></th>\n",
       "      <th></th>\n",
       "      <th></th>\n",
       "      <th></th>\n",
       "      <th></th>\n",
       "      <th></th>\n",
       "      <th></th>\n",
       "      <th></th>\n",
       "      <th></th>\n",
       "      <th></th>\n",
       "      <th></th>\n",
       "      <th></th>\n",
       "      <th></th>\n",
       "      <th></th>\n",
       "      <th></th>\n",
       "      <th></th>\n",
       "    </tr>\n",
       "  </thead>\n",
       "  <tbody>\n",
       "    <tr>\n",
       "      <th>120020305000001</th>\n",
       "      <td>1.00</td>\n",
       "      <td>12</td>\n",
       "      <td>AC</td>\n",
       "      <td>0</td>\n",
       "      <td>Não pertence</td>\n",
       "      <td>1201</td>\n",
       "      <td>1200203</td>\n",
       "      <td>Cruzeiro do Sul</td>\n",
       "      <td>1</td>\n",
       "      <td>0</td>\n",
       "      <td>...</td>\n",
       "      <td>0.15</td>\n",
       "      <td>0.17</td>\n",
       "      <td>0.56</td>\n",
       "      <td>0.32</td>\n",
       "      <td>1155.00</td>\n",
       "      <td>624.38</td>\n",
       "      <td>0</td>\n",
       "      <td>4.01</td>\n",
       "      <td>217696.54</td>\n",
       "      <td>48.09</td>\n",
       "    </tr>\n",
       "    <tr>\n",
       "      <th>120020305000002</th>\n",
       "      <td>1.00</td>\n",
       "      <td>12</td>\n",
       "      <td>AC</td>\n",
       "      <td>0</td>\n",
       "      <td>Não pertence</td>\n",
       "      <td>1201</td>\n",
       "      <td>1200203</td>\n",
       "      <td>Cruzeiro do Sul</td>\n",
       "      <td>1</td>\n",
       "      <td>0</td>\n",
       "      <td>...</td>\n",
       "      <td>0.18</td>\n",
       "      <td>0.19</td>\n",
       "      <td>0.54</td>\n",
       "      <td>0.39</td>\n",
       "      <td>1056.00</td>\n",
       "      <td>617.33</td>\n",
       "      <td>0</td>\n",
       "      <td>4.45</td>\n",
       "      <td>212881.41</td>\n",
       "      <td>52.09</td>\n",
       "    </tr>\n",
       "    <tr>\n",
       "      <th>120020305000003</th>\n",
       "      <td>1.00</td>\n",
       "      <td>12</td>\n",
       "      <td>AC</td>\n",
       "      <td>0</td>\n",
       "      <td>Não pertence</td>\n",
       "      <td>1201</td>\n",
       "      <td>1200203</td>\n",
       "      <td>Cruzeiro do Sul</td>\n",
       "      <td>1</td>\n",
       "      <td>0</td>\n",
       "      <td>...</td>\n",
       "      <td>0.16</td>\n",
       "      <td>0.17</td>\n",
       "      <td>0.63</td>\n",
       "      <td>0.50</td>\n",
       "      <td>931.00</td>\n",
       "      <td>557.25</td>\n",
       "      <td>0</td>\n",
       "      <td>4.63</td>\n",
       "      <td>254933.03</td>\n",
       "      <td>49.07</td>\n",
       "    </tr>\n",
       "    <tr>\n",
       "      <th>120020305000004</th>\n",
       "      <td>1.00</td>\n",
       "      <td>12</td>\n",
       "      <td>AC</td>\n",
       "      <td>0</td>\n",
       "      <td>Não pertence</td>\n",
       "      <td>1201</td>\n",
       "      <td>1200203</td>\n",
       "      <td>Cruzeiro do Sul</td>\n",
       "      <td>1</td>\n",
       "      <td>0</td>\n",
       "      <td>...</td>\n",
       "      <td>0.19</td>\n",
       "      <td>0.20</td>\n",
       "      <td>0.55</td>\n",
       "      <td>0.47</td>\n",
       "      <td>779.00</td>\n",
       "      <td>590.31</td>\n",
       "      <td>0</td>\n",
       "      <td>4.71</td>\n",
       "      <td>276221.34</td>\n",
       "      <td>45.00</td>\n",
       "    </tr>\n",
       "    <tr>\n",
       "      <th>120020305000005</th>\n",
       "      <td>1.00</td>\n",
       "      <td>12</td>\n",
       "      <td>AC</td>\n",
       "      <td>0</td>\n",
       "      <td>Não pertence</td>\n",
       "      <td>1201</td>\n",
       "      <td>1200203</td>\n",
       "      <td>Cruzeiro do Sul</td>\n",
       "      <td>1</td>\n",
       "      <td>0</td>\n",
       "      <td>...</td>\n",
       "      <td>0.20</td>\n",
       "      <td>0.23</td>\n",
       "      <td>0.76</td>\n",
       "      <td>0.40</td>\n",
       "      <td>893.00</td>\n",
       "      <td>334.32</td>\n",
       "      <td>0</td>\n",
       "      <td>4.63</td>\n",
       "      <td>219722.94</td>\n",
       "      <td>66.58</td>\n",
       "    </tr>\n",
       "    <tr>\n",
       "      <th>...</th>\n",
       "      <td>...</td>\n",
       "      <td>...</td>\n",
       "      <td>...</td>\n",
       "      <td>...</td>\n",
       "      <td>...</td>\n",
       "      <td>...</td>\n",
       "      <td>...</td>\n",
       "      <td>...</td>\n",
       "      <td>...</td>\n",
       "      <td>...</td>\n",
       "      <td>...</td>\n",
       "      <td>...</td>\n",
       "      <td>...</td>\n",
       "      <td>...</td>\n",
       "      <td>...</td>\n",
       "      <td>...</td>\n",
       "      <td>...</td>\n",
       "      <td>...</td>\n",
       "      <td>...</td>\n",
       "      <td>...</td>\n",
       "      <td>...</td>\n",
       "    </tr>\n",
       "    <tr>\n",
       "      <th>172100005000111</th>\n",
       "      <td>1.00</td>\n",
       "      <td>17</td>\n",
       "      <td>TO</td>\n",
       "      <td>0</td>\n",
       "      <td>Não pertence</td>\n",
       "      <td>1702</td>\n",
       "      <td>1721000</td>\n",
       "      <td>Palmas</td>\n",
       "      <td>1</td>\n",
       "      <td>0</td>\n",
       "      <td>...</td>\n",
       "      <td>0.29</td>\n",
       "      <td>0.29</td>\n",
       "      <td>0.49</td>\n",
       "      <td>0.40</td>\n",
       "      <td>1171.00</td>\n",
       "      <td>557.54</td>\n",
       "      <td>1</td>\n",
       "      <td>3.77</td>\n",
       "      <td>199682.86</td>\n",
       "      <td>45.17</td>\n",
       "    </tr>\n",
       "    <tr>\n",
       "      <th>172100005000112</th>\n",
       "      <td>1.00</td>\n",
       "      <td>17</td>\n",
       "      <td>TO</td>\n",
       "      <td>0</td>\n",
       "      <td>Não pertence</td>\n",
       "      <td>1702</td>\n",
       "      <td>1721000</td>\n",
       "      <td>Palmas</td>\n",
       "      <td>1</td>\n",
       "      <td>0</td>\n",
       "      <td>...</td>\n",
       "      <td>0.29</td>\n",
       "      <td>0.29</td>\n",
       "      <td>0.53</td>\n",
       "      <td>0.44</td>\n",
       "      <td>1365.00</td>\n",
       "      <td>769.14</td>\n",
       "      <td>0</td>\n",
       "      <td>3.20</td>\n",
       "      <td>175248.74</td>\n",
       "      <td>45.48</td>\n",
       "    </tr>\n",
       "    <tr>\n",
       "      <th>172100005000113</th>\n",
       "      <td>1.00</td>\n",
       "      <td>17</td>\n",
       "      <td>TO</td>\n",
       "      <td>0</td>\n",
       "      <td>Não pertence</td>\n",
       "      <td>1702</td>\n",
       "      <td>1721000</td>\n",
       "      <td>Palmas</td>\n",
       "      <td>1</td>\n",
       "      <td>0</td>\n",
       "      <td>...</td>\n",
       "      <td>0.29</td>\n",
       "      <td>0.29</td>\n",
       "      <td>0.52</td>\n",
       "      <td>0.46</td>\n",
       "      <td>1114.00</td>\n",
       "      <td>1004.47</td>\n",
       "      <td>20</td>\n",
       "      <td>4.14</td>\n",
       "      <td>171675.47</td>\n",
       "      <td>56.62</td>\n",
       "    </tr>\n",
       "    <tr>\n",
       "      <th>172100005000119</th>\n",
       "      <td>1.00</td>\n",
       "      <td>17</td>\n",
       "      <td>TO</td>\n",
       "      <td>0</td>\n",
       "      <td>Não pertence</td>\n",
       "      <td>1702</td>\n",
       "      <td>1721000</td>\n",
       "      <td>Palmas</td>\n",
       "      <td>1</td>\n",
       "      <td>0</td>\n",
       "      <td>...</td>\n",
       "      <td>0.28</td>\n",
       "      <td>0.30</td>\n",
       "      <td>0.66</td>\n",
       "      <td>0.56</td>\n",
       "      <td>1457.00</td>\n",
       "      <td>286.64</td>\n",
       "      <td>69</td>\n",
       "      <td>5.02</td>\n",
       "      <td>628076.53</td>\n",
       "      <td>25.67</td>\n",
       "    </tr>\n",
       "    <tr>\n",
       "      <th>172100005000121</th>\n",
       "      <td>1.00</td>\n",
       "      <td>17</td>\n",
       "      <td>TO</td>\n",
       "      <td>0</td>\n",
       "      <td>Não pertence</td>\n",
       "      <td>1702</td>\n",
       "      <td>1721000</td>\n",
       "      <td>Palmas</td>\n",
       "      <td>1</td>\n",
       "      <td>0</td>\n",
       "      <td>...</td>\n",
       "      <td>0.44</td>\n",
       "      <td>0.44</td>\n",
       "      <td>0.50</td>\n",
       "      <td>0.18</td>\n",
       "      <td>718.00</td>\n",
       "      <td>530.34</td>\n",
       "      <td>0</td>\n",
       "      <td>3.31</td>\n",
       "      <td>360769.20</td>\n",
       "      <td>9.54</td>\n",
       "    </tr>\n",
       "  </tbody>\n",
       "</table>\n",
       "<p>116054 rows × 30 columns</p>\n",
       "</div>"
      ],
      "text/plain": [
       "                 cod_grande_regiao  uf nome_UF  rm       nome_rm  meso_regiao  \\\n",
       "Cod_setor                                                                       \n",
       "120020305000001               1.00  12      AC   0  Não pertence         1201   \n",
       "120020305000002               1.00  12      AC   0  Não pertence         1201   \n",
       "120020305000003               1.00  12      AC   0  Não pertence         1201   \n",
       "120020305000004               1.00  12      AC   0  Não pertence         1201   \n",
       "120020305000005               1.00  12      AC   0  Não pertence         1201   \n",
       "...                            ...  ..     ...  ..           ...          ...   \n",
       "172100005000111               1.00  17      TO   0  Não pertence         1702   \n",
       "172100005000112               1.00  17      TO   0  Não pertence         1702   \n",
       "172100005000113               1.00  17      TO   0  Não pertence         1702   \n",
       "172100005000119               1.00  17      TO   0  Não pertence         1702   \n",
       "172100005000121               1.00  17      TO   0  Não pertence         1702   \n",
       "\n",
       "                 cod_municipio   nome_municipio  situacao_setor  tipo_setor  \\\n",
       "Cod_setor                                                                     \n",
       "120020305000001        1200203  Cruzeiro do Sul               1           0   \n",
       "120020305000002        1200203  Cruzeiro do Sul               1           0   \n",
       "120020305000003        1200203  Cruzeiro do Sul               1           0   \n",
       "120020305000004        1200203  Cruzeiro do Sul               1           0   \n",
       "120020305000005        1200203  Cruzeiro do Sul               1           0   \n",
       "...                        ...              ...             ...         ...   \n",
       "172100005000111        1721000           Palmas               1           0   \n",
       "172100005000112        1721000           Palmas               1           0   \n",
       "172100005000113        1721000           Palmas               1           0   \n",
       "172100005000119        1721000           Palmas               1           0   \n",
       "172100005000121        1721000           Palmas               1           0   \n",
       "\n",
       "                 ...  \\\n",
       "Cod_setor        ...   \n",
       "120020305000001  ...   \n",
       "120020305000002  ...   \n",
       "120020305000003  ...   \n",
       "120020305000004  ...   \n",
       "120020305000005  ...   \n",
       "...              ...   \n",
       "172100005000111  ...   \n",
       "172100005000112  ...   \n",
       "172100005000113  ...   \n",
       "172100005000119  ...   \n",
       "172100005000121  ...   \n",
       "\n",
       "                 porcentagem_responsaveis_nao_alfabetizado_com_menos_de_30_anos  \\\n",
       "Cod_setor                                                                         \n",
       "120020305000001                                               0.15                \n",
       "120020305000002                                               0.18                \n",
       "120020305000003                                               0.16                \n",
       "120020305000004                                               0.19                \n",
       "120020305000005                                               0.20                \n",
       "...                                                            ...                \n",
       "172100005000111                                               0.29                \n",
       "172100005000112                                               0.29                \n",
       "172100005000113                                               0.29                \n",
       "172100005000119                                               0.28                \n",
       "172100005000121                                               0.44                \n",
       "\n",
       "                 porcentagem_de_responsaveis_com_menos_30_anos  \\\n",
       "Cod_setor                                                        \n",
       "120020305000001                                           0.17   \n",
       "120020305000002                                           0.19   \n",
       "120020305000003                                           0.17   \n",
       "120020305000004                                           0.20   \n",
       "120020305000005                                           0.23   \n",
       "...                                                        ...   \n",
       "172100005000111                                           0.29   \n",
       "172100005000112                                           0.29   \n",
       "172100005000113                                           0.29   \n",
       "172100005000119                                           0.30   \n",
       "172100005000121                                           0.44   \n",
       "\n",
       "                 porcentagem_responsaveis_renda_ate_3_salarios  \\\n",
       "Cod_setor                                                        \n",
       "120020305000001                                           0.56   \n",
       "120020305000002                                           0.54   \n",
       "120020305000003                                           0.63   \n",
       "120020305000004                                           0.55   \n",
       "120020305000005                                           0.76   \n",
       "...                                                        ...   \n",
       "172100005000111                                           0.49   \n",
       "172100005000112                                           0.53   \n",
       "172100005000113                                           0.52   \n",
       "172100005000119                                           0.66   \n",
       "172100005000121                                           0.50   \n",
       "\n",
       "                 porcentagem_responsaveis_menos_8_anos_de_estudo  \\\n",
       "Cod_setor                                                          \n",
       "120020305000001                                             0.32   \n",
       "120020305000002                                             0.39   \n",
       "120020305000003                                             0.50   \n",
       "120020305000004                                             0.47   \n",
       "120020305000005                                             0.40   \n",
       "...                                                          ...   \n",
       "172100005000111                                             0.40   \n",
       "172100005000112                                             0.44   \n",
       "172100005000113                                             0.46   \n",
       "172100005000119                                             0.56   \n",
       "172100005000121                                             0.18   \n",
       "\n",
       "                 anos_medios_estudo_responsavel  renda_media_responsavel  \\\n",
       "Cod_setor                                                                  \n",
       "120020305000001                         1155.00                   624.38   \n",
       "120020305000002                         1056.00                   617.33   \n",
       "120020305000003                          931.00                   557.25   \n",
       "120020305000004                          779.00                   590.31   \n",
       "120020305000005                          893.00                   334.32   \n",
       "...                                         ...                      ...   \n",
       "172100005000111                         1171.00                   557.54   \n",
       "172100005000112                         1365.00                   769.14   \n",
       "172100005000113                         1114.00                  1004.47   \n",
       "172100005000119                         1457.00                   286.64   \n",
       "172100005000121                          718.00                   530.34   \n",
       "\n",
       "                 numero_de_domicilios_improvisados  numero_medio_pessoas  \\\n",
       "Cod_setor                                                                  \n",
       "120020305000001                                  0                  4.01   \n",
       "120020305000002                                  0                  4.45   \n",
       "120020305000003                                  0                  4.63   \n",
       "120020305000004                                  0                  4.71   \n",
       "120020305000005                                  0                  4.63   \n",
       "...                                            ...                   ...   \n",
       "172100005000111                                  1                  3.77   \n",
       "172100005000112                                  0                  3.20   \n",
       "172100005000113                                 20                  4.14   \n",
       "172100005000119                                 69                  5.02   \n",
       "172100005000121                                  0                  3.31   \n",
       "\n",
       "                 area_setor  densidade_demografica  \n",
       "Cod_setor                                           \n",
       "120020305000001   217696.54                  48.09  \n",
       "120020305000002   212881.41                  52.09  \n",
       "120020305000003   254933.03                  49.07  \n",
       "120020305000004   276221.34                  45.00  \n",
       "120020305000005   219722.94                  66.58  \n",
       "...                     ...                    ...  \n",
       "172100005000111   199682.86                  45.17  \n",
       "172100005000112   175248.74                  45.48  \n",
       "172100005000113   171675.47                  56.62  \n",
       "172100005000119   628076.53                  25.67  \n",
       "172100005000121   360769.20                   9.54  \n",
       "\n",
       "[116054 rows x 30 columns]"
      ]
     },
     "execution_count": 22,
     "metadata": {},
     "output_type": "execute_result"
    }
   ],
   "source": [
    "df"
   ]
  },
  {
   "cell_type": "code",
   "execution_count": 23,
   "metadata": {},
   "outputs": [],
   "source": [
    "subnormal = (df.tipo_setor == 1)\n",
    "df.loc[:, 'subnormal'] = 0\n",
    "df.loc[subnormal, 'subnormal'] = 1\n",
    "df.loc[:, 'processado'] = False"
   ]
  },
  {
   "cell_type": "code",
   "execution_count": 24,
   "metadata": {},
   "outputs": [],
   "source": [
    "r_subnormal = df.loc[(subnormal), ['rm', 'subnormal']].groupby('rm').count().reset_index()\n",
    "cidades_fora_rms = r_subnormal[(r_subnormal.subnormal < 20) | (r_subnormal.rm == 0.)].rm.to_list()\n",
    "rms = r_subnormal[(r_subnormal.subnormal >= 20) & (r_subnormal.rm != 0.)].rm.to_list()"
   ]
  },
  {
   "cell_type": "code",
   "execution_count": 25,
   "metadata": {},
   "outputs": [
    {
     "data": {
      "text/plain": [
       "[1, 2, 3, 5, 6, 7, 8, 10, 13, 14, 15, 16, 17, 26, 28]"
      ]
     },
     "execution_count": 25,
     "metadata": {},
     "output_type": "execute_result"
    }
   ],
   "source": [
    "rms"
   ]
  },
  {
   "cell_type": "code",
   "execution_count": 26,
   "metadata": {},
   "outputs": [
    {
     "data": {
      "text/html": [
       "<div>\n",
       "<style scoped>\n",
       "    .dataframe tbody tr th:only-of-type {\n",
       "        vertical-align: middle;\n",
       "    }\n",
       "\n",
       "    .dataframe tbody tr th {\n",
       "        vertical-align: top;\n",
       "    }\n",
       "\n",
       "    .dataframe thead th {\n",
       "        text-align: right;\n",
       "    }\n",
       "</style>\n",
       "<table border=\"1\" class=\"dataframe\">\n",
       "  <thead>\n",
       "    <tr style=\"text-align: right;\">\n",
       "      <th></th>\n",
       "      <th>nome_rm</th>\n",
       "    </tr>\n",
       "    <tr>\n",
       "      <th>rm</th>\n",
       "      <th></th>\n",
       "    </tr>\n",
       "  </thead>\n",
       "  <tbody>\n",
       "    <tr>\n",
       "      <th>0</th>\n",
       "      <td>Não pertence</td>\n",
       "    </tr>\n",
       "    <tr>\n",
       "      <th>1</th>\n",
       "      <td>Belém</td>\n",
       "    </tr>\n",
       "    <tr>\n",
       "      <th>2</th>\n",
       "      <td>Grande São Luís</td>\n",
       "    </tr>\n",
       "    <tr>\n",
       "      <th>3</th>\n",
       "      <td>Fortaleza</td>\n",
       "    </tr>\n",
       "    <tr>\n",
       "      <th>4</th>\n",
       "      <td>Natal</td>\n",
       "    </tr>\n",
       "    <tr>\n",
       "      <th>5</th>\n",
       "      <td>Recife</td>\n",
       "    </tr>\n",
       "    <tr>\n",
       "      <th>6</th>\n",
       "      <td>Maceió</td>\n",
       "    </tr>\n",
       "    <tr>\n",
       "      <th>7</th>\n",
       "      <td>Salvador</td>\n",
       "    </tr>\n",
       "    <tr>\n",
       "      <th>8</th>\n",
       "      <td>Belo Horizonte</td>\n",
       "    </tr>\n",
       "    <tr>\n",
       "      <th>9</th>\n",
       "      <td>Colar Metropolitano da RM Belo Horizonte</td>\n",
       "    </tr>\n",
       "    <tr>\n",
       "      <th>10</th>\n",
       "      <td>Vale do Aço</td>\n",
       "    </tr>\n",
       "    <tr>\n",
       "      <th>12</th>\n",
       "      <td>Grande Vitória</td>\n",
       "    </tr>\n",
       "    <tr>\n",
       "      <th>13</th>\n",
       "      <td>Rio de Janeiro</td>\n",
       "    </tr>\n",
       "    <tr>\n",
       "      <th>14</th>\n",
       "      <td>São Paulo</td>\n",
       "    </tr>\n",
       "    <tr>\n",
       "      <th>15</th>\n",
       "      <td>Baixada Santista</td>\n",
       "    </tr>\n",
       "    <tr>\n",
       "      <th>16</th>\n",
       "      <td>Campinas</td>\n",
       "    </tr>\n",
       "    <tr>\n",
       "      <th>17</th>\n",
       "      <td>Curitiba</td>\n",
       "    </tr>\n",
       "    <tr>\n",
       "      <th>18</th>\n",
       "      <td>Londrina</td>\n",
       "    </tr>\n",
       "    <tr>\n",
       "      <th>19</th>\n",
       "      <td>Maringá</td>\n",
       "    </tr>\n",
       "    <tr>\n",
       "      <th>20</th>\n",
       "      <td>Núcleo Metropolitano da RM Florianópolis</td>\n",
       "    </tr>\n",
       "    <tr>\n",
       "      <th>22</th>\n",
       "      <td>Núcleo Metropolitano da RM Vale do Itajaí</td>\n",
       "    </tr>\n",
       "    <tr>\n",
       "      <th>23</th>\n",
       "      <td>Área de Expansão Metroplitana da RM Vale do It...</td>\n",
       "    </tr>\n",
       "    <tr>\n",
       "      <th>24</th>\n",
       "      <td>Núcleo Metropolitano da RM Norte/Nordeste Cata...</td>\n",
       "    </tr>\n",
       "    <tr>\n",
       "      <th>25</th>\n",
       "      <td>Área de Expansão Metropolitana da RM Norte/Nor...</td>\n",
       "    </tr>\n",
       "    <tr>\n",
       "      <th>26</th>\n",
       "      <td>Porto Alegre</td>\n",
       "    </tr>\n",
       "    <tr>\n",
       "      <th>27</th>\n",
       "      <td>Goiânia</td>\n",
       "    </tr>\n",
       "    <tr>\n",
       "      <th>28</th>\n",
       "      <td>Região Integrada de Desenvolvimento do Distrit...</td>\n",
       "    </tr>\n",
       "  </tbody>\n",
       "</table>\n",
       "</div>"
      ],
      "text/plain": [
       "                                              nome_rm\n",
       "rm                                                   \n",
       "0                                        Não pertence\n",
       "1                                               Belém\n",
       "2                                     Grande São Luís\n",
       "3                                           Fortaleza\n",
       "4                                               Natal\n",
       "5                                              Recife\n",
       "6                                              Maceió\n",
       "7                                            Salvador\n",
       "8                                      Belo Horizonte\n",
       "9            Colar Metropolitano da RM Belo Horizonte\n",
       "10                                        Vale do Aço\n",
       "12                                     Grande Vitória\n",
       "13                                     Rio de Janeiro\n",
       "14                                          São Paulo\n",
       "15                                   Baixada Santista\n",
       "16                                           Campinas\n",
       "17                                           Curitiba\n",
       "18                                           Londrina\n",
       "19                                            Maringá\n",
       "20           Núcleo Metropolitano da RM Florianópolis\n",
       "22          Núcleo Metropolitano da RM Vale do Itajaí\n",
       "23  Área de Expansão Metroplitana da RM Vale do It...\n",
       "24  Núcleo Metropolitano da RM Norte/Nordeste Cata...\n",
       "25  Área de Expansão Metropolitana da RM Norte/Nor...\n",
       "26                                       Porto Alegre\n",
       "27                                            Goiânia\n",
       "28  Região Integrada de Desenvolvimento do Distrit..."
      ]
     },
     "execution_count": 26,
     "metadata": {},
     "output_type": "execute_result"
    }
   ],
   "source": [
    "df.loc[:, ['rm', 'nome_rm']].groupby('rm').first()"
   ]
  },
  {
   "cell_type": "code",
   "execution_count": 57,
   "metadata": {},
   "outputs": [],
   "source": [
    "def processa_modelos(filter, rm=None, uf=None):\n",
    "\n",
    "    registro = {}\n",
    "\n",
    "    # filter = (df.rm == rm)\n",
    "    df_rm = df.loc[(filter)]\n",
    "    df.loc[(filter), 'processado'] = True\n",
    "    # print(df.loc[(filter)].shape)\n",
    "\n",
    "    # print(df_rm.nome_rm.unique()[0])\n",
    "    if rm:\n",
    "        registro['nome_rm_ou_UF'] = df_rm.nome_rm.unique()[0]\n",
    "    \n",
    "    if uf:\n",
    "        registro['nome_rm_ou_UF'] = uf\n",
    "    # print(df_rm.subnormal.value_counts())\n",
    "\n",
    "    registro['quantidade_de_municipios_processados'] = df_rm.cod_municipio.unique().shape[0]\n",
    "\n",
    "    setores_normais = df_rm.loc[filter & (df_rm.loc[filter].subnormal == 0)].shape[0]\n",
    "    registro['quantidade_original_de_setores_normais'] = setores_normais\n",
    "    \n",
    "    setores_subnormais = df_rm.loc[filter & (df_rm.loc[filter].subnormal == 1)].shape[0]\n",
    "    registro['quantidade_original_de_setores_subnormais'] = setores_subnormais\n",
    "    # print(setores_normais, setores_subnormais)\n",
    "    \n",
    "\n",
    "    samples = min(setores_normais, math.floor(setores_subnormais * 1.7))\n",
    "    # samples = 1\n",
    "\n",
    "    # prepara amostras e lições\n",
    "    x = df_rm.loc[(filter) & (subnormal)]\n",
    "    x_ = df_rm.loc[(filter) & (~subnormal)]#.sample(n=samples, random_state=13)\n",
    "    X = pd.concat([x, x_]).loc[(filter), dimensoes]\n",
    "    transformer = Normalizer().fit(X)\n",
    "    \n",
    "    # X = transformer.transform(X)\n",
    "\n",
    "    y = pd.concat([x, x_]).loc[(filter), 'subnormal']\n",
    "    # X = df_rm.loc[(filter), dimensoes]\n",
    "    # y = df_rm.loc[(filter), 'subnormal']\n",
    "\n",
    "\n",
    "# from sklearn.discriminant_analysis import QuadraticDiscriminantAnalysis\n",
    "    # Processa os modelos, LDA\n",
    "    # print(y.value_counts())\n",
    "    # clf = LinearDiscriminantAnalysis(solver='lsqr')\n",
    "    clf = QuadraticDiscriminantAnalysis()\n",
    "    clf.fit(X, y)\n",
    "    print(df_rm.nome_rm.unique()[0])\n",
    "    print(X.shape)\n",
    "    # print(clf.coef_)\n",
    "    # print(np.unique(clf.predict(X), return_counts=True))\n",
    "    # predicao = clf.predict(transformer.transform(df_rm.loc[(filter), dimensoes]))\n",
    "    predicao = clf.predict(df_rm.loc[(filter), dimensoes])\n",
    "    try: \n",
    "        atribuidos_como_subnormais = np.unique(predicao, return_counts=True)[1][1]\n",
    "    except:\n",
    "        atribuidos_como_subnormais = 0\n",
    "    registro['atribuidos_como_subnormais_LDA'] = atribuidos_como_subnormais\n",
    "    # print(clf.score(X, y))\n",
    "    registro['proporcao_atribuido_original_LDA'] = atribuidos_como_subnormais / setores_subnormais\n",
    "    registro['score_LDA'] = clf.score(X, y)\n",
    "    df.loc[(filter), 'subnormal_LDA'] = predicao\n",
    "\n",
    "    # Processa model RandonForest\n",
    "    # clf = RandomForestClassifier(max_depth=10, random_state=0)\n",
    "    clf = GaussianNB()\n",
    "    clf.fit(X, y)\n",
    "    # print(np.unique(clf.predict(X), return_counts=True))\n",
    "    # predicao = clf.predict(transformer.transform(df_rm.loc[(filter), dimensoes]))\n",
    "    predicao = clf.predict(df_rm.loc[(filter), dimensoes])\n",
    "    try:\n",
    "        atribuidos_como_subnormais = np.unique(predicao, return_counts=True)[1][1]\n",
    "    except:\n",
    "        atribuidos_como_subnormais = 0    \n",
    "    registro['atribuidos_como_subnormais_RandomForest'] = atribuidos_como_subnormais\n",
    "    # print(clf.score(X, y))\n",
    "    registro['proporcao_atribuido_original_RandomForest'] = atribuidos_como_subnormais / setores_subnormais\n",
    "    registro['score_RandomForest'] = clf.score(X, y)\n",
    "    df.loc[(filter), 'subnormal_RandomForest'] = predicao\n",
    "\n",
    "\n",
    "    # Processa modelo SVC\n",
    "    clf = SVC(C=1, random_state=42)\n",
    "    clf.fit(Normalizer().fit_transform(X), y)\n",
    "    # print(np.unique(clf.predict(X), return_counts=True))\n",
    "    predicao = clf.predict(Normalizer().fit_transform(df_rm.loc[(filter), dimensoes]))\n",
    "    try:\n",
    "        atribuidos_como_subnormais = np.unique(clf.predict(Normalizer().fit_transform(df_rm.loc[(filter), dimensoes])), return_counts=True)[1][1]\n",
    "    except:\n",
    "        atribuidos_como_subnormais = 0    \n",
    "    registro['atribuidos_como_subnormais_SVC'] = atribuidos_como_subnormais\n",
    "    # print(clf.score(X, y))\n",
    "    registro['proporcao_atribuido_original_SVC'] = atribuidos_como_subnormais / setores_subnormais\n",
    "    registro['score_SVC'] = clf.score(Normalizer().fit_transform(X), y)\n",
    "    df.loc[(filter), 'subnormal_SVC'] = predicao\n",
    "\n",
    "    # Salva as predicoes em atributos\n",
    "    return registro"
   ]
  },
  {
   "cell_type": "code",
   "execution_count": 58,
   "metadata": {},
   "outputs": [
    {
     "name": "stdout",
     "output_type": "stream",
     "text": [
      "Belém\n",
      "(1530, 18)\n",
      "Grande São Luís\n",
      "(862, 18)\n",
      "Fortaleza\n",
      "(2565, 18)\n",
      "Recife\n",
      "(2495, 18)\n",
      "Maceió\n",
      "(697, 18)\n",
      "Salvador\n",
      "(2799, 18)\n",
      "Belo Horizonte\n",
      "(4130, 18)\n",
      "Vale do Aço\n",
      "(379, 18)\n",
      "Rio de Janeiro\n",
      "(13780, 18)\n",
      "São Paulo\n",
      "(20291, 18)\n",
      "Baixada Santista\n",
      "(1734, 18)\n",
      "Campinas\n",
      "(2603, 18)\n",
      "Curitiba\n",
      "(2678, 18)\n",
      "Porto Alegre\n",
      "(4431, 18)\n",
      "Região Integrada de Desenvolvimento do Distrito Federal e Entorno\n",
      "(2752, 18)\n"
     ]
    }
   ],
   "source": [
    "# Processa cada um dos municípios da sua Região MEtropolitana\n",
    "result = [] \n",
    "\n",
    "for rm in rms:\n",
    "\n",
    "    rm_filter = (df.rm == rm)\n",
    "    registro = processa_modelos(rm_filter, rm=rm)\n",
    "    # Salva as predicoes em atributos\n",
    "    result.append(registro)"
   ]
  },
  {
   "cell_type": "code",
   "execution_count": 52,
   "metadata": {},
   "outputs": [],
   "source": [
    "# clf.coef_"
   ]
  },
  {
   "cell_type": "code",
   "execution_count": 53,
   "metadata": {},
   "outputs": [],
   "source": [
    "# df.loc[df.subnormal == 1, dimensoes].describe()"
   ]
  },
  {
   "cell_type": "code",
   "execution_count": 54,
   "metadata": {},
   "outputs": [],
   "source": [
    "# df.loc[df.subnormal == 0, dimensoes].describe()"
   ]
  },
  {
   "cell_type": "code",
   "execution_count": 47,
   "metadata": {},
   "outputs": [
    {
     "data": {
      "text/plain": [
       "<Axes: ylabel='Density'>"
      ]
     },
     "execution_count": 47,
     "metadata": {},
     "output_type": "execute_result"
    },
    {
     "data": {
      "image/png": "[encoded data removed]",
      "text/plain": [
       "<Figure size 640x480 with 1 Axes>"
      ]
     },
     "metadata": {},
     "output_type": "display_data"
    }
   ],
   "source": [
    "qt = QuantileTransformer(output_distribution='normal')\n",
    "seila = qt.fit_transform(df.loc[subnormal, dimensoes])\n",
    "pd.DataFrame(seila).plot.kde()\n",
    "\n",
    "# df.loc[subnormal].numero_medio_pessoas.plot.kde()\n",
    "# df.loc[~subnormal].numero_medio_pessoas.plot.kde()\n",
    "\n",
    "# df.loc[subnormal].anos_medios_estudo_responsavel.plot.kde()\n",
    "# df.loc[~subnormal].anos_medios_estudo_responsavel.plot.kde()\n",
    "\n",
    "# df.loc[subnormal].porcentagem_responsaveis_menos_8_anos_de_estudo.plot.kde()\n",
    "# df.loc[~subnormal].porcentagem_responsaveis_menos_8_anos_de_estudo.plot.kde()\n",
    "\n",
    "# df.loc[subnormal].porcentagem_responsaveis_nao_alfabetizado_com_menos_de_30_anos.plot.kde()\n",
    "# df.loc[~subnormal].porcentagem_responsaveis_nao_alfabetizado_com_menos_de_30_anos.plot.kde()\n",
    "\n",
    "# df.loc[subnormal].porcentagem_domicilios_sem_coleta_de_lixo.plot.kde()\n",
    "# df.loc[~subnormal].porcentagem_domicilios_sem_coleta_de_lixo.plot.kde()\n",
    "\n",
    "# df.loc[subnormal].porcentagem_domicilios_sem_coleta_de_lixo.plot.kde()\n",
    "# df.loc[~subnormal].porcentagem_domicilios_sem_coleta_de_lixo.plot.kde()\n"
   ]
  },
  {
   "cell_type": "code",
   "execution_count": 33,
   "metadata": {},
   "outputs": [],
   "source": [
    "# df.loc[subnormal].anos_medios_estudo_responsavel.plot.kde()\n",
    "# df.loc[~subnormal].anos_medios_estudo_responsavel.plot.kde()"
   ]
  },
  {
   "cell_type": "code",
   "execution_count": 56,
   "metadata": {},
   "outputs": [
    {
     "data": {
      "text/html": [
       "<div>\n",
       "<style scoped>\n",
       "    .dataframe tbody tr th:only-of-type {\n",
       "        vertical-align: middle;\n",
       "    }\n",
       "\n",
       "    .dataframe tbody tr th {\n",
       "        vertical-align: top;\n",
       "    }\n",
       "\n",
       "    .dataframe thead th {\n",
       "        text-align: right;\n",
       "    }\n",
       "</style>\n",
       "<table border=\"1\" class=\"dataframe\">\n",
       "  <thead>\n",
       "    <tr style=\"text-align: right;\">\n",
       "      <th></th>\n",
       "      <th>nome_rm</th>\n",
       "      <th>rm</th>\n",
       "      <th>numero_de_domicilios</th>\n",
       "      <th>numero_moradores</th>\n",
       "    </tr>\n",
       "    <tr>\n",
       "      <th>rm</th>\n",
       "      <th></th>\n",
       "      <th></th>\n",
       "      <th></th>\n",
       "      <th></th>\n",
       "    </tr>\n",
       "  </thead>\n",
       "  <tbody>\n",
       "    <tr>\n",
       "      <th>0</th>\n",
       "      <td>Não pertence</td>\n",
       "      <td>931</td>\n",
       "      <td>187970.00</td>\n",
       "      <td>761703.00</td>\n",
       "    </tr>\n",
       "    <tr>\n",
       "      <th>1</th>\n",
       "      <td>Belém</td>\n",
       "      <td>873</td>\n",
       "      <td>227380.00</td>\n",
       "      <td>999840.00</td>\n",
       "    </tr>\n",
       "    <tr>\n",
       "      <th>2</th>\n",
       "      <td>Grande São Luís</td>\n",
       "      <td>312</td>\n",
       "      <td>84059.00</td>\n",
       "      <td>369693.00</td>\n",
       "    </tr>\n",
       "    <tr>\n",
       "      <th>3</th>\n",
       "      <td>Fortaleza</td>\n",
       "      <td>1385</td>\n",
       "      <td>341535.00</td>\n",
       "      <td>1440488.00</td>\n",
       "    </tr>\n",
       "    <tr>\n",
       "      <th>4</th>\n",
       "      <td>Natal</td>\n",
       "      <td>7</td>\n",
       "      <td>1283.00</td>\n",
       "      <td>5551.00</td>\n",
       "    </tr>\n",
       "    <tr>\n",
       "      <th>5</th>\n",
       "      <td>Recife</td>\n",
       "      <td>1023</td>\n",
       "      <td>334583.00</td>\n",
       "      <td>1333164.00</td>\n",
       "    </tr>\n",
       "    <tr>\n",
       "      <th>6</th>\n",
       "      <td>Maceió</td>\n",
       "      <td>106</td>\n",
       "      <td>21867.00</td>\n",
       "      <td>90010.00</td>\n",
       "    </tr>\n",
       "    <tr>\n",
       "      <th>7</th>\n",
       "      <td>Salvador</td>\n",
       "      <td>1047</td>\n",
       "      <td>290167.00</td>\n",
       "      <td>1140481.00</td>\n",
       "    </tr>\n",
       "    <tr>\n",
       "      <th>8</th>\n",
       "      <td>Belo Horizonte</td>\n",
       "      <td>1481</td>\n",
       "      <td>371448.00</td>\n",
       "      <td>1472453.00</td>\n",
       "    </tr>\n",
       "    <tr>\n",
       "      <th>10</th>\n",
       "      <td>Vale do Aço</td>\n",
       "      <td>58</td>\n",
       "      <td>12553.00</td>\n",
       "      <td>51258.00</td>\n",
       "    </tr>\n",
       "    <tr>\n",
       "      <th>12</th>\n",
       "      <td>Grande Vitória</td>\n",
       "      <td>10</td>\n",
       "      <td>3130.00</td>\n",
       "      <td>12221.00</td>\n",
       "    </tr>\n",
       "    <tr>\n",
       "      <th>13</th>\n",
       "      <td>Rio de Janeiro</td>\n",
       "      <td>5129</td>\n",
       "      <td>1195717.00</td>\n",
       "      <td>4255750.00</td>\n",
       "    </tr>\n",
       "    <tr>\n",
       "      <th>14</th>\n",
       "      <td>São Paulo</td>\n",
       "      <td>4879</td>\n",
       "      <td>1187597.00</td>\n",
       "      <td>4651592.00</td>\n",
       "    </tr>\n",
       "    <tr>\n",
       "      <th>15</th>\n",
       "      <td>Baixada Santista</td>\n",
       "      <td>430</td>\n",
       "      <td>118859.00</td>\n",
       "      <td>457773.00</td>\n",
       "    </tr>\n",
       "    <tr>\n",
       "      <th>16</th>\n",
       "      <td>Campinas</td>\n",
       "      <td>391</td>\n",
       "      <td>78723.00</td>\n",
       "      <td>309479.00</td>\n",
       "    </tr>\n",
       "    <tr>\n",
       "      <th>17</th>\n",
       "      <td>Curitiba</td>\n",
       "      <td>895</td>\n",
       "      <td>223082.00</td>\n",
       "      <td>837701.00</td>\n",
       "    </tr>\n",
       "    <tr>\n",
       "      <th>20</th>\n",
       "      <td>Núcleo Metropolitano da RM Florianópolis</td>\n",
       "      <td>3</td>\n",
       "      <td>445.00</td>\n",
       "      <td>1886.00</td>\n",
       "    </tr>\n",
       "    <tr>\n",
       "      <th>26</th>\n",
       "      <td>Porto Alegre</td>\n",
       "      <td>910</td>\n",
       "      <td>210437.00</td>\n",
       "      <td>780364.00</td>\n",
       "    </tr>\n",
       "    <tr>\n",
       "      <th>27</th>\n",
       "      <td>Goiânia</td>\n",
       "      <td>19</td>\n",
       "      <td>4422.00</td>\n",
       "      <td>16608.00</td>\n",
       "    </tr>\n",
       "    <tr>\n",
       "      <th>28</th>\n",
       "      <td>Região Integrada de Desenvolvimento do Distrit...</td>\n",
       "      <td>268</td>\n",
       "      <td>61000.00</td>\n",
       "      <td>244425.00</td>\n",
       "    </tr>\n",
       "  </tbody>\n",
       "</table>\n",
       "</div>"
      ],
      "text/plain": [
       "                                              nome_rm    rm  \\\n",
       "rm                                                            \n",
       "0                                        Não pertence   931   \n",
       "1                                               Belém   873   \n",
       "2                                     Grande São Luís   312   \n",
       "3                                           Fortaleza  1385   \n",
       "4                                               Natal     7   \n",
       "5                                              Recife  1023   \n",
       "6                                              Maceió   106   \n",
       "7                                            Salvador  1047   \n",
       "8                                      Belo Horizonte  1481   \n",
       "10                                        Vale do Aço    58   \n",
       "12                                     Grande Vitória    10   \n",
       "13                                     Rio de Janeiro  5129   \n",
       "14                                          São Paulo  4879   \n",
       "15                                   Baixada Santista   430   \n",
       "16                                           Campinas   391   \n",
       "17                                           Curitiba   895   \n",
       "20           Núcleo Metropolitano da RM Florianópolis     3   \n",
       "26                                       Porto Alegre   910   \n",
       "27                                            Goiânia    19   \n",
       "28  Região Integrada de Desenvolvimento do Distrit...   268   \n",
       "\n",
       "    numero_de_domicilios  numero_moradores  \n",
       "rm                                          \n",
       "0              187970.00         761703.00  \n",
       "1              227380.00         999840.00  \n",
       "2               84059.00         369693.00  \n",
       "3              341535.00        1440488.00  \n",
       "4                1283.00           5551.00  \n",
       "5              334583.00        1333164.00  \n",
       "6               21867.00          90010.00  \n",
       "7              290167.00        1140481.00  \n",
       "8              371448.00        1472453.00  \n",
       "10              12553.00          51258.00  \n",
       "12               3130.00          12221.00  \n",
       "13            1195717.00        4255750.00  \n",
       "14            1187597.00        4651592.00  \n",
       "15             118859.00         457773.00  \n",
       "16              78723.00         309479.00  \n",
       "17             223082.00         837701.00  \n",
       "20                445.00           1886.00  \n",
       "26             210437.00         780364.00  \n",
       "27               4422.00          16608.00  \n",
       "28              61000.00         244425.00  "
      ]
     },
     "execution_count": 56,
     "metadata": {},
     "output_type": "execute_result"
    }
   ],
   "source": [
    "# df.rm.isin([13, 14, 15, 16]) &\n",
    "df.loc[(df.subnormal == 1) | (df.subnormal_RandomForest == 1), ['rm', 'nome_rm', 'numero_de_domicilios', 'numero_moradores']].groupby('rm').agg({\n",
    "    'nome_rm': 'first',\n",
    "    'rm': 'count',\n",
    "    'numero_de_domicilios': 'sum',\n",
    "    'numero_moradores': 'sum'\n",
    "})"
   ]
  },
  {
   "cell_type": "code",
   "execution_count": 40,
   "metadata": {},
   "outputs": [],
   "source": [
    "\n",
    "dimensoes.append('subnormal')"
   ]
  },
  {
   "cell_type": "code",
   "execution_count": 44,
   "metadata": {},
   "outputs": [],
   "source": [
    "dimensoes.append('rm')\n",
    "# df.columns"
   ]
  },
  {
   "cell_type": "code",
   "execution_count": 46,
   "metadata": {},
   "outputs": [],
   "source": [
    "df.loc[df.rm != 0, dimensoes].to_csv('resultados/conferencia-lab-geo.csv.zip')"
   ]
  },
  {
   "cell_type": "code",
   "execution_count": 77,
   "metadata": {},
   "outputs": [],
   "source": [
    "# Resultados Parciais espacializados para as RMS ([13, 14, 15, 16])\n",
    "gdf_setores = gpd.read_file('data/censo_2000/br_set_cens_2000_4326.zip')"
   ]
  },
  {
   "cell_type": "code",
   "execution_count": 14,
   "metadata": {},
   "outputs": [],
   "source": [
    "# df.dtypes\n"
   ]
  },
  {
   "cell_type": "code",
   "execution_count": 15,
   "metadata": {},
   "outputs": [],
   "source": [
    "gdf_setores.loc[:, 'Cod_setor'] = gdf_setores.CD_GEOCODI.astype('int')"
   ]
  },
  {
   "cell_type": "code",
   "execution_count": 16,
   "metadata": {},
   "outputs": [],
   "source": [
    "gdf_setores_joined = gdf_setores.set_index('Cod_setor').join(df.set_index('Cod_setor'), how='left', lsuffix='_df')"
   ]
  },
  {
   "cell_type": "code",
   "execution_count": 17,
   "metadata": {},
   "outputs": [],
   "source": [
    "gdf_setores_joined.loc[:, 'legenda'] = 'Setores Comuns'\n",
    "gdf_setores_joined.loc[gdf_setores_joined.subnormal_LDA.isna(), 'legenda'] = 'Sem Informação'"
   ]
  },
  {
   "cell_type": "code",
   "execution_count": 18,
   "metadata": {},
   "outputs": [],
   "source": [
    "subnormal = (gdf_setores_joined.tipo_setor == 1)"
   ]
  },
  {
   "cell_type": "code",
   "execution_count": 19,
   "metadata": {},
   "outputs": [],
   "source": [
    "gdf_setores_joined.loc[subnormal, 'legenda'] = 'Subnormais'"
   ]
  },
  {
   "cell_type": "code",
   "execution_count": 20,
   "metadata": {},
   "outputs": [],
   "source": [
    "precarios = (gdf_setores_joined.subnormal_LDA == 1.0)"
   ]
  },
  {
   "cell_type": "code",
   "execution_count": 21,
   "metadata": {},
   "outputs": [],
   "source": [
    "gdf_setores_joined.loc[(precarios & ~subnormal), 'legenda'] = 'Precários'"
   ]
  },
  {
   "cell_type": "code",
   "execution_count": 22,
   "metadata": {},
   "outputs": [],
   "source": [
    "# gdf_setores"
   ]
  },
  {
   "cell_type": "code",
   "execution_count": 23,
   "metadata": {},
   "outputs": [
    {
     "data": {
      "text/plain": [
       "legenda\n",
       "Setores Comuns    57361\n",
       "Sem Informação    57068\n",
       "Subnormais         7783\n",
       "Precários          5800\n",
       "Name: count, dtype: int64"
      ]
     },
     "execution_count": 23,
     "metadata": {},
     "output_type": "execute_result"
    }
   ],
   "source": [
    "gdf_setores_joined.legenda.value_counts()"
   ]
  },
  {
   "cell_type": "code",
   "execution_count": 24,
   "metadata": {},
   "outputs": [],
   "source": [
    "# gdf_setores_joined.loc[~gdf_setores_joined.subnormal_LDA.isna(), ['geometry', 'subnormal_LDA', 'legenda']].to_file('resultados/test_rms_samples_X_2.gpkg', driver='GPKG')"
   ]
  },
  {
   "cell_type": "code",
   "execution_count": null,
   "metadata": {},
   "outputs": [],
   "source": []
  },
  {
   "cell_type": "code",
   "execution_count": null,
   "metadata": {},
   "outputs": [],
   "source": [
    "# result"
   ]
  },
  {
   "cell_type": "code",
   "execution_count": null,
   "metadata": {},
   "outputs": [],
   "source": [
    "df.subnormal_LDA.value_counts()"
   ]
  },
  {
   "cell_type": "code",
   "execution_count": null,
   "metadata": {},
   "outputs": [],
   "source": [
    "df.subnormal_RandomForest.value_counts()"
   ]
  },
  {
   "cell_type": "code",
   "execution_count": null,
   "metadata": {},
   "outputs": [],
   "source": [
    "df.columns"
   ]
  },
  {
   "cell_type": "code",
   "execution_count": null,
   "metadata": {},
   "outputs": [],
   "source": [
    "r_ufs = df[df.rm.isin(cidades_fora_rms)].loc[(subnormal), ['nome_UF', 'subnormal']].groupby('nome_UF').count().reset_index()"
   ]
  },
  {
   "cell_type": "code",
   "execution_count": null,
   "metadata": {},
   "outputs": [],
   "source": [
    "r_ufs"
   ]
  },
  {
   "cell_type": "code",
   "execution_count": null,
   "metadata": {},
   "outputs": [],
   "source": [
    "df_setores = df[df.rm.isin(cidades_fora_rms)].loc[:, ['nome_UF', 'subnormal', 'Cod_setor']].groupby('nome_UF').agg({'subnormal': 'sum', 'Cod_setor':'count'})"
   ]
  },
  {
   "cell_type": "code",
   "execution_count": null,
   "metadata": {},
   "outputs": [],
   "source": [
    "df_setores[df_setores.subnormal < 20]"
   ]
  },
  {
   "cell_type": "code",
   "execution_count": null,
   "metadata": {},
   "outputs": [],
   "source": [
    "df_setores[df_setores.subnormal < 20].sum()"
   ]
  },
  {
   "cell_type": "code",
   "execution_count": null,
   "metadata": {},
   "outputs": [],
   "source": [
    "cidades_fora_rms"
   ]
  },
  {
   "cell_type": "code",
   "execution_count": null,
   "metadata": {},
   "outputs": [],
   "source": [
    "r_ufs[r_ufs.subnormal >= 20]"
   ]
  },
  {
   "cell_type": "code",
   "execution_count": null,
   "metadata": {},
   "outputs": [],
   "source": [
    "r_ufs[r_ufs.subnormal < 20]"
   ]
  },
  {
   "cell_type": "code",
   "execution_count": null,
   "metadata": {},
   "outputs": [],
   "source": [
    "# df[(df.rm.isin(cidades_fora_rms))]"
   ]
  },
  {
   "cell_type": "code",
   "execution_count": null,
   "metadata": {},
   "outputs": [],
   "source": [
    "# Processa cada uma das UFs\n",
    "df_uf = df[df.rm.isin(cidades_fora_rms)]\n",
    "ufs = r_ufs[r_ufs.subnormal >= 20].nome_UF.to_list()\n",
    "\n",
    "for uf in ufs:\n",
    "\n",
    "    uf_filter = (df.nome_UF == uf) & (df.rm.isin(cidades_fora_rms))\n",
    "    print(uf)\n",
    "\n",
    "    registro = processa_modelos(uf_filter, uf=uf)\n",
    "    # Salva as predicoes em atributos\n",
    "    result.append(registro)\n"
   ]
  },
  {
   "cell_type": "code",
   "execution_count": null,
   "metadata": {},
   "outputs": [],
   "source": [
    "gr_filter = (df.cod_grande_regiao == 4.) & (df.subnormal_LDA.isna())"
   ]
  },
  {
   "cell_type": "code",
   "execution_count": null,
   "metadata": {},
   "outputs": [],
   "source": [
    "## TODO\n",
    "## Processar as cidades restantes por MacroRegião \n",
    "## Região 4 (Sul) não possui licoes suficientes de municípios com setores subnormais\n",
    "for gr in [1., 2., 3., 5.]:\n",
    "    gr_filter = (df.cod_grande_regiao == gr) & (~df.processado)\n",
    "    print(gr)\n",
    "\n",
    "    if len(df[gr_filter]) > 0:\n",
    "        registro = processa_modelos(gr_filter, uf=f'Macro Região {str(gr)}')\n",
    "        # Salva as predicoes em atributos\n",
    "        result.append(registro)"
   ]
  },
  {
   "cell_type": "code",
   "execution_count": null,
   "metadata": {},
   "outputs": [],
   "source": [
    "df[df.cod_grande_regiao == 4.]"
   ]
  },
  {
   "cell_type": "code",
   "execution_count": null,
   "metadata": {},
   "outputs": [],
   "source": [
    "pd.DataFrame(result).to_excel('resultados/geral_por_RM_UF.xlsx')"
   ]
  },
  {
   "cell_type": "code",
   "execution_count": null,
   "metadata": {},
   "outputs": [],
   "source": [
    "pd.DataFrame(result).quantidade_de_municipios_processados.sum()"
   ]
  },
  {
   "cell_type": "code",
   "execution_count": null,
   "metadata": {},
   "outputs": [],
   "source": [
    "df.subnormal_LDA.value_counts()"
   ]
  },
  {
   "cell_type": "code",
   "execution_count": null,
   "metadata": {},
   "outputs": [],
   "source": [
    "df.subnormal_RandomForest.value_counts()\n",
    "# df.columns"
   ]
  },
  {
   "cell_type": "code",
   "execution_count": null,
   "metadata": {},
   "outputs": [],
   "source": [
    "df.subnormal.value_counts()"
   ]
  },
  {
   "cell_type": "code",
   "execution_count": null,
   "metadata": {},
   "outputs": [],
   "source": [
    "df.to_csv('resultados/modelo_preditivo.csv.zip', compression='zip')"
   ]
  },
  {
   "cell_type": "code",
   "execution_count": null,
   "metadata": {},
   "outputs": [],
   "source": [
    "df[df.subnormal_LDA.isna()]"
   ]
  },
  {
   "cell_type": "code",
   "execution_count": null,
   "metadata": {},
   "outputs": [],
   "source": [
    "df"
   ]
  },
  {
   "cell_type": "code",
   "execution_count": null,
   "metadata": {},
   "outputs": [],
   "source": [
    "df.processado.value_counts()"
   ]
  },
  {
   "cell_type": "code",
   "execution_count": null,
   "metadata": {},
   "outputs": [],
   "source": []
  }
 ],
 "metadata": {
  "kernelspec": {
   "display_name": "sklearn-env",
   "language": "python",
   "name": "python3"
  },
  "language_info": {
   "codemirror_mode": {
    "name": "ipython",
    "version": 3
   },
   "file_extension": ".py",
   "mimetype": "text/x-python",
   "name": "python",
   "nbconvert_exporter": "python",
   "pygments_lexer": "ipython3",
   "version": "3.11.3"
  },
  "orig_nbformat": 4
 },
 "nbformat": 4,
 "nbformat_minor": 2
}
