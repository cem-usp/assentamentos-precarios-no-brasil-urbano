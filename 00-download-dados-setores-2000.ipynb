{
 "cells": [
  {
   "cell_type": "code",
   "execution_count": 12,
   "metadata": {},
   "outputs": [],
   "source": [
    "import numpy as np\n",
    "from ftplib import FTP\n",
    "import urllib.request\n",
    "import zipfile\n",
    "import os.path\n",
    "import glob\n",
    "import shutil"
   ]
  },
  {
   "cell_type": "code",
   "execution_count": 13,
   "metadata": {},
   "outputs": [],
   "source": [
    "URL_DOWNLOAD = 'https://ftp.ibge.gov.br/Censos/Censo_Demografico_2000/Dados_do_Universo/Agregado_por_Setores_Censitarios/'"
   ]
  },
  {
   "cell_type": "code",
   "execution_count": 14,
   "metadata": {},
   "outputs": [
    {
     "data": {
      "text/plain": [
       "'221 Goodbye.'"
      ]
     },
     "execution_count": 14,
     "metadata": {},
     "output_type": "execute_result"
    }
   ],
   "source": [
    "ftp = FTP('ftp.ibge.gov.br')\n",
    "ftp.login()\n",
    "ftp.cwd('Censos/Censo_Demografico_2000/Dados_do_Universo/Agregado_por_Setores_Censitarios/')\n",
    "files = ftp.nlst()\n",
    "ftp.quit()\n"
   ]
  },
  {
   "cell_type": "code",
   "execution_count": 15,
   "metadata": {},
   "outputs": [
    {
     "data": {
      "text/plain": [
       "['Agregado_de_setores_2000_AC.zip',\n",
       " 'Agregado_de_setores_2000_AL.zip',\n",
       " 'Agregado_de_setores_2000_AM.zip',\n",
       " 'Agregado_de_setores_2000_AP.zip',\n",
       " 'Agregado_de_setores_2000_BA.zip',\n",
       " 'Agregado_de_setores_2000_CE.zip',\n",
       " 'Agregado_de_setores_2000_DF.zip',\n",
       " 'Agregado_de_setores_2000_ES.zip',\n",
       " 'Agregado_de_setores_2000_GO.zip',\n",
       " 'Agregado_de_setores_2000_MA.zip',\n",
       " 'Agregado_de_setores_2000_MG.zip',\n",
       " 'Agregado_de_setores_2000_MS.zip',\n",
       " 'Agregado_de_setores_2000_MT.zip',\n",
       " 'Agregado_de_setores_2000_PA.zip',\n",
       " 'Agregado_de_setores_2000_PB.zip',\n",
       " 'Agregado_de_setores_2000_PE.zip',\n",
       " 'Agregado_de_setores_2000_PI.zip',\n",
       " 'Agregado_de_setores_2000_PR.zip',\n",
       " 'Agregado_de_setores_2000_RJ.zip',\n",
       " 'Agregado_de_setores_2000_RN.zip',\n",
       " 'Agregado_de_setores_2000_RO.zip',\n",
       " 'Agregado_de_setores_2000_RR.zip',\n",
       " 'Agregado_de_setores_2000_RS.zip',\n",
       " 'Agregado_de_setores_2000_SC.zip',\n",
       " 'Agregado_de_setores_2000_SE.zip',\n",
       " 'Agregado_de_setores_2000_SP_Exclusive_RM.zip',\n",
       " 'Agregado_de_setores_2000_SP_RM.zip',\n",
       " 'Agregado_de_setores_2000_TO.zip',\n",
       " 'Arquivo_AgreSetores_Completo_V2.doc']"
      ]
     },
     "execution_count": 15,
     "metadata": {},
     "output_type": "execute_result"
    }
   ],
   "source": [
    "files"
   ]
  },
  {
   "cell_type": "code",
   "execution_count": 16,
   "metadata": {},
   "outputs": [],
   "source": [
    "UFS = [\n",
    "    'AC',\n",
    "    'AL',\n",
    "    'AM',\n",
    "    'AP',\n",
    "    'BA',\n",
    "    'CE',\n",
    "    'DF',\n",
    "    'ES',\n",
    "    'GO',\n",
    "    'MA',\n",
    "    'MG',\n",
    "    'MS',\n",
    "    'MT',\n",
    "    'PA',\n",
    "    'PB',\n",
    "    'PE',\n",
    "    'PI',\n",
    "    'PR',\n",
    "    'RJ',\n",
    "    'RN',\n",
    "    'RO',\n",
    "    'RR',\n",
    "    'RS',\n",
    "    'SC',\n",
    "    'SE',\n",
    "    'SP_Exclusive_RM',\n",
    "    'SP_RM',\n",
    "    'TO'\n",
    "]"
   ]
  },
  {
   "cell_type": "code",
   "execution_count": 17,
   "metadata": {},
   "outputs": [
    {
     "data": {
      "text/plain": [
       "'Agregado_de_setores_2000_SP_Exclusive_RM.zip'"
      ]
     },
     "execution_count": 17,
     "metadata": {},
     "output_type": "execute_result"
    }
   ],
   "source": [
    "np.array(files)[np.char.startswith(files, 'Agregado_de_setores_2000_SP_Exclusive_RM')][0]"
   ]
  },
  {
   "cell_type": "code",
   "execution_count": 18,
   "metadata": {},
   "outputs": [
    {
     "name": "stdout",
     "output_type": "stream",
     "text": [
      "Agregado_de_setores_2000_AC.zip\n",
      "Agregado_de_setores_2000_AL.zip\n",
      "Agregado_de_setores_2000_AM.zip\n",
      "Agregado_de_setores_2000_AP.zip\n",
      "Agregado_de_setores_2000_BA.zip\n",
      "Agregado_de_setores_2000_CE.zip\n",
      "Agregado_de_setores_2000_DF.zip\n",
      "Agregado_de_setores_2000_ES.zip\n",
      "Agregado_de_setores_2000_GO.zip\n",
      "Agregado_de_setores_2000_MA.zip\n",
      "Agregado_de_setores_2000_MG.zip\n",
      "Agregado_de_setores_2000_MS.zip\n",
      "Agregado_de_setores_2000_MT.zip\n",
      "Agregado_de_setores_2000_PA.zip\n",
      "Agregado_de_setores_2000_PB.zip\n",
      "Agregado_de_setores_2000_PE.zip\n",
      "Agregado_de_setores_2000_PI.zip\n",
      "Agregado_de_setores_2000_PR.zip\n",
      "Agregado_de_setores_2000_RJ.zip\n",
      "Agregado_de_setores_2000_RN.zip\n",
      "Agregado_de_setores_2000_RO.zip\n",
      "Agregado_de_setores_2000_RR.zip\n",
      "Agregado_de_setores_2000_RS.zip\n",
      "Agregado_de_setores_2000_SC.zip\n",
      "Agregado_de_setores_2000_SE.zip\n"
     ]
    }
   ],
   "source": [
    "for uf in UFS:\n",
    "    starts_with = np.char.startswith(files, 'Agregado_de_setores_2000_' + uf)\n",
    "    file = np.array(files)[starts_with][0]\n",
    "    url = f'{URL_DOWNLOAD}/{file}'\n",
    "    file_target = f'data/censo_2000/{uf}.zip'\n",
    "    if not os.path.isfile(file_target):\n",
    "        urllib.request.urlretrieve(url, f'data/censo_2000/{uf}.zip')\n",
    "    print(file) "
   ]
  },
  {
   "cell_type": "code",
   "execution_count": 8,
   "metadata": {},
   "outputs": [
    {
     "name": "stdout",
     "output_type": "stream",
     "text": [
      "Descompactando AC\n",
      "Descompactando AL\n",
      "Descompactando AM\n",
      "Descompactando AP\n",
      "Descompactando BA\n",
      "Descompactando CE\n",
      "Descompactando DF\n",
      "Descompactando ES\n",
      "Descompactando GO\n",
      "Descompactando MA\n",
      "Descompactando MG\n",
      "Descompactando MS\n",
      "Descompactando MT\n",
      "Descompactando PA\n",
      "Descompactando PB\n",
      "Descompactando PE\n",
      "Descompactando PI\n",
      "Descompactando PR\n",
      "Descompactando RJ\n",
      "Descompactando RN\n",
      "Descompactando RO\n",
      "Descompactando RR\n",
      "Descompactando RS\n",
      "Descompactando SC\n",
      "Descompactando SE\n",
      "Descompactando SP_Capital\n",
      "Descompactando SP_Exceto_a_Capital\n",
      "Descompactando TO\n"
     ]
    }
   ],
   "source": [
    "for uf in UFS:\n",
    "    print(f'Descompactando {uf}')\n",
    "    folder = f'data/censo_2010/csvs'\n",
    "    check_folder = os.path.isdir(folder)\n",
    "    if not check_folder:\n",
    "        os.makedirs(folder)\n",
    "    os.makedirs('temp')\n",
    "    with zipfile.ZipFile(f'data/censo_2010/{uf}.zip', 'r') as zip_ref:\n",
    "        zip_ref.extractall('temp/')\n",
    "        csv_files = glob.glob(f'temp/**/*.csv', recursive=True)\n",
    "        for f in csv_files:\n",
    "            shutil.copyfile(f, f'{folder}/{f.split(\"/\")[-1]}')\n",
    "    shutil.rmtree('temp')\n",
    "    # break"
   ]
  },
  {
   "cell_type": "code",
   "execution_count": 9,
   "metadata": {},
   "outputs": [
    {
     "data": {
      "text/plain": [
       "[None, None]"
      ]
     },
     "execution_count": 9,
     "metadata": {},
     "output_type": "execute_result"
    }
   ],
   "source": [
    "## Arrumando nomes de arquivos SP2\n",
    "[os.rename(f, '_'.join(f.split('_')[:2]) + '_SP2.csv') for f in glob.glob('data/censo_2010/csvs/*sp2.csv')]"
   ]
  },
  {
   "cell_type": "code",
   "execution_count": 10,
   "metadata": {},
   "outputs": [
    {
     "data": {
      "text/plain": [
       "[None,\n",
       " None,\n",
       " None,\n",
       " None,\n",
       " None,\n",
       " None,\n",
       " None,\n",
       " None,\n",
       " None,\n",
       " None,\n",
       " None,\n",
       " None,\n",
       " None,\n",
       " None]"
      ]
     },
     "execution_count": 10,
     "metadata": {},
     "output_type": "execute_result"
    }
   ],
   "source": [
    "[os.rename(f, f.replace('SP', 'SP2')) for f in glob.glob('data/censo_2010/csvs/*SP.csv')]"
   ]
  },
  {
   "cell_type": "code",
   "execution_count": 11,
   "metadata": {},
   "outputs": [
    {
     "data": {
      "text/plain": [
       "[None, None]"
      ]
     },
     "execution_count": 11,
     "metadata": {},
     "output_type": "execute_result"
    }
   ],
   "source": [
    "[os.rename(f, f.replace('responsavel', 'Responsavel')) for f in glob.glob('data/censo_2010/csvs/responsavel*.csv')]"
   ]
  },
  {
   "cell_type": "code",
   "execution_count": null,
   "metadata": {},
   "outputs": [],
   "source": []
  }
 ],
 "metadata": {
  "kernelspec": {
   "display_name": "dash",
   "language": "python",
   "name": "python3"
  },
  "language_info": {
   "codemirror_mode": {
    "name": "ipython",
    "version": 3
   },
   "file_extension": ".py",
   "mimetype": "text/x-python",
   "name": "python",
   "nbconvert_exporter": "python",
   "pygments_lexer": "ipython3",
   "version": "3.8.12"
  },
  "orig_nbformat": 4
 },
 "nbformat": 4,
 "nbformat_minor": 2
}
