{
 "cells": [
  {
   "cell_type": "code",
   "execution_count": 2,
   "metadata": {},
   "outputs": [
    {
     "name": "stderr",
     "output_type": "stream",
     "text": [
      "/home/feromes/miniconda3/envs/geo/lib/python3.8/site-packages/geopandas/_compat.py:111: UserWarning: The Shapely GEOS version (3.8.0-CAPI-1.13.1 ) is incompatible with the GEOS version PyGEOS was compiled with (3.10.1-CAPI-1.16.0). Conversions between both will be slow.\n",
      "  warnings.warn(\n"
     ]
    }
   ],
   "source": [
    "import geopandas as gpd\n",
    "import pandas as pd\n",
    "import glob"
   ]
  },
  {
   "cell_type": "code",
   "execution_count": 2,
   "metadata": {},
   "outputs": [],
   "source": [
    "setores = glob.glob(\"data/censo_2010/*_setores_censitarios.zip\")"
   ]
  },
  {
   "cell_type": "code",
   "execution_count": 3,
   "metadata": {},
   "outputs": [
    {
     "data": {
      "text/plain": [
       "['data/censo_2010/ro_setores_censitarios.zip',\n",
       " 'data/censo_2010/al_setores_censitarios.zip',\n",
       " 'data/censo_2010/ap_setores_censitarios.zip',\n",
       " 'data/censo_2010/rr_setores_censitarios.zip',\n",
       " 'data/censo_2010/ac_setores_censitarios.zip',\n",
       " 'data/censo_2010/ms_setores_censitarios.zip',\n",
       " 'data/censo_2010/go_setores_censitarios.zip',\n",
       " 'data/censo_2010/pa_setores_censitarios.zip',\n",
       " 'data/censo_2010/pe_setores_censitarios.zip',\n",
       " 'data/censo_2010/rs_setores_censitarios.zip',\n",
       " 'data/censo_2010/ma_setores_censitarios.zip',\n",
       " 'data/censo_2010/to_setores_censitarios.zip',\n",
       " 'data/censo_2010/ce_setores_censitarios.zip',\n",
       " 'data/censo_2010/sp_setores_censitarios.zip',\n",
       " 'data/censo_2010/pb_setores_censitarios.zip',\n",
       " 'data/censo_2010/am_setores_censitarios.zip',\n",
       " 'data/censo_2010/rj_setores_censitarios.zip',\n",
       " 'data/censo_2010/pr_setores_censitarios.zip',\n",
       " 'data/censo_2010/pi_setores_censitarios.zip',\n",
       " 'data/censo_2010/df_setores_censitarios.zip',\n",
       " 'data/censo_2010/sc_setores_censitarios.zip',\n",
       " 'data/censo_2010/es_setores_censitarios.zip',\n",
       " 'data/censo_2010/mg_setores_censitarios.zip',\n",
       " 'data/censo_2010/ba_setores_censitarios.zip',\n",
       " 'data/censo_2010/mt_setores_censitarios.zip',\n",
       " 'data/censo_2010/rn_setores_censitarios.zip',\n",
       " 'data/censo_2010/se_setores_censitarios.zip']"
      ]
     },
     "execution_count": 3,
     "metadata": {},
     "output_type": "execute_result"
    }
   ],
   "source": [
    "setores"
   ]
  },
  {
   "cell_type": "code",
   "execution_count": 4,
   "metadata": {},
   "outputs": [],
   "source": [
    "areas = []\n",
    "gdfs = []\n",
    "\n",
    "for setor in setores:\n",
    "    gdf_uf = gpd.read_file(setor)\n",
    "    gdf_uf.to_crs(epsg=\"5880\", inplace=True)\n",
    "    gdf_uf.loc[:, 'area_do_setor'] = gdf_uf.area\n",
    "    gdfs.append(gdf_uf)\n",
    "    areas.append(gdf_uf.loc[:, ['CD_GEOCODI', 'area_do_setor']])\n",
    "    # break"
   ]
  },
  {
   "cell_type": "code",
   "execution_count": 5,
   "metadata": {},
   "outputs": [],
   "source": [
    "gdf_setores_br = pd.concat(gdfs)"
   ]
  },
  {
   "cell_type": "code",
   "execution_count": 6,
   "metadata": {},
   "outputs": [
    {
     "data": {
      "text/plain": [
       "(316574, 16)"
      ]
     },
     "execution_count": 6,
     "metadata": {},
     "output_type": "execute_result"
    }
   ],
   "source": [
    "gdf_setores_br.shape"
   ]
  },
  {
   "cell_type": "code",
   "execution_count": 7,
   "metadata": {},
   "outputs": [
    {
     "name": "stderr",
     "output_type": "stream",
     "text": [
      "/home/feromes/miniconda3/envs/geo/lib/python3.8/site-packages/geopandas/io/file.py:362: FutureWarning: pandas.Int64Index is deprecated and will be removed from pandas in a future version. Use pandas.Index with the appropriate dtype instead.\n",
      "  pd.Int64Index,\n"
     ]
    }
   ],
   "source": [
    "gdf_setores_br.to_file('data/censo_2010/BR_Setores_2010.gpkg', driver='GPKG')"
   ]
  },
  {
   "cell_type": "code",
   "execution_count": 8,
   "metadata": {},
   "outputs": [],
   "source": [
    "pd.concat(areas).set_index('CD_GEOCODI').to_csv('resultados/area_dos_setores.zip')"
   ]
  },
  {
   "cell_type": "code",
   "execution_count": 9,
   "metadata": {},
   "outputs": [
    {
     "data": {
      "text/plain": [
       "CD_GEOCODI         int64\n",
       "area_do_setor    float64\n",
       "dtype: object"
      ]
     },
     "execution_count": 9,
     "metadata": {},
     "output_type": "execute_result"
    }
   ],
   "source": [
    "pd.read_csv('resultados/area_dos_setores.zip').dtypes"
   ]
  },
  {
   "cell_type": "code",
   "execution_count": 6,
   "metadata": {},
   "outputs": [],
   "source": [
    "ufs = glob.glob(\"data/censo_2010/*_municipios.zip\")"
   ]
  },
  {
   "cell_type": "code",
   "execution_count": 10,
   "metadata": {},
   "outputs": [
    {
     "data": {
      "text/plain": [
       "27"
      ]
     },
     "execution_count": 10,
     "metadata": {},
     "output_type": "execute_result"
    }
   ],
   "source": [
    "len(ufs)"
   ]
  },
  {
   "cell_type": "code",
   "execution_count": 11,
   "metadata": {},
   "outputs": [],
   "source": [
    "# Trabalhando os distritos\n",
    "# ufs = []\n",
    "gdfs = []\n",
    "\n",
    "for uf in ufs:\n",
    "    gdf_uf = gpd.read_file(uf, encoding='ISO-8859-15')\n",
    "    gdf_uf.to_crs(epsg=\"4674\", inplace=True)\n",
    "    # gdf_uf.loc[:, 'area_do_setor'] = gdf_uf.area\n",
    "    gdfs.append(gdf_uf)\n",
    "    # break"
   ]
  },
  {
   "cell_type": "code",
   "execution_count": 12,
   "metadata": {},
   "outputs": [],
   "source": [
    "gdf_distritos = pd.concat(gdfs)"
   ]
  },
  {
   "cell_type": "code",
   "execution_count": 14,
   "metadata": {},
   "outputs": [
    {
     "name": "stderr",
     "output_type": "stream",
     "text": [
      "/home/feromes/miniconda3/envs/geo/lib/python3.8/site-packages/geopandas/io/file.py:362: FutureWarning: pandas.Int64Index is deprecated and will be removed from pandas in a future version. Use pandas.Index with the appropriate dtype instead.\n",
      "  pd.Int64Index,\n"
     ]
    }
   ],
   "source": [
    "gdf_distritos.to_file('data/censo_2010/municipios.gpkg', driver='GPKG')"
   ]
  },
  {
   "cell_type": "code",
   "execution_count": null,
   "metadata": {},
   "outputs": [],
   "source": []
  }
 ],
 "metadata": {
  "kernelspec": {
   "display_name": "geo",
   "language": "python",
   "name": "python3"
  },
  "language_info": {
   "codemirror_mode": {
    "name": "ipython",
    "version": 3
   },
   "file_extension": ".py",
   "mimetype": "text/x-python",
   "name": "python",
   "nbconvert_exporter": "python",
   "pygments_lexer": "ipython3",
   "version": "3.8.12"
  },
  "orig_nbformat": 4
 },
 "nbformat": 4,
 "nbformat_minor": 2
}
