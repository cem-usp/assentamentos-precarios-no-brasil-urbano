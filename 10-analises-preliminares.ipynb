{
 "cells": [
  {
   "cell_type": "code",
   "execution_count": 1,
   "metadata": {},
   "outputs": [
    {
     "name": "stderr",
     "output_type": "stream",
     "text": [
      "/home/feromes/miniconda3/envs/geo/lib/python3.8/site-packages/geopandas/_compat.py:111: UserWarning: The Shapely GEOS version (3.8.0-CAPI-1.13.1 ) is incompatible with the GEOS version PyGEOS was compiled with (3.10.1-CAPI-1.16.0). Conversions between both will be slow.\n",
      "  warnings.warn(\n"
     ]
    }
   ],
   "source": [
    "import geopandas as gpd"
   ]
  },
  {
   "cell_type": "code",
   "execution_count": 2,
   "metadata": {},
   "outputs": [],
   "source": [
    "gdf_br = gpd.read_file('resultados/assentamentos_precarios_BR.gpkg')"
   ]
  },
  {
   "cell_type": "code",
   "execution_count": 7,
   "metadata": {},
   "outputs": [
    {
     "data": {
      "text/plain": [
       "316574"
      ]
     },
     "execution_count": 7,
     "metadata": {},
     "output_type": "execute_result"
    }
   ],
   "source": [
    "gdf_br.shape[0]"
   ]
  },
  {
   "cell_type": "code",
   "execution_count": 4,
   "metadata": {},
   "outputs": [
    {
     "data": {
      "text/plain": [
       "Setores Comuns    188791\n",
       "Rurais             73815\n",
       "Precários          31496\n",
       "Subnormais         15815\n",
       "Sem Informação      6657\n",
       "Name: legenda, dtype: int64"
      ]
     },
     "execution_count": 4,
     "metadata": {},
     "output_type": "execute_result"
    }
   ],
   "source": [
    "gdf_br.legenda.value_counts()"
   ]
  },
  {
   "cell_type": "code",
   "execution_count": 9,
   "metadata": {},
   "outputs": [
    {
     "data": {
      "text/plain": [
       "0.6657225592356957"
      ]
     },
     "execution_count": 9,
     "metadata": {},
     "output_type": "execute_result"
    }
   ],
   "source": [
    "31496 /(15815 + 31496)"
   ]
  },
  {
   "cell_type": "code",
   "execution_count": 13,
   "metadata": {},
   "outputs": [
    {
     "data": {
      "text/plain": [
       "189775149.0"
      ]
     },
     "execution_count": 13,
     "metadata": {},
     "output_type": "execute_result"
    }
   ],
   "source": [
    "gdf_br.numero_moradores.sum()"
   ]
  },
  {
   "cell_type": "code",
   "execution_count": 16,
   "metadata": {},
   "outputs": [
    {
     "data": {
      "text/plain": [
       "Index(['Cod_setor', 'ID', 'CD_GEOCODI', 'TIPO', 'CD_GEOCODB', 'NM_BAIRRO',\n",
       "       'CD_GEOCODS', 'NM_SUBDIST', 'CD_GEOCODD', 'NM_DISTRIT', 'CD_GEOCODM',\n",
       "       'NM_MUNICIP', 'NM_MICRO', 'NM_MESO', 'area_do_setor_df', 'ID1',\n",
       "       'Unnamed: 0', 'cod_grande_regiao', 'uf', 'nome_UF', 'rm', 'nome_rm',\n",
       "       'meso_regiao', 'cod_municipio', 'nome_municipio', 'situacao_setor',\n",
       "       'tipo_do_setor', 'numero_de_domicilios', 'numero_moradores',\n",
       "       'area_do_setor', 'porcentagem_domicilios_sem_coleta_de_lixo',\n",
       "       'porcentagem_domicilios_sem_ligacao_rede_de_agua',\n",
       "       'porcentagem_domicilios_sem_banheiros',\n",
       "       'porcentagem_domicilios_sem_esgoto_ou_fossa',\n",
       "       'porcentagem_domicilios_cedidos_outra_forma',\n",
       "       'porcentagem_domicilios_em_outra_condicao_de_ocupacao',\n",
       "       'numero_de_banheiros_por_habitante',\n",
       "       'porcentagem_responsaveis_nao_alfabetizado',\n",
       "       'porcentagem_responsaveis_nao_alfabetizado_com_menos_de_30_anos',\n",
       "       'porcentagem_responsaveis_renda_ate_3_salarios',\n",
       "       'renda_media_responsavel',\n",
       "       'numero_de_domicilios_particulares_permanentes',\n",
       "       'numero_de_domicilios_improvisados', 'numero_de_pessoas_residentes',\n",
       "       'porcentagem_de_responsaveis_com_menos_30_anos', 'numero_medio_pessoas',\n",
       "       'densidade_populacional', 'densidade_domicilios', 'subnormal',\n",
       "       'processado', 'subnormal_LDA', 'subnormal_RandomForest', 'legenda',\n",
       "       'geometry'],\n",
       "      dtype='object')"
      ]
     },
     "execution_count": 16,
     "metadata": {},
     "output_type": "execute_result"
    }
   ],
   "source": [
    "gdf_br.columns"
   ]
  },
  {
   "cell_type": "code",
   "execution_count": 17,
   "metadata": {},
   "outputs": [
    {
     "data": {
      "text/html": [
       "<div>\n",
       "<style scoped>\n",
       "    .dataframe tbody tr th:only-of-type {\n",
       "        vertical-align: middle;\n",
       "    }\n",
       "\n",
       "    .dataframe tbody tr th {\n",
       "        vertical-align: top;\n",
       "    }\n",
       "\n",
       "    .dataframe thead th {\n",
       "        text-align: right;\n",
       "    }\n",
       "</style>\n",
       "<table border=\"1\" class=\"dataframe\">\n",
       "  <thead>\n",
       "    <tr style=\"text-align: right;\">\n",
       "      <th></th>\n",
       "      <th>ID</th>\n",
       "      <th>numero_de_domicilios</th>\n",
       "      <th>numero_moradores</th>\n",
       "    </tr>\n",
       "    <tr>\n",
       "      <th>legenda</th>\n",
       "      <th></th>\n",
       "      <th></th>\n",
       "      <th></th>\n",
       "    </tr>\n",
       "  </thead>\n",
       "  <tbody>\n",
       "    <tr>\n",
       "      <th>Precários</th>\n",
       "      <td>31496</td>\n",
       "      <td>6087039.0</td>\n",
       "      <td>22043100.0</td>\n",
       "    </tr>\n",
       "    <tr>\n",
       "      <th>Rurais</th>\n",
       "      <td>73815</td>\n",
       "      <td>7880901.0</td>\n",
       "      <td>28659092.0</td>\n",
       "    </tr>\n",
       "    <tr>\n",
       "      <th>Sem Informação</th>\n",
       "      <td>6657</td>\n",
       "      <td>553534.0</td>\n",
       "      <td>1716877.0</td>\n",
       "    </tr>\n",
       "    <tr>\n",
       "      <th>Setores Comuns</th>\n",
       "      <td>188791</td>\n",
       "      <td>39577972.0</td>\n",
       "      <td>125942087.0</td>\n",
       "    </tr>\n",
       "    <tr>\n",
       "      <th>Subnormais</th>\n",
       "      <td>15815</td>\n",
       "      <td>3220486.0</td>\n",
       "      <td>11413993.0</td>\n",
       "    </tr>\n",
       "  </tbody>\n",
       "</table>\n",
       "</div>"
      ],
      "text/plain": [
       "                    ID  numero_de_domicilios  numero_moradores\n",
       "legenda                                                       \n",
       "Precários        31496             6087039.0        22043100.0\n",
       "Rurais           73815             7880901.0        28659092.0\n",
       "Sem Informação    6657              553534.0         1716877.0\n",
       "Setores Comuns  188791            39577972.0       125942087.0\n",
       "Subnormais       15815             3220486.0        11413993.0"
      ]
     },
     "execution_count": 17,
     "metadata": {},
     "output_type": "execute_result"
    }
   ],
   "source": [
    "gdf_br.loc[:, ['ID', 'legenda', 'numero_de_domicilios', 'numero_moradores']].groupby('legenda').agg({\n",
    "    'ID': 'count',\n",
    "    'numero_de_domicilios': 'sum',\n",
    "    'numero_moradores': 'sum'\n",
    "})"
   ]
  },
  {
   "cell_type": "code",
   "execution_count": 14,
   "metadata": {},
   "outputs": [
    {
     "data": {
      "text/html": [
       "<div>\n",
       "<style scoped>\n",
       "    .dataframe tbody tr th:only-of-type {\n",
       "        vertical-align: middle;\n",
       "    }\n",
       "\n",
       "    .dataframe tbody tr th {\n",
       "        vertical-align: top;\n",
       "    }\n",
       "\n",
       "    .dataframe thead th {\n",
       "        text-align: right;\n",
       "    }\n",
       "</style>\n",
       "<table border=\"1\" class=\"dataframe\">\n",
       "  <thead>\n",
       "    <tr style=\"text-align: right;\">\n",
       "      <th></th>\n",
       "      <th>numero_de_domicilios</th>\n",
       "      <th>numero_moradores</th>\n",
       "    </tr>\n",
       "    <tr>\n",
       "      <th>legenda</th>\n",
       "      <th></th>\n",
       "      <th></th>\n",
       "    </tr>\n",
       "  </thead>\n",
       "  <tbody>\n",
       "    <tr>\n",
       "      <th>Precários</th>\n",
       "      <td>2492324.0</td>\n",
       "      <td>8797083.0</td>\n",
       "    </tr>\n",
       "    <tr>\n",
       "      <th>Rurais</th>\n",
       "      <td>1045318.0</td>\n",
       "      <td>3675153.0</td>\n",
       "    </tr>\n",
       "    <tr>\n",
       "      <th>Sem Informação</th>\n",
       "      <td>553534.0</td>\n",
       "      <td>1716877.0</td>\n",
       "    </tr>\n",
       "    <tr>\n",
       "      <th>Setores Comuns</th>\n",
       "      <td>20507209.0</td>\n",
       "      <td>64741964.0</td>\n",
       "    </tr>\n",
       "    <tr>\n",
       "      <th>Subnormais</th>\n",
       "      <td>2933809.0</td>\n",
       "      <td>10369761.0</td>\n",
       "    </tr>\n",
       "  </tbody>\n",
       "</table>\n",
       "</div>"
      ],
      "text/plain": [
       "                numero_de_domicilios  numero_moradores\n",
       "legenda                                               \n",
       "Precários                  2492324.0         8797083.0\n",
       "Rurais                     1045318.0         3675153.0\n",
       "Sem Informação              553534.0         1716877.0\n",
       "Setores Comuns            20507209.0        64741964.0\n",
       "Subnormais                 2933809.0        10369761.0"
      ]
     },
     "execution_count": 14,
     "metadata": {},
     "output_type": "execute_result"
    }
   ],
   "source": [
    "# gdf_br[gdf_br.rm != 0.]\n",
    "gdf_br.loc[gdf_br.rm != 0., ['legenda', 'numero_de_domicilios', 'numero_moradores']].groupby('legenda').sum()"
   ]
  },
  {
   "cell_type": "code",
   "execution_count": 15,
   "metadata": {},
   "outputs": [
    {
     "data": {
      "text/plain": [
       "13246017.0"
      ]
     },
     "execution_count": 15,
     "metadata": {},
     "output_type": "execute_result"
    }
   ],
   "source": [
    "22043100.0 - 8797083.0"
   ]
  },
  {
   "cell_type": "code",
   "execution_count": 20,
   "metadata": {},
   "outputs": [
    {
     "data": {
      "text/html": [
       "<div>\n",
       "<style scoped>\n",
       "    .dataframe tbody tr th:only-of-type {\n",
       "        vertical-align: middle;\n",
       "    }\n",
       "\n",
       "    .dataframe tbody tr th {\n",
       "        vertical-align: top;\n",
       "    }\n",
       "\n",
       "    .dataframe thead th {\n",
       "        text-align: right;\n",
       "    }\n",
       "</style>\n",
       "<table border=\"1\" class=\"dataframe\">\n",
       "  <thead>\n",
       "    <tr style=\"text-align: right;\">\n",
       "      <th></th>\n",
       "      <th>nome_rm</th>\n",
       "    </tr>\n",
       "    <tr>\n",
       "      <th>rm</th>\n",
       "      <th></th>\n",
       "    </tr>\n",
       "  </thead>\n",
       "  <tbody>\n",
       "    <tr>\n",
       "      <th>0.0</th>\n",
       "      <td>Municípios não pertencentes a estrutura de RM</td>\n",
       "    </tr>\n",
       "    <tr>\n",
       "      <th>1.0</th>\n",
       "      <td>RM Manaus</td>\n",
       "    </tr>\n",
       "    <tr>\n",
       "      <th>2.0</th>\n",
       "      <td>RM Belém</td>\n",
       "    </tr>\n",
       "    <tr>\n",
       "      <th>3.0</th>\n",
       "      <td>RM Macapá</td>\n",
       "    </tr>\n",
       "    <tr>\n",
       "      <th>4.0</th>\n",
       "      <td>RM Grande São Luís</td>\n",
       "    </tr>\n",
       "    <tr>\n",
       "      <th>5.0</th>\n",
       "      <td>RM Sudoeste Maranhense</td>\n",
       "    </tr>\n",
       "    <tr>\n",
       "      <th>6.0</th>\n",
       "      <td>RM Cariri</td>\n",
       "    </tr>\n",
       "    <tr>\n",
       "      <th>7.0</th>\n",
       "      <td>RM Fortaleza</td>\n",
       "    </tr>\n",
       "    <tr>\n",
       "      <th>8.0</th>\n",
       "      <td>RM Natal</td>\n",
       "    </tr>\n",
       "    <tr>\n",
       "      <th>9.0</th>\n",
       "      <td>RM Campina Grande</td>\n",
       "    </tr>\n",
       "    <tr>\n",
       "      <th>10.0</th>\n",
       "      <td>RM João Pessoa</td>\n",
       "    </tr>\n",
       "    <tr>\n",
       "      <th>11.0</th>\n",
       "      <td>RM Recife</td>\n",
       "    </tr>\n",
       "    <tr>\n",
       "      <th>12.0</th>\n",
       "      <td>RM Agreste</td>\n",
       "    </tr>\n",
       "    <tr>\n",
       "      <th>13.0</th>\n",
       "      <td>RM Maceió</td>\n",
       "    </tr>\n",
       "    <tr>\n",
       "      <th>14.0</th>\n",
       "      <td>RM Aracaju</td>\n",
       "    </tr>\n",
       "    <tr>\n",
       "      <th>15.0</th>\n",
       "      <td>RM Salvador</td>\n",
       "    </tr>\n",
       "    <tr>\n",
       "      <th>16.0</th>\n",
       "      <td>RM Belo Horizonte</td>\n",
       "    </tr>\n",
       "    <tr>\n",
       "      <th>17.0</th>\n",
       "      <td>RM Vale do Aço</td>\n",
       "    </tr>\n",
       "    <tr>\n",
       "      <th>18.0</th>\n",
       "      <td>RM Grande Vitória</td>\n",
       "    </tr>\n",
       "    <tr>\n",
       "      <th>19.0</th>\n",
       "      <td>RM Rio de Janeiro</td>\n",
       "    </tr>\n",
       "    <tr>\n",
       "      <th>20.0</th>\n",
       "      <td>RM São Paulo</td>\n",
       "    </tr>\n",
       "    <tr>\n",
       "      <th>21.0</th>\n",
       "      <td>RM Baixada Santista</td>\n",
       "    </tr>\n",
       "    <tr>\n",
       "      <th>22.0</th>\n",
       "      <td>RM Campinas</td>\n",
       "    </tr>\n",
       "    <tr>\n",
       "      <th>23.0</th>\n",
       "      <td>RM Curitiba</td>\n",
       "    </tr>\n",
       "    <tr>\n",
       "      <th>24.0</th>\n",
       "      <td>RM Londrina</td>\n",
       "    </tr>\n",
       "    <tr>\n",
       "      <th>25.0</th>\n",
       "      <td>RM Maringá</td>\n",
       "    </tr>\n",
       "    <tr>\n",
       "      <th>26.0</th>\n",
       "      <td>RM Florianópolis</td>\n",
       "    </tr>\n",
       "    <tr>\n",
       "      <th>27.0</th>\n",
       "      <td>RM Vale do Itajaí</td>\n",
       "    </tr>\n",
       "    <tr>\n",
       "      <th>28.0</th>\n",
       "      <td>RM Norte/Nordeste Catarinense</td>\n",
       "    </tr>\n",
       "    <tr>\n",
       "      <th>29.0</th>\n",
       "      <td>RM Foz do Rio Itajaí</td>\n",
       "    </tr>\n",
       "    <tr>\n",
       "      <th>30.0</th>\n",
       "      <td>RM Carbonífera</td>\n",
       "    </tr>\n",
       "    <tr>\n",
       "      <th>31.0</th>\n",
       "      <td>RM Tubarão</td>\n",
       "    </tr>\n",
       "    <tr>\n",
       "      <th>32.0</th>\n",
       "      <td>RM Lages</td>\n",
       "    </tr>\n",
       "    <tr>\n",
       "      <th>33.0</th>\n",
       "      <td>RM Chapecó</td>\n",
       "    </tr>\n",
       "    <tr>\n",
       "      <th>34.0</th>\n",
       "      <td>RM Porto Alegre</td>\n",
       "    </tr>\n",
       "    <tr>\n",
       "      <th>35.0</th>\n",
       "      <td>RM Vale do Rio Cuiabá</td>\n",
       "    </tr>\n",
       "    <tr>\n",
       "      <th>36.0</th>\n",
       "      <td>RM Goiânia</td>\n",
       "    </tr>\n",
       "    <tr>\n",
       "      <th>40.0</th>\n",
       "      <td>RIDE - Região Integrada de Desenvolvimento do ...</td>\n",
       "    </tr>\n",
       "    <tr>\n",
       "      <th>41.0</th>\n",
       "      <td>RIDE TERESINA - Região Integrada de Desenvolvi...</td>\n",
       "    </tr>\n",
       "    <tr>\n",
       "      <th>42.0</th>\n",
       "      <td>RIDE Petrolina/Juazeiro Reg Adm Int Desen do P...</td>\n",
       "    </tr>\n",
       "  </tbody>\n",
       "</table>\n",
       "</div>"
      ],
      "text/plain": [
       "                                                nome_rm\n",
       "rm                                                     \n",
       "0.0       Municípios não pertencentes a estrutura de RM\n",
       "1.0                                          RM Manaus \n",
       "2.0                                            RM Belém\n",
       "3.0                                           RM Macapá\n",
       "4.0                                 RM Grande São Luís \n",
       "5.0                             RM Sudoeste Maranhense \n",
       "6.0                                          RM Cariri \n",
       "7.0                                       RM Fortaleza \n",
       "8.0                                            RM Natal\n",
       "9.0                                   RM Campina Grande\n",
       "10.0                                     RM João Pessoa\n",
       "11.0                                          RM Recife\n",
       "12.0                                         RM Agreste\n",
       "13.0                                          RM Maceió\n",
       "14.0                                         RM Aracaju\n",
       "15.0                                       RM Salvador \n",
       "16.0                                 RM Belo Horizonte \n",
       "17.0                                     RM Vale do Aço\n",
       "18.0                                  RM Grande Vitória\n",
       "19.0                                 RM Rio de Janeiro \n",
       "20.0                                       RM São Paulo\n",
       "21.0                                RM Baixada Santista\n",
       "22.0                                        RM Campinas\n",
       "23.0                                        RM Curitiba\n",
       "24.0                                        RM Londrina\n",
       "25.0                                        RM Maringá \n",
       "26.0                                   RM Florianópolis\n",
       "27.0                                  RM Vale do Itajaí\n",
       "28.0                      RM Norte/Nordeste Catarinense\n",
       "29.0                               RM Foz do Rio Itajaí\n",
       "30.0                                     RM Carbonífera\n",
       "31.0                                         RM Tubarão\n",
       "32.0                                           RM Lages\n",
       "33.0                                         RM Chapecó\n",
       "34.0                                    RM Porto Alegre\n",
       "35.0                             RM Vale do Rio Cuiabá \n",
       "36.0                                         RM Goiânia\n",
       "40.0  RIDE - Região Integrada de Desenvolvimento do ...\n",
       "41.0  RIDE TERESINA - Região Integrada de Desenvolvi...\n",
       "42.0  RIDE Petrolina/Juazeiro Reg Adm Int Desen do P..."
      ]
     },
     "execution_count": 20,
     "metadata": {},
     "output_type": "execute_result"
    }
   ],
   "source": [
    "gdf_br.loc[:, ['rm', 'nome_rm']].groupby('rm').first()"
   ]
  },
  {
   "cell_type": "code",
   "execution_count": 23,
   "metadata": {},
   "outputs": [
    {
     "data": {
      "text/html": [
       "<div>\n",
       "<style scoped>\n",
       "    .dataframe tbody tr th:only-of-type {\n",
       "        vertical-align: middle;\n",
       "    }\n",
       "\n",
       "    .dataframe tbody tr th {\n",
       "        vertical-align: top;\n",
       "    }\n",
       "\n",
       "    .dataframe thead th {\n",
       "        text-align: right;\n",
       "    }\n",
       "</style>\n",
       "<table border=\"1\" class=\"dataframe\">\n",
       "  <thead>\n",
       "    <tr style=\"text-align: right;\">\n",
       "      <th></th>\n",
       "      <th>ID</th>\n",
       "      <th>numero_de_domicilios</th>\n",
       "      <th>numero_moradores</th>\n",
       "    </tr>\n",
       "    <tr>\n",
       "      <th>legenda</th>\n",
       "      <th></th>\n",
       "      <th></th>\n",
       "      <th></th>\n",
       "    </tr>\n",
       "  </thead>\n",
       "  <tbody>\n",
       "    <tr>\n",
       "      <th>Precários</th>\n",
       "      <td>394</td>\n",
       "      <td>63727.0</td>\n",
       "      <td>216466.0</td>\n",
       "    </tr>\n",
       "    <tr>\n",
       "      <th>Rurais</th>\n",
       "      <td>438</td>\n",
       "      <td>39448.0</td>\n",
       "      <td>127143.0</td>\n",
       "    </tr>\n",
       "    <tr>\n",
       "      <th>Setores Comuns</th>\n",
       "      <td>6880</td>\n",
       "      <td>1421209.0</td>\n",
       "      <td>4556621.0</td>\n",
       "    </tr>\n",
       "    <tr>\n",
       "      <th>Subnormais</th>\n",
       "      <td>811</td>\n",
       "      <td>139639.0</td>\n",
       "      <td>488948.0</td>\n",
       "    </tr>\n",
       "  </tbody>\n",
       "</table>\n",
       "</div>"
      ],
      "text/plain": [
       "                  ID  numero_de_domicilios  numero_moradores\n",
       "legenda                                                     \n",
       "Precários        394               63727.0          216466.0\n",
       "Rurais           438               39448.0          127143.0\n",
       "Setores Comuns  6880             1421209.0         4556621.0\n",
       "Subnormais       811              139639.0          488948.0"
      ]
     },
     "execution_count": 23,
     "metadata": {},
     "output_type": "execute_result"
    }
   ],
   "source": [
    "gdf_br.loc[gdf_br.rm == 16., ['ID', 'legenda', 'numero_de_domicilios', 'numero_moradores']].groupby('legenda').agg({\n",
    "    'ID': 'count',\n",
    "    'numero_de_domicilios': 'sum',\n",
    "    'numero_moradores': 'sum'\n",
    "})"
   ]
  },
  {
   "cell_type": "code",
   "execution_count": null,
   "metadata": {},
   "outputs": [],
   "source": []
  }
 ],
 "metadata": {
  "kernelspec": {
   "display_name": "geo",
   "language": "python",
   "name": "python3"
  },
  "language_info": {
   "codemirror_mode": {
    "name": "ipython",
    "version": 3
   },
   "file_extension": ".py",
   "mimetype": "text/x-python",
   "name": "python",
   "nbconvert_exporter": "python",
   "pygments_lexer": "ipython3",
   "version": "3.8.12"
  }
 },
 "nbformat": 4,
 "nbformat_minor": 2
}
