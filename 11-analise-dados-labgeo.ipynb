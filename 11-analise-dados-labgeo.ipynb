{
 "cells": [
  {
   "cell_type": "code",
   "execution_count": 31,
   "metadata": {},
   "outputs": [],
   "source": [
    "import pandas as pd\n",
    "import numpy as np\n",
    "from sklearn.discriminant_analysis import LinearDiscriminantAnalysis\n",
    "from sklearn.metrics import confusion_matrix"
   ]
  },
  {
   "cell_type": "code",
   "execution_count": 4,
   "metadata": {},
   "outputs": [],
   "source": [
    "df_lab_geo = pd.read_csv('data/labGeo/dados_entrada_lab_geo-2024_01_19.csv', encoding='iso-8859-1')"
   ]
  },
  {
   "cell_type": "code",
   "execution_count": 10,
   "metadata": {},
   "outputs": [
    {
     "data": {
      "text/plain": [
       "Index(['V0003', 'V0004', 'CODSET', 'CODMUN', 'NOMEMUN', 'NOMERM', 'SITUACAO',\n",
       "       'VAR12', 'HAB1', 'HAB2', 'HAB3', 'HAB4', 'HAB5', 'HAB6', 'HAB7', 'CHE1',\n",
       "       'CHE2', 'CHE3', 'CHE4', 'CHE5', 'CHE6', 'CHE7', 'HAB8', 'HAB9', 'TIPO'],\n",
       "      dtype='object')"
      ]
     },
     "execution_count": 10,
     "metadata": {},
     "output_type": "execute_result"
    }
   ],
   "source": [
    "df_lab_geo.columns"
   ]
  },
  {
   "cell_type": "code",
   "execution_count": 17,
   "metadata": {},
   "outputs": [],
   "source": [
    "df_lab_gem_RMSP = df_lab_geo.loc[df_lab_geo.NOMERM == 'RM de São Paulo', ['V0003', 'V0004', 'VAR12', \n",
    "                  'HAB1', 'HAB2', 'HAB3', 'HAB4', 'HAB5', 'HAB6', 'HAB7', \n",
    "                  'CHE1', 'CHE2', 'CHE3', 'CHE4', 'CHE5', 'CHE6', 'CHE7', \n",
    "                  'HAB8', 'HAB9', 'TIPO']].fillna(0)"
   ]
  },
  {
   "cell_type": "code",
   "execution_count": 18,
   "metadata": {},
   "outputs": [
    {
     "data": {
      "text/html": [
       "<div>\n",
       "<style scoped>\n",
       "    .dataframe tbody tr th:only-of-type {\n",
       "        vertical-align: middle;\n",
       "    }\n",
       "\n",
       "    .dataframe tbody tr th {\n",
       "        vertical-align: top;\n",
       "    }\n",
       "\n",
       "    .dataframe thead th {\n",
       "        text-align: right;\n",
       "    }\n",
       "</style>\n",
       "<table border=\"1\" class=\"dataframe\">\n",
       "  <thead>\n",
       "    <tr style=\"text-align: right;\">\n",
       "      <th></th>\n",
       "      <th>V0003</th>\n",
       "      <th>V0004</th>\n",
       "      <th>VAR12</th>\n",
       "      <th>HAB1</th>\n",
       "      <th>HAB2</th>\n",
       "      <th>HAB3</th>\n",
       "      <th>HAB4</th>\n",
       "      <th>HAB5</th>\n",
       "      <th>HAB6</th>\n",
       "      <th>HAB7</th>\n",
       "      <th>CHE1</th>\n",
       "      <th>CHE2</th>\n",
       "      <th>CHE3</th>\n",
       "      <th>CHE4</th>\n",
       "      <th>CHE5</th>\n",
       "      <th>CHE6</th>\n",
       "      <th>CHE7</th>\n",
       "      <th>HAB8</th>\n",
       "      <th>HAB9</th>\n",
       "      <th>TIPO</th>\n",
       "    </tr>\n",
       "  </thead>\n",
       "  <tbody>\n",
       "    <tr>\n",
       "      <th>69402</th>\n",
       "      <td>134</td>\n",
       "      <td>0</td>\n",
       "      <td>424.0</td>\n",
       "      <td>0.000000</td>\n",
       "      <td>1.492537</td>\n",
       "      <td>0.000000</td>\n",
       "      <td>0.746269</td>\n",
       "      <td>6.716418</td>\n",
       "      <td>0.746269</td>\n",
       "      <td>0.000000</td>\n",
       "      <td>8.955224</td>\n",
       "      <td>11.940299</td>\n",
       "      <td>0.000000</td>\n",
       "      <td>61.940299</td>\n",
       "      <td>5.744361</td>\n",
       "      <td>46.268657</td>\n",
       "      <td>999.462687</td>\n",
       "      <td>3.164179</td>\n",
       "      <td>1.507576</td>\n",
       "      <td>0</td>\n",
       "    </tr>\n",
       "    <tr>\n",
       "      <th>69403</th>\n",
       "      <td>149</td>\n",
       "      <td>1</td>\n",
       "      <td>589.0</td>\n",
       "      <td>0.000000</td>\n",
       "      <td>0.000000</td>\n",
       "      <td>0.000000</td>\n",
       "      <td>0.000000</td>\n",
       "      <td>1.342282</td>\n",
       "      <td>0.000000</td>\n",
       "      <td>0.000000</td>\n",
       "      <td>12.080537</td>\n",
       "      <td>12.751678</td>\n",
       "      <td>0.671141</td>\n",
       "      <td>67.785235</td>\n",
       "      <td>5.838926</td>\n",
       "      <td>40.268456</td>\n",
       "      <td>1029.597315</td>\n",
       "      <td>3.953020</td>\n",
       "      <td>1.492188</td>\n",
       "      <td>0</td>\n",
       "    </tr>\n",
       "    <tr>\n",
       "      <th>69404</th>\n",
       "      <td>131</td>\n",
       "      <td>1</td>\n",
       "      <td>479.0</td>\n",
       "      <td>0.763359</td>\n",
       "      <td>0.000000</td>\n",
       "      <td>0.000000</td>\n",
       "      <td>1.526718</td>\n",
       "      <td>0.763359</td>\n",
       "      <td>0.000000</td>\n",
       "      <td>0.000000</td>\n",
       "      <td>7.633588</td>\n",
       "      <td>12.213740</td>\n",
       "      <td>0.763359</td>\n",
       "      <td>51.908397</td>\n",
       "      <td>6.744186</td>\n",
       "      <td>35.114504</td>\n",
       "      <td>1161.068702</td>\n",
       "      <td>3.656489</td>\n",
       "      <td>1.832061</td>\n",
       "      <td>0</td>\n",
       "    </tr>\n",
       "    <tr>\n",
       "      <th>69405</th>\n",
       "      <td>170</td>\n",
       "      <td>0</td>\n",
       "      <td>654.0</td>\n",
       "      <td>0.000000</td>\n",
       "      <td>0.588235</td>\n",
       "      <td>0.000000</td>\n",
       "      <td>2.352941</td>\n",
       "      <td>0.000000</td>\n",
       "      <td>0.000000</td>\n",
       "      <td>0.000000</td>\n",
       "      <td>8.235294</td>\n",
       "      <td>11.176471</td>\n",
       "      <td>0.000000</td>\n",
       "      <td>51.764706</td>\n",
       "      <td>7.227545</td>\n",
       "      <td>34.117647</td>\n",
       "      <td>1367.176471</td>\n",
       "      <td>3.847059</td>\n",
       "      <td>2.136905</td>\n",
       "      <td>0</td>\n",
       "    </tr>\n",
       "    <tr>\n",
       "      <th>69406</th>\n",
       "      <td>181</td>\n",
       "      <td>0</td>\n",
       "      <td>572.0</td>\n",
       "      <td>0.000000</td>\n",
       "      <td>1.104972</td>\n",
       "      <td>0.833333</td>\n",
       "      <td>0.000000</td>\n",
       "      <td>0.000000</td>\n",
       "      <td>0.000000</td>\n",
       "      <td>0.000000</td>\n",
       "      <td>20.994475</td>\n",
       "      <td>3.314917</td>\n",
       "      <td>0.000000</td>\n",
       "      <td>60.220994</td>\n",
       "      <td>6.680000</td>\n",
       "      <td>40.883978</td>\n",
       "      <td>979.640884</td>\n",
       "      <td>3.160221</td>\n",
       "      <td>1.505882</td>\n",
       "      <td>0</td>\n",
       "    </tr>\n",
       "    <tr>\n",
       "      <th>...</th>\n",
       "      <td>...</td>\n",
       "      <td>...</td>\n",
       "      <td>...</td>\n",
       "      <td>...</td>\n",
       "      <td>...</td>\n",
       "      <td>...</td>\n",
       "      <td>...</td>\n",
       "      <td>...</td>\n",
       "      <td>...</td>\n",
       "      <td>...</td>\n",
       "      <td>...</td>\n",
       "      <td>...</td>\n",
       "      <td>...</td>\n",
       "      <td>...</td>\n",
       "      <td>...</td>\n",
       "      <td>...</td>\n",
       "      <td>...</td>\n",
       "      <td>...</td>\n",
       "      <td>...</td>\n",
       "      <td>...</td>\n",
       "    </tr>\n",
       "    <tr>\n",
       "      <th>90626</th>\n",
       "      <td>172</td>\n",
       "      <td>0</td>\n",
       "      <td>701.0</td>\n",
       "      <td>0.000000</td>\n",
       "      <td>0.000000</td>\n",
       "      <td>0.000000</td>\n",
       "      <td>22.093023</td>\n",
       "      <td>2.906977</td>\n",
       "      <td>1.744186</td>\n",
       "      <td>0.581395</td>\n",
       "      <td>19.186047</td>\n",
       "      <td>11.627907</td>\n",
       "      <td>0.581395</td>\n",
       "      <td>73.837209</td>\n",
       "      <td>5.354651</td>\n",
       "      <td>55.813953</td>\n",
       "      <td>509.401163</td>\n",
       "      <td>4.075581</td>\n",
       "      <td>1.201183</td>\n",
       "      <td>0</td>\n",
       "    </tr>\n",
       "    <tr>\n",
       "      <th>90627</th>\n",
       "      <td>209</td>\n",
       "      <td>0</td>\n",
       "      <td>885.0</td>\n",
       "      <td>0.000000</td>\n",
       "      <td>0.000000</td>\n",
       "      <td>0.000000</td>\n",
       "      <td>1.913876</td>\n",
       "      <td>18.181818</td>\n",
       "      <td>0.478469</td>\n",
       "      <td>0.000000</td>\n",
       "      <td>23.923445</td>\n",
       "      <td>13.875598</td>\n",
       "      <td>0.956938</td>\n",
       "      <td>71.291866</td>\n",
       "      <td>5.200957</td>\n",
       "      <td>64.114833</td>\n",
       "      <td>418.545455</td>\n",
       "      <td>4.234450</td>\n",
       "      <td>1.183575</td>\n",
       "      <td>0</td>\n",
       "    </tr>\n",
       "    <tr>\n",
       "      <th>90628</th>\n",
       "      <td>154</td>\n",
       "      <td>4</td>\n",
       "      <td>590.0</td>\n",
       "      <td>0.000000</td>\n",
       "      <td>0.649351</td>\n",
       "      <td>0.847458</td>\n",
       "      <td>11.038961</td>\n",
       "      <td>9.090909</td>\n",
       "      <td>0.000000</td>\n",
       "      <td>0.000000</td>\n",
       "      <td>18.831169</td>\n",
       "      <td>16.883117</td>\n",
       "      <td>0.649351</td>\n",
       "      <td>68.831169</td>\n",
       "      <td>5.176471</td>\n",
       "      <td>58.441558</td>\n",
       "      <td>581.006494</td>\n",
       "      <td>3.831169</td>\n",
       "      <td>1.177632</td>\n",
       "      <td>0</td>\n",
       "    </tr>\n",
       "    <tr>\n",
       "      <th>90629</th>\n",
       "      <td>209</td>\n",
       "      <td>2</td>\n",
       "      <td>810.0</td>\n",
       "      <td>0.478469</td>\n",
       "      <td>0.478469</td>\n",
       "      <td>0.000000</td>\n",
       "      <td>2.392344</td>\n",
       "      <td>3.349282</td>\n",
       "      <td>3.349282</td>\n",
       "      <td>0.000000</td>\n",
       "      <td>18.181818</td>\n",
       "      <td>10.047847</td>\n",
       "      <td>0.956938</td>\n",
       "      <td>71.291866</td>\n",
       "      <td>5.244019</td>\n",
       "      <td>59.330144</td>\n",
       "      <td>424.100478</td>\n",
       "      <td>3.875598</td>\n",
       "      <td>1.064677</td>\n",
       "      <td>0</td>\n",
       "    </tr>\n",
       "    <tr>\n",
       "      <th>90630</th>\n",
       "      <td>175</td>\n",
       "      <td>2</td>\n",
       "      <td>592.0</td>\n",
       "      <td>0.571429</td>\n",
       "      <td>0.571429</td>\n",
       "      <td>0.000000</td>\n",
       "      <td>66.857143</td>\n",
       "      <td>2.285714</td>\n",
       "      <td>1.714286</td>\n",
       "      <td>4.000000</td>\n",
       "      <td>17.142857</td>\n",
       "      <td>9.714286</td>\n",
       "      <td>1.142857</td>\n",
       "      <td>59.428571</td>\n",
       "      <td>6.874286</td>\n",
       "      <td>41.142857</td>\n",
       "      <td>1218.902857</td>\n",
       "      <td>3.382857</td>\n",
       "      <td>1.854651</td>\n",
       "      <td>0</td>\n",
       "    </tr>\n",
       "  </tbody>\n",
       "</table>\n",
       "<p>21229 rows × 20 columns</p>\n",
       "</div>"
      ],
      "text/plain": [
       "       V0003  V0004  VAR12      HAB1      HAB2      HAB3       HAB4  \\\n",
       "69402    134      0  424.0  0.000000  1.492537  0.000000   0.746269   \n",
       "69403    149      1  589.0  0.000000  0.000000  0.000000   0.000000   \n",
       "69404    131      1  479.0  0.763359  0.000000  0.000000   1.526718   \n",
       "69405    170      0  654.0  0.000000  0.588235  0.000000   2.352941   \n",
       "69406    181      0  572.0  0.000000  1.104972  0.833333   0.000000   \n",
       "...      ...    ...    ...       ...       ...       ...        ...   \n",
       "90626    172      0  701.0  0.000000  0.000000  0.000000  22.093023   \n",
       "90627    209      0  885.0  0.000000  0.000000  0.000000   1.913876   \n",
       "90628    154      4  590.0  0.000000  0.649351  0.847458  11.038961   \n",
       "90629    209      2  810.0  0.478469  0.478469  0.000000   2.392344   \n",
       "90630    175      2  592.0  0.571429  0.571429  0.000000  66.857143   \n",
       "\n",
       "            HAB5      HAB6      HAB7       CHE1       CHE2      CHE3  \\\n",
       "69402   6.716418  0.746269  0.000000   8.955224  11.940299  0.000000   \n",
       "69403   1.342282  0.000000  0.000000  12.080537  12.751678  0.671141   \n",
       "69404   0.763359  0.000000  0.000000   7.633588  12.213740  0.763359   \n",
       "69405   0.000000  0.000000  0.000000   8.235294  11.176471  0.000000   \n",
       "69406   0.000000  0.000000  0.000000  20.994475   3.314917  0.000000   \n",
       "...          ...       ...       ...        ...        ...       ...   \n",
       "90626   2.906977  1.744186  0.581395  19.186047  11.627907  0.581395   \n",
       "90627  18.181818  0.478469  0.000000  23.923445  13.875598  0.956938   \n",
       "90628   9.090909  0.000000  0.000000  18.831169  16.883117  0.649351   \n",
       "90629   3.349282  3.349282  0.000000  18.181818  10.047847  0.956938   \n",
       "90630   2.285714  1.714286  4.000000  17.142857   9.714286  1.142857   \n",
       "\n",
       "            CHE4      CHE5       CHE6         CHE7      HAB8      HAB9  TIPO  \n",
       "69402  61.940299  5.744361  46.268657   999.462687  3.164179  1.507576     0  \n",
       "69403  67.785235  5.838926  40.268456  1029.597315  3.953020  1.492188     0  \n",
       "69404  51.908397  6.744186  35.114504  1161.068702  3.656489  1.832061     0  \n",
       "69405  51.764706  7.227545  34.117647  1367.176471  3.847059  2.136905     0  \n",
       "69406  60.220994  6.680000  40.883978   979.640884  3.160221  1.505882     0  \n",
       "...          ...       ...        ...          ...       ...       ...   ...  \n",
       "90626  73.837209  5.354651  55.813953   509.401163  4.075581  1.201183     0  \n",
       "90627  71.291866  5.200957  64.114833   418.545455  4.234450  1.183575     0  \n",
       "90628  68.831169  5.176471  58.441558   581.006494  3.831169  1.177632     0  \n",
       "90629  71.291866  5.244019  59.330144   424.100478  3.875598  1.064677     0  \n",
       "90630  59.428571  6.874286  41.142857  1218.902857  3.382857  1.854651     0  \n",
       "\n",
       "[21229 rows x 20 columns]"
      ]
     },
     "execution_count": 18,
     "metadata": {},
     "output_type": "execute_result"
    }
   ],
   "source": [
    "df_lab_gem_RMSP"
   ]
  },
  {
   "cell_type": "code",
   "execution_count": 19,
   "metadata": {},
   "outputs": [
    {
     "data": {
      "text/plain": [
       "TIPO\n",
       "0    19176\n",
       "1     2053\n",
       "Name: count, dtype: int64"
      ]
     },
     "execution_count": 19,
     "metadata": {},
     "output_type": "execute_result"
    }
   ],
   "source": [
    "df_lab_gem_RMSP.TIPO.value_counts()"
   ]
  },
  {
   "cell_type": "code",
   "execution_count": 34,
   "metadata": {},
   "outputs": [],
   "source": [
    "X = df_lab_gem_RMSP.drop(columns=['TIPO'])\n",
    "y = df_lab_gem_RMSP.TIPO"
   ]
  },
  {
   "cell_type": "code",
   "execution_count": 76,
   "metadata": {},
   "outputs": [
    {
     "data": {
      "text/html": [
       "<style>#sk-container-id-13 {color: black;}#sk-container-id-13 pre{padding: 0;}#sk-container-id-13 div.sk-toggleable {background-color: white;}#sk-container-id-13 label.sk-toggleable__label {cursor: pointer;display: block;width: 100%;margin-bottom: 0;padding: 0.3em;box-sizing: border-box;text-align: center;}#sk-container-id-13 label.sk-toggleable__label-arrow:before {content: \"▸\";float: left;margin-right: 0.25em;color: #696969;}#sk-container-id-13 label.sk-toggleable__label-arrow:hover:before {color: black;}#sk-container-id-13 div.sk-estimator:hover label.sk-toggleable__label-arrow:before {color: black;}#sk-container-id-13 div.sk-toggleable__content {max-height: 0;max-width: 0;overflow: hidden;text-align: left;background-color: #f0f8ff;}#sk-container-id-13 div.sk-toggleable__content pre {margin: 0.2em;color: black;border-radius: 0.25em;background-color: #f0f8ff;}#sk-container-id-13 input.sk-toggleable__control:checked~div.sk-toggleable__content {max-height: 200px;max-width: 100%;overflow: auto;}#sk-container-id-13 input.sk-toggleable__control:checked~label.sk-toggleable__label-arrow:before {content: \"▾\";}#sk-container-id-13 div.sk-estimator input.sk-toggleable__control:checked~label.sk-toggleable__label {background-color: #d4ebff;}#sk-container-id-13 div.sk-label input.sk-toggleable__control:checked~label.sk-toggleable__label {background-color: #d4ebff;}#sk-container-id-13 input.sk-hidden--visually {border: 0;clip: rect(1px 1px 1px 1px);clip: rect(1px, 1px, 1px, 1px);height: 1px;margin: -1px;overflow: hidden;padding: 0;position: absolute;width: 1px;}#sk-container-id-13 div.sk-estimator {font-family: monospace;background-color: #f0f8ff;border: 1px dotted black;border-radius: 0.25em;box-sizing: border-box;margin-bottom: 0.5em;}#sk-container-id-13 div.sk-estimator:hover {background-color: #d4ebff;}#sk-container-id-13 div.sk-parallel-item::after {content: \"\";width: 100%;border-bottom: 1px solid gray;flex-grow: 1;}#sk-container-id-13 div.sk-label:hover label.sk-toggleable__label {background-color: #d4ebff;}#sk-container-id-13 div.sk-serial::before {content: \"\";position: absolute;border-left: 1px solid gray;box-sizing: border-box;top: 0;bottom: 0;left: 50%;z-index: 0;}#sk-container-id-13 div.sk-serial {display: flex;flex-direction: column;align-items: center;background-color: white;padding-right: 0.2em;padding-left: 0.2em;position: relative;}#sk-container-id-13 div.sk-item {position: relative;z-index: 1;}#sk-container-id-13 div.sk-parallel {display: flex;align-items: stretch;justify-content: center;background-color: white;position: relative;}#sk-container-id-13 div.sk-item::before, #sk-container-id-13 div.sk-parallel-item::before {content: \"\";position: absolute;border-left: 1px solid gray;box-sizing: border-box;top: 0;bottom: 0;left: 50%;z-index: -1;}#sk-container-id-13 div.sk-parallel-item {display: flex;flex-direction: column;z-index: 1;position: relative;background-color: white;}#sk-container-id-13 div.sk-parallel-item:first-child::after {align-self: flex-end;width: 50%;}#sk-container-id-13 div.sk-parallel-item:last-child::after {align-self: flex-start;width: 50%;}#sk-container-id-13 div.sk-parallel-item:only-child::after {width: 0;}#sk-container-id-13 div.sk-dashed-wrapped {border: 1px dashed gray;margin: 0 0.4em 0.5em 0.4em;box-sizing: border-box;padding-bottom: 0.4em;background-color: white;}#sk-container-id-13 div.sk-label label {font-family: monospace;font-weight: bold;display: inline-block;line-height: 1.2em;}#sk-container-id-13 div.sk-label-container {text-align: center;}#sk-container-id-13 div.sk-container {/* jupyter's `normalize.less` sets `[hidden] { display: none; }` but bootstrap.min.css set `[hidden] { display: none !important; }` so we also need the `!important` here to be able to override the default hidden behavior on the sphinx rendered scikit-learn.org. See: https://github.com/scikit-learn/scikit-learn/issues/21755 */display: inline-block !important;position: relative;}#sk-container-id-13 div.sk-text-repr-fallback {display: none;}</style><div id=\"sk-container-id-13\" class=\"sk-top-container\"><div class=\"sk-text-repr-fallback\"><pre>LinearDiscriminantAnalysis(n_components=1)</pre><b>In a Jupyter environment, please rerun this cell to show the HTML representation or trust the notebook. <br />On GitHub, the HTML representation is unable to render, please try loading this page with nbviewer.org.</b></div><div class=\"sk-container\" hidden><div class=\"sk-item\"><div class=\"sk-estimator sk-toggleable\"><input class=\"sk-toggleable__control sk-hidden--visually\" id=\"sk-estimator-id-13\" type=\"checkbox\" checked><label for=\"sk-estimator-id-13\" class=\"sk-toggleable__label sk-toggleable__label-arrow\">LinearDiscriminantAnalysis</label><div class=\"sk-toggleable__content\"><pre>LinearDiscriminantAnalysis(n_components=1)</pre></div></div></div></div></div>"
      ],
      "text/plain": [
       "LinearDiscriminantAnalysis(n_components=1)"
      ]
     },
     "execution_count": 76,
     "metadata": {},
     "output_type": "execute_result"
    }
   ],
   "source": [
    "clf = LinearDiscriminantAnalysis(n_components=1)\n",
    "clf.fit(X, y)"
   ]
  },
  {
   "cell_type": "code",
   "execution_count": 77,
   "metadata": {},
   "outputs": [
    {
     "data": {
      "text/plain": [
       "(array([0, 1]), array([19583,  1646]))"
      ]
     },
     "execution_count": 77,
     "metadata": {},
     "output_type": "execute_result"
    }
   ],
   "source": [
    "np.unique(clf.predict(X), return_counts=True)"
   ]
  },
  {
   "cell_type": "code",
   "execution_count": 78,
   "metadata": {},
   "outputs": [
    {
     "data": {
      "text/plain": [
       "0.9394695934806161"
      ]
     },
     "execution_count": 78,
     "metadata": {},
     "output_type": "execute_result"
    }
   ],
   "source": [
    "clf.score(X, y)"
   ]
  },
  {
   "cell_type": "code",
   "execution_count": 79,
   "metadata": {},
   "outputs": [],
   "source": [
    "cf_matrix = confusion_matrix(y, clf.predict(X))"
   ]
  },
  {
   "cell_type": "code",
   "execution_count": 83,
   "metadata": {},
   "outputs": [
    {
     "data": {
      "text/plain": [
       "array([[18737,   439],\n",
       "       [  846,  1207]])"
      ]
     },
     "execution_count": 83,
     "metadata": {},
     "output_type": "execute_result"
    }
   ],
   "source": [
    "cf_matrix"
   ]
  },
  {
   "cell_type": "code",
   "execution_count": 81,
   "metadata": {},
   "outputs": [
    {
     "data": {
      "text/plain": [
       "array([[9.89321306e-01, 1.06786936e-02],\n",
       "       [9.91068241e-01, 8.93175932e-03],\n",
       "       [9.91114045e-01, 8.88595521e-03],\n",
       "       ...,\n",
       "       [9.39747338e-01, 6.02526624e-02],\n",
       "       [9.89952534e-01, 1.00474656e-02],\n",
       "       [9.99926785e-01, 7.32151107e-05]])"
      ]
     },
     "execution_count": 81,
     "metadata": {},
     "output_type": "execute_result"
    }
   ],
   "source": [
    "clf.predict_proba(X)"
   ]
  },
  {
   "cell_type": "code",
   "execution_count": 82,
   "metadata": {},
   "outputs": [
    {
     "data": {
      "text/plain": [
       "array([0, 0, 0, ..., 0, 0, 0])"
      ]
     },
     "execution_count": 82,
     "metadata": {},
     "output_type": "execute_result"
    }
   ],
   "source": [
    "clf.predict(X)"
   ]
  },
  {
   "cell_type": "code",
   "execution_count": 84,
   "metadata": {},
   "outputs": [
    {
     "data": {
      "text/plain": [
       "array([-4.52876865, -4.70917   , -4.71435764, ..., -2.74706429,\n",
       "       -4.59033657, -9.52203551])"
      ]
     },
     "execution_count": 84,
     "metadata": {},
     "output_type": "execute_result"
    }
   ],
   "source": [
    "clf.decision_function(X)"
   ]
  },
  {
   "cell_type": "code",
   "execution_count": null,
   "metadata": {},
   "outputs": [],
   "source": []
  }
 ],
 "metadata": {
  "kernelspec": {
   "display_name": "geo",
   "language": "python",
   "name": "python3"
  },
  "language_info": {
   "codemirror_mode": {
    "name": "ipython",
    "version": 3
   },
   "file_extension": ".py",
   "mimetype": "text/x-python",
   "name": "python",
   "nbconvert_exporter": "python",
   "pygments_lexer": "ipython3",
   "version": "3.12.2"
  }
 },
 "nbformat": 4,
 "nbformat_minor": 2
}
