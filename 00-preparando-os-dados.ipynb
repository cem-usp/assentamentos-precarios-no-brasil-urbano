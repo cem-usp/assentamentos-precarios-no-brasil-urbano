{
 "cells": [
  {
   "cell_type": "code",
   "execution_count": 1,
   "metadata": {},
   "outputs": [],
   "source": [
    "import pandas as pd"
   ]
  },
  {
   "cell_type": "code",
   "execution_count": 7,
   "metadata": {},
   "outputs": [],
   "source": [
    "## Download dos resultados do Universo Agregados por Setores\n",
    "# https://ftp.ibge.gov.br/Censos/Censo_Demografico_2010/Resultados_do_Universo/Agregados_por_Setores_Censitarios/"
   ]
  },
  {
   "cell_type": "code",
   "execution_count": 8,
   "metadata": {},
   "outputs": [],
   "source": [
    "## Malha de setores do BR\n",
    "# https://www.ibge.gov.br/geociencias/downloads-geociencias.html?caminho=organizacao_do_territorio/malhas_territoriais/malhas_de_setores_censitarios__divisoes_intramunicipais/2021/Malha_de_setores_(shp)_Brasil"
   ]
  },
  {
   "cell_type": "code",
   "execution_count": null,
   "metadata": {},
   "outputs": [],
   "source": [
    "## Download das tabelas e documentacao\n",
    "# https://www.ibge.gov.br/estatisticas/sociais/populacao/9662-censo-demografico-2010.html?edicao=10410"
   ]
  },
  {
   "attachments": {},
   "cell_type": "markdown",
   "metadata": {},
   "source": [
    "# Selecao das variáveis\n",
    "\n",
    "## Habitação einfraestrutura\n",
    "\n",
    "* Porcentagem de domicílios do tipo cômodo\n",
    "* Porcentagem de domicílios sem coleta de lixo\n",
    "  * Domicilio01_UF.csv, V035\n",
    "* Porcentagem de domicílios sem ligação à rede de abastecimento de água\n",
    "  * Domicilio01_UF.csv, V106\n",
    "* Porcentagem de domicílios sem banheiros ou sanitários\n",
    "  * Domicilio01_UF.csv, V123\n",
    "* Porcentagem de domicílios sem ligação à rede de esgoto ou fossa séptica\n",
    "  * V017 adaptado\n",
    "* Porcentagem de domicílios – outra forma de posse da moradia\n",
    "  * N/A\n",
    "* Número de banheiros por habitante\n",
    "  * Adaptado V023\n",
    "\n",
    "## Renda e escolaridade do responsável pelo domicílio\n",
    "\n",
    "* Porcentagem de responsáveis por domicílio não alfabetizados\n",
    "  * Responsavel02_UF.csv, adaptado V093\n",
    "* Porcentagem de responsáveis por domicílio com menos de 30 anos não alfabetizados\n",
    "* Porcentagem de responsáveis por domicílio com renda de até 3 salários mínimos\n",
    "  * ResponsavelRenda_UF\n",
    "* Porcentagem de responsáveis por domicílio com menos de 8 anos de estudo\n",
    "* Anos médios de estudo do responsável pelo domicílio\n",
    "* Renda média do responsável pelo domicílio\n",
    "\n",
    "## Aspectos demográficos\n",
    "\n",
    "* Número de domicílios particulares permanentes no setor censitário\n",
    "* Número de domicílios improvisados no setor censitário\n",
    "* Número de pessoas residentes no setor censitário\n",
    "* Porcentagem de responsáveis por domicílios com menos de 30 anos\n",
    "* Número médio de pessoas por domicílio\n",
    "\n"
   ]
  },
  {
   "cell_type": "code",
   "execution_count": null,
   "metadata": {},
   "outputs": [],
   "source": []
  }
 ],
 "metadata": {
  "kernelspec": {
   "display_name": "geo",
   "language": "python",
   "name": "python3"
  },
  "language_info": {
   "codemirror_mode": {
    "name": "ipython",
    "version": 3
   },
   "file_extension": ".py",
   "mimetype": "text/x-python",
   "name": "python",
   "nbconvert_exporter": "python",
   "pygments_lexer": "ipython3",
   "version": "3.8.12"
  },
  "orig_nbformat": 4
 },
 "nbformat": 4,
 "nbformat_minor": 2
}
