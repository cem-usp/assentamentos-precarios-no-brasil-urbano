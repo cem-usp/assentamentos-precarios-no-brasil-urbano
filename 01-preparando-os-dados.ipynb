{
 "cells": [
  {
   "cell_type": "code",
   "execution_count": 1,
   "metadata": {},
   "outputs": [
    {
     "name": "stderr",
     "output_type": "stream",
     "text": [
      "/home/feromes/miniconda3/envs/geo/lib/python3.8/site-packages/geopandas/_compat.py:111: UserWarning: The Shapely GEOS version (3.8.0-CAPI-1.13.1 ) is incompatible with the GEOS version PyGEOS was compiled with (3.10.1-CAPI-1.16.0). Conversions between both will be slow.\n",
      "  warnings.warn(\n"
     ]
    }
   ],
   "source": [
    "import pandas as pd\n",
    "import geopandas as gpd"
   ]
  },
  {
   "cell_type": "code",
   "execution_count": 8,
   "metadata": {},
   "outputs": [],
   "source": [
    "## Malha de setores do BR\n",
    "# https://www.ibge.gov.br/geociencias/downloads-geociencias.html?caminho=organizacao_do_territorio/malhas_territoriais/malhas_de_setores_censitarios__divisoes_intramunicipais/2021/Malha_de_setores_(shp)_Brasil"
   ]
  },
  {
   "cell_type": "code",
   "execution_count": null,
   "metadata": {},
   "outputs": [],
   "source": [
    "## Download das tabelas e documentacao\n",
    "# https://www.ibge.gov.br/estatisticas/sociais/populacao/9662-censo-demografico-2010.html?edicao=10410"
   ]
  },
  {
   "attachments": {},
   "cell_type": "markdown",
   "metadata": {},
   "source": [
    "# Selecao das variáveis\n",
    "\n",
    "## Habitação einfraestrutura\n",
    "\n",
    "* Porcentagem de domicílios do tipo cômodo\n",
    "* Porcentagem de domicílios sem coleta de lixo\n",
    "  * Domicilio01_UF.csv, V035\n",
    "* Porcentagem de domicílios sem ligação à rede de abastecimento de água\n",
    "  * Domicilio01_UF.csv, V106\n",
    "* Porcentagem de domicílios sem banheiros ou sanitários\n",
    "  * Domicilio01_UF.csv, V123\n",
    "* Porcentagem de domicílios sem ligação à rede de esgoto ou fossa séptica\n",
    "  * V017 adaptado\n",
    "* Porcentagem de domicílios – outra forma de posse da moradia\n",
    "  * N/A\n",
    "* Número de banheiros por habitante\n",
    "  * Adaptado V023\n",
    "\n",
    "## Renda e escolaridade do responsável pelo domicílio\n",
    "\n",
    "* Porcentagem de responsáveis por domicílio não alfabetizados\n",
    "  * Responsavel02_UF.csv, adaptado V093\n",
    "* Porcentagem de responsáveis por domicílio com menos de 30 anos não alfabetizados\n",
    "* Porcentagem de responsáveis por domicílio com renda de até 3 salários mínimos\n",
    "  * ResponsavelRenda_UF\n",
    "* Porcentagem de responsáveis por domicílio com menos de 8 anos de estudo\n",
    "* Anos médios de estudo do responsável pelo domicílio\n",
    "* Renda média do responsável pelo domicílio\n",
    "\n",
    "## Aspectos demográficos\n",
    "\n",
    "* Número de domicílios particulares permanentes no setor censitário\n",
    "* Número de domicílios improvisados no setor censitário\n",
    "* Número de pessoas residentes no setor censitário\n",
    "* Porcentagem de responsáveis por domicílios com menos de 30 anos\n",
    "* Número médio de pessoas por domicílio\n",
    "\n"
   ]
  },
  {
   "cell_type": "code",
   "execution_count": 16,
   "metadata": {},
   "outputs": [],
   "source": [
    "gdf_br = gpd.read_file('data/censo_2010/BR_Setores_2021.zip')"
   ]
  },
  {
   "cell_type": "code",
   "execution_count": 17,
   "metadata": {},
   "outputs": [
    {
     "data": {
      "text/plain": [
       "(452248, 13)"
      ]
     },
     "execution_count": 17,
     "metadata": {},
     "output_type": "execute_result"
    }
   ],
   "source": [
    "gdf_br.shape"
   ]
  },
  {
   "cell_type": "code",
   "execution_count": 7,
   "metadata": {},
   "outputs": [
    {
     "data": {
      "text/plain": [
       "Área Urbana de Alta Densidade de Edificações     306095\n",
       "Área Rural (exclusive aglomerados)                83569\n",
       "Área Urbana de Baixa Densidade de Edificações     31869\n",
       "Povoado                                           16832\n",
       "Núcleo Urbano                                      7682\n",
       "Lugarejo                                           5010\n",
       "Massa de Água                                       894\n",
       "Núcleo Rural                                        295\n",
       "Name: NM_SIT, dtype: int64"
      ]
     },
     "execution_count": 7,
     "metadata": {},
     "output_type": "execute_result"
    }
   ],
   "source": [
    "gdf_br.NM_SIT.value_counts()"
   ]
  },
  {
   "cell_type": "code",
   "execution_count": 5,
   "metadata": {},
   "outputs": [
    {
     "data": {
      "text/plain": [
       "Index(['CD_SETOR', 'CD_SIT', 'NM_SIT', 'CD_UF', 'NM_UF', 'SIGLA_UF', 'CD_MUN',\n",
       "       'NM_MUN', 'CD_DIST', 'NM_DIST', 'CD_SUBDIST', 'NM_SUBDIST', 'geometry'],\n",
       "      dtype='object')"
      ]
     },
     "execution_count": 5,
     "metadata": {},
     "output_type": "execute_result"
    }
   ],
   "source": [
    "gdf_br.columns"
   ]
  },
  {
   "cell_type": "code",
   "execution_count": 7,
   "metadata": {},
   "outputs": [],
   "source": [
    "UFS = [\n",
    "    'AC',\n",
    "    'AL',\n",
    "    'AM',\n",
    "    'AP',\n",
    "    'BA',\n",
    "    'CE',\n",
    "    'DF',\n",
    "    'ES',\n",
    "    'GO',\n",
    "    'MA',\n",
    "    'MG',\n",
    "    'MS',\n",
    "    'MT',\n",
    "    'PA',\n",
    "    'PB',\n",
    "    'PE',\n",
    "    'PI',\n",
    "    'PR',\n",
    "    'RJ',\n",
    "    'RN',\n",
    "    'RO',\n",
    "    'RR',\n",
    "    'RS',\n",
    "    'SC',\n",
    "    'SE',\n",
    "    'SP1',\n",
    "    'SP2',\n",
    "    'TO'\n",
    "]"
   ]
  },
  {
   "cell_type": "code",
   "execution_count": 8,
   "metadata": {},
   "outputs": [],
   "source": [
    "## Hash para montar a base de dados\n",
    "# {'file1': ['var1', 'var2', ..., 'var n'], ...,'file n': ['var1', 'var2', ..., 'var n']}\n",
    "\n",
    "model_vars = {\n",
    "    'Domicilio01': {\n",
    "        'V035': 'seila1',\n",
    "        'V106': 'seila2',\n",
    "        'V123': 'seila3',\n",
    "        'V023': 'seila4'\n",
    "    },\n",
    "    'Responsavel02': {\n",
    "        'V093': 'seila5',\n",
    "    },\n",
    "}\n"
   ]
  },
  {
   "cell_type": "code",
   "execution_count": 14,
   "metadata": {},
   "outputs": [
    {
     "name": "stdout",
     "output_type": "stream",
     "text": [
      "Processando AC\n",
      "Processando AL\n",
      "Processando AM\n",
      "Processando AP\n",
      "Processando BA\n",
      "Processando CE\n",
      "Processando DF\n",
      "Processando ES\n",
      "Processando GO\n",
      "Processando MA\n",
      "Processando MG\n",
      "Processando MS\n",
      "Processando MT\n",
      "Processando PA\n",
      "Processando PB\n",
      "Processando PE\n",
      "Processando PI\n",
      "Processando PR\n"
     ]
    },
    {
     "name": "stderr",
     "output_type": "stream",
     "text": [
      "/tmp/ipykernel_186212/2441012663.py:10: DtypeWarning: Columns (24,36,107,124) have mixed types. Specify dtype option on import or set low_memory=False.\n",
      "  df = pd.read_csv(file_path, delimiter=';', usecols=fields).set_index('Cod_setor')\n",
      "/tmp/ipykernel_186212/2441012663.py:10: DtypeWarning: Columns (94) have mixed types. Specify dtype option on import or set low_memory=False.\n",
      "  df = pd.read_csv(file_path, delimiter=';', usecols=fields).set_index('Cod_setor')\n"
     ]
    },
    {
     "name": "stdout",
     "output_type": "stream",
     "text": [
      "Processando RJ\n",
      "Processando RN\n",
      "Processando RO\n",
      "Processando RR\n",
      "Processando RS\n",
      "Processando SC\n",
      "Processando SE\n",
      "Processando SP1\n",
      "Processando SP2\n",
      "Processando TO\n"
     ]
    }
   ],
   "source": [
    "dfs = []\n",
    "for uf in UFS:\n",
    "    print(f'Processando {uf}')\n",
    "    dfs_uf = []\n",
    "    for file in model_vars:\n",
    "        file_path = f'data/censo_2010/csvs/{file}_{uf}.csv'\n",
    "        fields = list(model_vars[file].keys())\n",
    "        fields.append('Cod_setor')\n",
    "        try:\n",
    "            df = pd.read_csv(file_path, delimiter=';', usecols=fields).set_index('Cod_setor')\n",
    "        except:\n",
    "            df = pd.read_csv(file_path, delimiter=',', usecols=fields).set_index('Cod_setor')\n",
    "        df.rename(columns=model_vars[file], inplace=True)\n",
    "        dfs_uf.append(df)\n",
    "        # break\n",
    "    df = pd.concat(dfs_uf, axis=1)\n",
    "    dfs.append(df)"
   ]
  },
  {
   "cell_type": "code",
   "execution_count": 15,
   "metadata": {},
   "outputs": [
    {
     "data": {
      "text/html": [
       "<div>\n",
       "<style scoped>\n",
       "    .dataframe tbody tr th:only-of-type {\n",
       "        vertical-align: middle;\n",
       "    }\n",
       "\n",
       "    .dataframe tbody tr th {\n",
       "        vertical-align: top;\n",
       "    }\n",
       "\n",
       "    .dataframe thead th {\n",
       "        text-align: right;\n",
       "    }\n",
       "</style>\n",
       "<table border=\"1\" class=\"dataframe\">\n",
       "  <thead>\n",
       "    <tr style=\"text-align: right;\">\n",
       "      <th></th>\n",
       "      <th>seila4</th>\n",
       "      <th>seila1</th>\n",
       "      <th>seila2</th>\n",
       "      <th>seila3</th>\n",
       "      <th>seila5</th>\n",
       "    </tr>\n",
       "    <tr>\n",
       "      <th>Cod_setor</th>\n",
       "      <th></th>\n",
       "      <th></th>\n",
       "      <th></th>\n",
       "      <th></th>\n",
       "      <th></th>\n",
       "    </tr>\n",
       "  </thead>\n",
       "  <tbody>\n",
       "    <tr>\n",
       "      <th>120001305000001</th>\n",
       "      <td>0</td>\n",
       "      <td>279</td>\n",
       "      <td>134</td>\n",
       "      <td>11</td>\n",
       "      <td>242</td>\n",
       "    </tr>\n",
       "    <tr>\n",
       "      <th>120001305000002</th>\n",
       "      <td>3</td>\n",
       "      <td>331</td>\n",
       "      <td>223</td>\n",
       "      <td>19</td>\n",
       "      <td>293</td>\n",
       "    </tr>\n",
       "    <tr>\n",
       "      <th>120001305000003</th>\n",
       "      <td>0</td>\n",
       "      <td>473</td>\n",
       "      <td>253</td>\n",
       "      <td>102</td>\n",
       "      <td>404</td>\n",
       "    </tr>\n",
       "    <tr>\n",
       "      <th>120001305000004</th>\n",
       "      <td>2</td>\n",
       "      <td>49</td>\n",
       "      <td>16</td>\n",
       "      <td>8</td>\n",
       "      <td>42</td>\n",
       "    </tr>\n",
       "    <tr>\n",
       "      <th>120001305000005</th>\n",
       "      <td>1</td>\n",
       "      <td>0</td>\n",
       "      <td>0</td>\n",
       "      <td>40</td>\n",
       "      <td>71</td>\n",
       "    </tr>\n",
       "    <tr>\n",
       "      <th>...</th>\n",
       "      <td>...</td>\n",
       "      <td>...</td>\n",
       "      <td>...</td>\n",
       "      <td>...</td>\n",
       "      <td>...</td>\n",
       "    </tr>\n",
       "    <tr>\n",
       "      <th>172210705000014</th>\n",
       "      <td>0</td>\n",
       "      <td>3</td>\n",
       "      <td>0</td>\n",
       "      <td>14</td>\n",
       "      <td>25</td>\n",
       "    </tr>\n",
       "    <tr>\n",
       "      <th>172210705000015</th>\n",
       "      <td>37</td>\n",
       "      <td>0</td>\n",
       "      <td>0</td>\n",
       "      <td>64</td>\n",
       "      <td>68</td>\n",
       "    </tr>\n",
       "    <tr>\n",
       "      <th>172210705000016</th>\n",
       "      <td>56</td>\n",
       "      <td>0</td>\n",
       "      <td>0</td>\n",
       "      <td>71</td>\n",
       "      <td>50</td>\n",
       "    </tr>\n",
       "    <tr>\n",
       "      <th>172210705000017</th>\n",
       "      <td>0</td>\n",
       "      <td>0</td>\n",
       "      <td>0</td>\n",
       "      <td>51</td>\n",
       "      <td>35</td>\n",
       "    </tr>\n",
       "    <tr>\n",
       "      <th>172210705000018</th>\n",
       "      <td>38</td>\n",
       "      <td>0</td>\n",
       "      <td>0</td>\n",
       "      <td>52</td>\n",
       "      <td>51</td>\n",
       "    </tr>\n",
       "  </tbody>\n",
       "</table>\n",
       "<p>310120 rows × 5 columns</p>\n",
       "</div>"
      ],
      "text/plain": [
       "                seila4 seila1 seila2 seila3 seila5\n",
       "Cod_setor                                         \n",
       "120001305000001      0    279    134     11    242\n",
       "120001305000002      3    331    223     19    293\n",
       "120001305000003      0    473    253    102    404\n",
       "120001305000004      2     49     16      8     42\n",
       "120001305000005      1      0      0     40     71\n",
       "...                ...    ...    ...    ...    ...\n",
       "172210705000014      0      3      0     14     25\n",
       "172210705000015     37      0      0     64     68\n",
       "172210705000016     56      0      0     71     50\n",
       "172210705000017      0      0      0     51     35\n",
       "172210705000018     38      0      0     52     51\n",
       "\n",
       "[310120 rows x 5 columns]"
      ]
     },
     "execution_count": 15,
     "metadata": {},
     "output_type": "execute_result"
    }
   ],
   "source": [
    "pd.concat(dfs)"
   ]
  },
  {
   "cell_type": "code",
   "execution_count": 27,
   "metadata": {},
   "outputs": [
    {
     "name": "stdout",
     "output_type": "stream",
     "text": [
      "Processando AC\n"
     ]
    },
    {
     "ename": "ValueError",
     "evalue": "No objects to concatenate",
     "output_type": "error",
     "traceback": [
      "\u001b[0;31m---------------------------------------------------------------------------\u001b[0m",
      "\u001b[0;31mValueError\u001b[0m                                Traceback (most recent call last)",
      "\u001b[0;32m/tmp/ipykernel_186212/2821155080.py\u001b[0m in \u001b[0;36m<module>\u001b[0;34m\u001b[0m\n\u001b[1;32m     11\u001b[0m     \u001b[0;31m# df.rename(columns=model_vars[file], inplace=True)\u001b[0m\u001b[0;34m\u001b[0m\u001b[0;34m\u001b[0m\u001b[0;34m\u001b[0m\u001b[0m\n\u001b[1;32m     12\u001b[0m         \u001b[0;31m# break\u001b[0m\u001b[0;34m\u001b[0m\u001b[0;34m\u001b[0m\u001b[0;34m\u001b[0m\u001b[0m\n\u001b[0;32m---> 13\u001b[0;31m     \u001b[0mdf\u001b[0m \u001b[0;34m=\u001b[0m \u001b[0mpd\u001b[0m\u001b[0;34m.\u001b[0m\u001b[0mconcat\u001b[0m\u001b[0;34m(\u001b[0m\u001b[0mdfs_uf\u001b[0m\u001b[0;34m,\u001b[0m \u001b[0maxis\u001b[0m\u001b[0;34m=\u001b[0m\u001b[0;36m1\u001b[0m\u001b[0;34m)\u001b[0m\u001b[0;34m\u001b[0m\u001b[0;34m\u001b[0m\u001b[0m\n\u001b[0m\u001b[1;32m     14\u001b[0m     \u001b[0mdfs\u001b[0m\u001b[0;34m.\u001b[0m\u001b[0mappend\u001b[0m\u001b[0;34m(\u001b[0m\u001b[0mdf\u001b[0m\u001b[0;34m)\u001b[0m\u001b[0;34m\u001b[0m\u001b[0;34m\u001b[0m\u001b[0m\n",
      "\u001b[0;32m~/miniconda3/envs/geo/lib/python3.8/site-packages/pandas/util/_decorators.py\u001b[0m in \u001b[0;36mwrapper\u001b[0;34m(*args, **kwargs)\u001b[0m\n\u001b[1;32m    309\u001b[0m                     \u001b[0mstacklevel\u001b[0m\u001b[0;34m=\u001b[0m\u001b[0mstacklevel\u001b[0m\u001b[0;34m,\u001b[0m\u001b[0;34m\u001b[0m\u001b[0;34m\u001b[0m\u001b[0m\n\u001b[1;32m    310\u001b[0m                 )\n\u001b[0;32m--> 311\u001b[0;31m             \u001b[0;32mreturn\u001b[0m \u001b[0mfunc\u001b[0m\u001b[0;34m(\u001b[0m\u001b[0;34m*\u001b[0m\u001b[0margs\u001b[0m\u001b[0;34m,\u001b[0m \u001b[0;34m**\u001b[0m\u001b[0mkwargs\u001b[0m\u001b[0;34m)\u001b[0m\u001b[0;34m\u001b[0m\u001b[0;34m\u001b[0m\u001b[0m\n\u001b[0m\u001b[1;32m    312\u001b[0m \u001b[0;34m\u001b[0m\u001b[0m\n\u001b[1;32m    313\u001b[0m         \u001b[0;32mreturn\u001b[0m \u001b[0mwrapper\u001b[0m\u001b[0;34m\u001b[0m\u001b[0;34m\u001b[0m\u001b[0m\n",
      "\u001b[0;32m~/miniconda3/envs/geo/lib/python3.8/site-packages/pandas/core/reshape/concat.py\u001b[0m in \u001b[0;36mconcat\u001b[0;34m(objs, axis, join, ignore_index, keys, levels, names, verify_integrity, sort, copy)\u001b[0m\n\u001b[1;32m    344\u001b[0m     \u001b[0mValueError\u001b[0m\u001b[0;34m:\u001b[0m \u001b[0mIndexes\u001b[0m \u001b[0mhave\u001b[0m \u001b[0moverlapping\u001b[0m \u001b[0mvalues\u001b[0m\u001b[0;34m:\u001b[0m \u001b[0;34m[\u001b[0m\u001b[0;34m'a'\u001b[0m\u001b[0;34m]\u001b[0m\u001b[0;34m\u001b[0m\u001b[0;34m\u001b[0m\u001b[0m\n\u001b[1;32m    345\u001b[0m     \"\"\"\n\u001b[0;32m--> 346\u001b[0;31m     op = _Concatenator(\n\u001b[0m\u001b[1;32m    347\u001b[0m         \u001b[0mobjs\u001b[0m\u001b[0;34m,\u001b[0m\u001b[0;34m\u001b[0m\u001b[0;34m\u001b[0m\u001b[0m\n\u001b[1;32m    348\u001b[0m         \u001b[0maxis\u001b[0m\u001b[0;34m=\u001b[0m\u001b[0maxis\u001b[0m\u001b[0;34m,\u001b[0m\u001b[0;34m\u001b[0m\u001b[0;34m\u001b[0m\u001b[0m\n",
      "\u001b[0;32m~/miniconda3/envs/geo/lib/python3.8/site-packages/pandas/core/reshape/concat.py\u001b[0m in \u001b[0;36m__init__\u001b[0;34m(self, objs, axis, join, keys, levels, names, ignore_index, verify_integrity, copy, sort)\u001b[0m\n\u001b[1;32m    401\u001b[0m \u001b[0;34m\u001b[0m\u001b[0m\n\u001b[1;32m    402\u001b[0m         \u001b[0;32mif\u001b[0m \u001b[0mlen\u001b[0m\u001b[0;34m(\u001b[0m\u001b[0mobjs\u001b[0m\u001b[0;34m)\u001b[0m \u001b[0;34m==\u001b[0m \u001b[0;36m0\u001b[0m\u001b[0;34m:\u001b[0m\u001b[0;34m\u001b[0m\u001b[0;34m\u001b[0m\u001b[0m\n\u001b[0;32m--> 403\u001b[0;31m             \u001b[0;32mraise\u001b[0m \u001b[0mValueError\u001b[0m\u001b[0;34m(\u001b[0m\u001b[0;34m\"No objects to concatenate\"\u001b[0m\u001b[0;34m)\u001b[0m\u001b[0;34m\u001b[0m\u001b[0;34m\u001b[0m\u001b[0m\n\u001b[0m\u001b[1;32m    404\u001b[0m \u001b[0;34m\u001b[0m\u001b[0m\n\u001b[1;32m    405\u001b[0m         \u001b[0;32mif\u001b[0m \u001b[0mkeys\u001b[0m \u001b[0;32mis\u001b[0m \u001b[0;32mNone\u001b[0m\u001b[0;34m:\u001b[0m\u001b[0;34m\u001b[0m\u001b[0;34m\u001b[0m\u001b[0m\n",
      "\u001b[0;31mValueError\u001b[0m: No objects to concatenate"
     ]
    }
   ],
   "source": [
    "dfs = []\n",
    "for uf in UFS:\n",
    "    print(f'Processando {uf}')\n",
    "    file_path = f'data/censo_2010/csvs/Basico_{uf}.csv'\n",
    "    # fields = list(model_vars[file].keys())\n",
    "    # fields.append('Cod_setor')\n",
    "    try:\n",
    "        df = pd.read_csv(file_path, delimiter=';',  encoding='ISO-8859-1')\n",
    "    except:\n",
    "        df = pd.read_csv(file_path, delimiter=',', encoding='ISO-8859-1')\n",
    "    # df.rename(columns=model_vars[file], inplace=True)\n",
    "        # break\n",
    "    df = pd.concat(dfs_uf, axis=1)\n",
    "    dfs.append(df)"
   ]
  },
  {
   "cell_type": "code",
   "execution_count": 23,
   "metadata": {},
   "outputs": [],
   "source": [
    "total = 0 \n",
    "for df in dfs:\n",
    "    total += df.shape[0]"
   ]
  },
  {
   "cell_type": "code",
   "execution_count": 24,
   "metadata": {},
   "outputs": [
    {
     "data": {
      "text/plain": [
       "310120"
      ]
     },
     "execution_count": 24,
     "metadata": {},
     "output_type": "execute_result"
    }
   ],
   "source": [
    "total"
   ]
  },
  {
   "cell_type": "code",
   "execution_count": null,
   "metadata": {},
   "outputs": [],
   "source": []
  }
 ],
 "metadata": {
  "kernelspec": {
   "display_name": "geo",
   "language": "python",
   "name": "python3"
  },
  "language_info": {
   "codemirror_mode": {
    "name": "ipython",
    "version": 3
   },
   "file_extension": ".py",
   "mimetype": "text/x-python",
   "name": "python",
   "nbconvert_exporter": "python",
   "pygments_lexer": "ipython3",
   "version": "3.8.12"
  },
  "orig_nbformat": 4
 },
 "nbformat": 4,
 "nbformat_minor": 2
}
