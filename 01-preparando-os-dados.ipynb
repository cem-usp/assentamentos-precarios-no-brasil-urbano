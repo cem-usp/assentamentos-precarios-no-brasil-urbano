{
 "cells": [
  {
   "cell_type": "code",
   "execution_count": 1,
   "metadata": {},
   "outputs": [
    {
     "name": "stderr",
     "output_type": "stream",
     "text": [
      "/home/fernando/miniconda3/envs/dash/lib/python3.9/site-packages/geopandas/_compat.py:111: UserWarning: The Shapely GEOS version (3.10.2-CAPI-1.16.0) is incompatible with the GEOS version PyGEOS was compiled with (3.10.1-CAPI-1.16.0). Conversions between both will be slow.\n",
      "  warnings.warn(\n"
     ]
    }
   ],
   "source": [
    "import pandas as pd\n",
    "import geopandas as gpd\n",
    "# from tabula import read_pdf"
   ]
  },
  {
   "cell_type": "code",
   "execution_count": 2,
   "metadata": {},
   "outputs": [],
   "source": [
    "# df_informacoes = read_pdf('data/censo_2010/BASE DE INFORMAåES POR SETOR CENSITµRIO Censo 2010 - Universo.pdf', stream=True, pages=46, lattice=True)"
   ]
  },
  {
   "cell_type": "code",
   "execution_count": 3,
   "metadata": {},
   "outputs": [],
   "source": [
    "# df_informacoes[0]"
   ]
  },
  {
   "cell_type": "code",
   "execution_count": 4,
   "metadata": {},
   "outputs": [],
   "source": [
    "## Malha de setores do BR\n",
    "# https://www.ibge.gov.br/geociencias/downloads-geociencias.html?caminho=organizacao_do_territorio/malhas_territoriais/malhas_de_setores_censitarios__divisoes_intramunicipais/2021/Malha_de_setores_(shp)_Brasil"
   ]
  },
  {
   "cell_type": "code",
   "execution_count": 5,
   "metadata": {},
   "outputs": [],
   "source": [
    "## Download das tabelas e documentacao\n",
    "# https://www.ibge.gov.br/estatisticas/sociais/populacao/9662-censo-demografico-2010.html?edicao=10410"
   ]
  },
  {
   "attachments": {},
   "cell_type": "markdown",
   "metadata": {},
   "source": [
    "# Selecao das variáveis\n",
    "\n",
    "## Habitação einfraestrutura\n",
    "\n",
    "* Porcentagem de domicílios do tipo cômodo\n",
    "* Porcentagem de domicílios sem coleta de lixo\n",
    "* Porcentagem de domicílios sem ligação à rede de abastecimento de água\n",
    "* Porcentagem de domicílios sem banheiros ou sanitários\n",
    "* Porcentagem de domicílios sem ligação à rede de esgoto ou fossa séptica\n",
    "* Porcentagem de domicílios – outra forma de posse da moradia\n",
    "* Número de banheiros por habitante\n",
    "\n",
    "## Renda e escolaridade do responsável pelo domicílio\n",
    "\n",
    "* Porcentagem de responsáveis por domicílio não alfabetizados\n",
    "* Porcentagem de responsáveis por domicílio com menos de 30 anos não alfabetizados\n",
    "* Porcentagem de responsáveis por domicílio com renda de até 3 salários mínimos\n",
    "* Porcentagem de responsáveis por domicílio com menos de 8 anos de estudo\n",
    "* Anos médios de estudo do responsável pelo domicílio\n",
    "* Renda média do responsável pelo domicílio\n",
    "\n",
    "## Aspectos demográficos\n",
    "\n",
    "* Número de domicílios particulares permanentes no setor censitário\n",
    "* Número de domicílios improvisados no setor censitário\n",
    "* Número de pessoas residentes no setor censitário\n",
    "* Porcentagem de responsáveis por domicílios com menos de 30 anos\n",
    "* Número médio de pessoas por domicílio\n",
    "\n"
   ]
  },
  {
   "cell_type": "code",
   "execution_count": 6,
   "metadata": {},
   "outputs": [],
   "source": [
    "gdf_br = gpd.read_file('data/censo_2010/BR_Setores_2021.zip')"
   ]
  },
  {
   "cell_type": "code",
   "execution_count": 7,
   "metadata": {},
   "outputs": [
    {
     "data": {
      "text/plain": [
       "(452248, 13)"
      ]
     },
     "execution_count": 7,
     "metadata": {},
     "output_type": "execute_result"
    }
   ],
   "source": [
    "gdf_br.shape"
   ]
  },
  {
   "cell_type": "code",
   "execution_count": 8,
   "metadata": {},
   "outputs": [
    {
     "data": {
      "text/plain": [
       "Área Urbana de Alta Densidade de Edificações     306095\n",
       "Área Rural (exclusive aglomerados)                83569\n",
       "Área Urbana de Baixa Densidade de Edificações     31869\n",
       "Povoado                                           16832\n",
       "Núcleo Urbano                                      7682\n",
       "Lugarejo                                           5010\n",
       "Massa de Água                                       894\n",
       "Núcleo Rural                                        295\n",
       "Name: NM_SIT, dtype: int64"
      ]
     },
     "execution_count": 8,
     "metadata": {},
     "output_type": "execute_result"
    }
   ],
   "source": [
    "gdf_br.NM_SIT.value_counts()"
   ]
  },
  {
   "cell_type": "code",
   "execution_count": 9,
   "metadata": {},
   "outputs": [
    {
     "data": {
      "text/plain": [
       "Index(['CD_SETOR', 'CD_SIT', 'NM_SIT', 'CD_UF', 'NM_UF', 'SIGLA_UF', 'CD_MUN',\n",
       "       'NM_MUN', 'CD_DIST', 'NM_DIST', 'CD_SUBDIST', 'NM_SUBDIST', 'geometry'],\n",
       "      dtype='object')"
      ]
     },
     "execution_count": 9,
     "metadata": {},
     "output_type": "execute_result"
    }
   ],
   "source": [
    "gdf_br.columns"
   ]
  },
  {
   "cell_type": "code",
   "execution_count": 10,
   "metadata": {},
   "outputs": [],
   "source": [
    "UFS = [\n",
    "    'AC',\n",
    "    'AL',\n",
    "    'AM',\n",
    "    'AP',\n",
    "    'BA',\n",
    "    'CE',\n",
    "    'DF',\n",
    "    'ES',\n",
    "    'GO',\n",
    "    'MA',\n",
    "    'MG',\n",
    "    'MS',\n",
    "    'MT',\n",
    "    'PA',\n",
    "    'PB',\n",
    "    'PE',\n",
    "    'PI',\n",
    "    'PR',\n",
    "    'RJ',\n",
    "    'RN',\n",
    "    'RO',\n",
    "    'RR',\n",
    "    'RS',\n",
    "    'SC',\n",
    "    'SE',\n",
    "    'SP1',\n",
    "    'SP2',\n",
    "    'TO'\n",
    "]"
   ]
  },
  {
   "cell_type": "code",
   "execution_count": 11,
   "metadata": {},
   "outputs": [],
   "source": [
    "## Hash para montar a base de dados\n",
    "# {'file1': ['var1', 'var2', ..., 'var n'], ...,'file n': ['var1', 'var2', ..., 'var n']}\n",
    "\n",
    "model_vars = {\n",
    "    'Basico':{\n",
    "        # 'Cod_Grandes Regiões': 'Código das GRandes REgiões',\n",
    "        # 'Nome_Grande_Regiao': 'Nome GRande Região',\n",
    "        'Cod_UF': 'uf',\n",
    "        'Cod_RM': 'rm',\n",
    "        'Nome_da_RM': 'nome_rm',\n",
    "        'Cod_municipio': 'cod_municipio',\n",
    "        'Nome_do_municipio': 'nome_municipio',\n",
    "        'Situacao_setor': 'situacao_setor',\n",
    "        'Tipo_setor': 'tipo_do_setor',\n",
    "        'V001': 'numero_de_domicilios',\n",
    "        'V002': 'numero_moradores'\n",
    "    },\n",
    "    'Domicilio01': {\n",
    "        'V003': 'domicilios_tipo_casa',\n",
    "        'V002': 'domicilios_particulares_permanentes',\n",
    "        'V035': 'domicilios_com_lixo_coletado',\n",
    "        'V106': 'domicilios_tipo_casa_com_abastecimento_de_agua',\n",
    "        'V023': 'domicilios_particulares_permanentes_sem_banheiro_ou_sanitario',\n",
    "        'V017': 'domicilios_particulares_permanentes_com_banheiro_ligado_a_esgoto',\n",
    "        'V018': 'domicilios_particulares_permanentes_com_banheiro_ligado_a_fossa_septica',\n",
    "        'V025': 'domicilios_particulares_permanentes_com_1_banheiro',\n",
    "        'V026': 'domicilios_particulares_permanentes_com_2_banheiros',\n",
    "        'V027': 'domicilios_particulares_permanentes_com_3_banheiros',\n",
    "        'V028': 'domicilios_particulares_permanentes_com_4_banheiros',\n",
    "        'V029': 'domicilios_particulares_permanentes_com_5_banheiros',\n",
    "        'V030': 'domicilios_particulares_permanentes_com_6_banheiros',\n",
    "        'V031': 'domicilios_particulares_permanentes_com_7_banheiros',\n",
    "        'V032': 'domicilios_particulares_permanentes_com_8_banheiros',\n",
    "        'V033': 'domicilios_particulares_permanentes_com_mais_de_9_banheiros',\n",
    "        'V010': 'domicilios_particulares_permanentes_cedidos_de_outra_forma',\n",
    "        'V011': 'domicilios_particulares_permanentes_em_outra_condicao_de_ocupacao',\n",
    "    },\n",
    "    'Responsavel02': {\n",
    "        'V001': 'pessoas_responsaveis',\n",
    "        'V002': 'pessoas_responsaveis_com_10_anos',\n",
    "        'V003': 'pessoas_responsaveis_com_11_anos',\n",
    "        'V004': 'pessoas_responsaveis_com_12_anos',\n",
    "        'V005': 'pessoas_responsaveis_com_13_anos',\n",
    "        'V006': 'pessoas_responsaveis_com_14_anos',\n",
    "        'V007': 'pessoas_responsaveis_com_15_anos',\n",
    "        'V008': 'pessoas_responsaveis_com_16_anos',\n",
    "        'V009': 'pessoas_responsaveis_com_17_anos',\n",
    "        'V010': 'pessoas_responsaveis_com_18_anos',\n",
    "        'V011': 'pessoas_responsaveis_com_19_anos',\n",
    "        'V012': 'pessoas_responsaveis_com_20_anos',\n",
    "        'V013': 'pessoas_responsaveis_com_21_anos',\n",
    "        'V014': 'pessoas_responsaveis_com_22_anos',\n",
    "        'V015': 'pessoas_responsaveis_com_23_anos',\n",
    "        'V016': 'pessoas_responsaveis_com_24_anos',\n",
    "        'V017': 'pessoas_responsaveis_com_25_anos',\n",
    "        'V018': 'pessoas_responsaveis_com_26_anos',\n",
    "        'V019': 'pessoas_responsaveis_com_27_anos',\n",
    "        'V020': 'pessoas_responsaveis_com_28_anos',\n",
    "        'V021': 'pessoas_responsaveis_com_29_anos',\n",
    "        'V093': 'pessoas_responsaveis_alfabetizadas',\n",
    "        'V094': 'pessoas_responsaveis_alfabetizadas_de_10_a_14_anos',\n",
    "        'V095': 'pessoas_responsaveis_alfabetizadas_de_15_a_19_anos',\n",
    "        'V096': 'pessoas_responsaveis_alfabetizadas_de_20_a_24_anos',\n",
    "        'V097': 'pessoas_responsaveis_alfabetizadas_de_25_a_29_anos'\n",
    "    },\n",
    "    'DomicilioRenda':{\n",
    "        'V001': 'total_domicilios_improvisados',\n",
    "        'V002': 'total_rendimento_dos_domicilios',\n",
    "    },\n",
    "    'ResponsavelRenda':{\n",
    "        'V001': 'responsaveis_com_renda_ate_meio_salario_minimo',\n",
    "        'V002': 'responsaveis_com_renda_de_meio_a_1_salario_minimo',\n",
    "        'V003': 'responsaveis_com_renda_de_1_a_2_salarios_minimos',\n",
    "        'V004': 'responsaveis_com_renda_de_2_a_3_salarios_minimos'\n",
    "    }\n",
    "}\n"
   ]
  },
  {
   "cell_type": "code",
   "execution_count": 23,
   "metadata": {},
   "outputs": [
    {
     "name": "stdout",
     "output_type": "stream",
     "text": [
      "Processando AC\n",
      "Processando AL\n",
      "Processando AM\n",
      "Processando AP\n",
      "Processando BA\n",
      "Processando CE\n",
      "Processando DF\n",
      "Processando ES\n",
      "Processando GO\n",
      "Processando MA\n",
      "Processando MG\n",
      "Processando MS\n",
      "Processando MT\n",
      "Processando PA\n",
      "Processando PB\n",
      "Processando PE\n",
      "Processando PI\n",
      "Processando PR\n",
      "Processando RJ\n",
      "Processando RN\n",
      "Processando RO\n",
      "Processando RR\n",
      "Processando RS\n",
      "Processando SC\n",
      "Processando SE\n",
      "Processando SP1\n",
      "Processando SP2\n",
      "Processando TO\n"
     ]
    }
   ],
   "source": [
    "dfs = []\n",
    "for uf in UFS:\n",
    "    print(f'Processando {uf}')\n",
    "    dfs_uf = []\n",
    "    for file in model_vars:\n",
    "        file_path = f'data/censo_2010/csvs/{file}_{uf}.csv'\n",
    "        fields = list(model_vars[file].keys())\n",
    "        fields.append('Cod_setor')\n",
    "        try:\n",
    "            df = pd.read_csv(file_path, delimiter=';', usecols=fields, dtype=\"string\", encoding='UTF-8').set_index('Cod_setor')\n",
    "        except:\n",
    "            try:\n",
    "                df = pd.read_csv(file_path, delimiter=';', usecols=fields, dtype=\"string\", encoding='ISO-8859-1').set_index('Cod_setor')\n",
    "            except:\n",
    "                df = pd.read_csv(file_path, delimiter=',', usecols=fields, dtype=\"string\", encoding='UTF-8').set_index('Cod_setor')\n",
    "        df.rename(columns=model_vars[file], inplace=True)\n",
    "        dfs_uf.append(df)\n",
    "        # break\n",
    "    df = pd.concat(dfs_uf, axis=1)\n",
    "    dfs.append(df)"
   ]
  },
  {
   "cell_type": "code",
   "execution_count": 24,
   "metadata": {},
   "outputs": [],
   "source": [
    "df = pd.concat(dfs)"
   ]
  },
  {
   "cell_type": "code",
   "execution_count": 40,
   "metadata": {},
   "outputs": [
    {
     "data": {
      "text/plain": [
       "Municípios não pertencentes a estrutura de RM        173563\n",
       "RM São Paulo                                          29943\n",
       "RM Rio de Janeiro                                     19507\n",
       "RM Belo Horizonte                                      8523\n",
       "RM Porto Alegre                                        6971\n",
       "RIDE - Região Integrada de Desenvolvimento do ...      6059\n",
       "RM Salvador                                            5023\n",
       "RM Recife                                              4535\n",
       "RM Fortaleza                                           4480\n",
       "RM Curitiba                                            4348\n",
       "RM Campinas                                            4113\n",
       "RM Baixada Santista                                    2968\n",
       "RM Manaus                                              2899\n",
       "RM Goiânia                                             2882\n",
       "RM Grande Vitória                                      2838\n",
       "Munic¡pios não pertencentes a estrutura de RM          2089\n",
       "RM Belém                                               2052\n",
       "RM Norte/Nordeste Catarinense                          1906\n",
       "RM João Pessoa                                         1636\n",
       "RIDE TERESINA - Região Integrada de Desenvolvi...      1583\n",
       "RM Natal                                               1575\n",
       "RM Grande São Luís                                     1532\n",
       "RM Florianópolis                                       1528\n",
       "RM Vale do Rio Cuiabá                                  1518\n",
       "RM Maceió                                              1314\n",
       "RM Carbonífera                                         1172\n",
       "RM Maringá                                             1167\n",
       "RM Londrina                                            1140\n",
       "RM Aracaju                                             1123\n",
       "RM Vale do Itajaí                                      1118\n",
       "RM Campina Grande                                      1014\n",
       "RM Foz do Rio Itajaí                                    996\n",
       "RM Vale do Aço                                          978\n",
       "RM Tubarão                                              950\n",
       "RIDE Petrolina/Juazeiro Reg Adm Int Desen do P...       932\n",
       "RM Cariri                                               883\n",
       "RM Chapecó                                              850\n",
       "RM Agreste                                              801\n",
       "RM Lages                                                601\n",
       "RM Macapá                                               586\n",
       "RM Sudoeste Maranhense                                  412\n",
       "Name: nome_rm, dtype: Int64"
      ]
     },
     "execution_count": 40,
     "metadata": {},
     "output_type": "execute_result"
    }
   ],
   "source": [
    "df.nome_rm.value_counts()"
   ]
  },
  {
   "cell_type": "code",
   "execution_count": 27,
   "metadata": {},
   "outputs": [
    {
     "data": {
      "text/plain": [
       "41"
      ]
     },
     "execution_count": 27,
     "metadata": {},
     "output_type": "execute_result"
    }
   ],
   "source": [
    "len(df.rm.value_counts().to_list())"
   ]
  },
  {
   "cell_type": "code",
   "execution_count": 42,
   "metadata": {},
   "outputs": [],
   "source": [
    "CAMPOS_MODELO = [\n",
    "    'uf',\n",
    "    'rm',\n",
    "    'nome_rm',\n",
    "    'cod_municipio',\n",
    "    'nome_municipio',\n",
    "    'situacao_setor',\n",
    "    'tipo_do_setor',\n",
    "    'porcentagem_domicilios_sem_coleta_de_lixo',\n",
    "    'porcentagem_domicilios_sem_ligacao_rede_de_agua',\n",
    "    'porcentagem_domicilios_sem_banheiros',\n",
    "    'porcentagem_domicilios_sem_esgoto_ou_fossa',\n",
    "    # 'porcentagem_domicilios_tipo_comodo',\n",
    "    'porcentagem_domicilios_cedidos_outra_forma',\n",
    "    'porcentagem_domicilios_em_outra_condicao_de_ocupacao',\n",
    "    'numero_de_banheiros_por_habitante',\n",
    "    'porcentagem_responsaveis_nao_alfabetizado',\n",
    "    'porcentagem_responsaveis_nao_alfabetizado_com_menos_de_30_anos',\n",
    "    'porcentagem_responsaveis_renda_ate_3_salarios',\n",
    "    # 'porcentagem_responsaveis_menos_8_anos_de_estudo',\n",
    "    # 'anos_medios_estudo_responsavel',\n",
    "    'renda_media_responsavel',\n",
    "    'numero_de_domicilios_particulares_permanentes',\n",
    "    'numero_de_domicilios_improvisados',\n",
    "    'numero_de_pessoas_residentes',\n",
    "    'porcentagem_de_responsaveis_com_menos_30_anos',\n",
    "    'numero_medio_pessoas'\n",
    "]"
   ]
  },
  {
   "cell_type": "code",
   "execution_count": null,
   "metadata": {},
   "outputs": [],
   "source": []
  }
 ],
 "metadata": {
  "kernelspec": {
   "display_name": "geo",
   "language": "python",
   "name": "python3"
  },
  "language_info": {
   "codemirror_mode": {
    "name": "ipython",
    "version": 3
   },
   "file_extension": ".py",
   "mimetype": "text/x-python",
   "name": "python",
   "nbconvert_exporter": "python",
   "pygments_lexer": "ipython3",
   "version": "3.9.12"
  },
  "orig_nbformat": 4
 },
 "nbformat": 4,
 "nbformat_minor": 2
}
