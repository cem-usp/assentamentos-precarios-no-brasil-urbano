{
 "cells": [
  {
   "cell_type": "code",
   "execution_count": 1,
   "metadata": {},
   "outputs": [
    {
     "name": "stderr",
     "output_type": "stream",
     "text": [
      "/home/feromes/miniconda3/envs/geo/lib/python3.8/site-packages/geopandas/_compat.py:111: UserWarning: The Shapely GEOS version (3.8.0-CAPI-1.13.1 ) is incompatible with the GEOS version PyGEOS was compiled with (3.10.1-CAPI-1.16.0). Conversions between both will be slow.\n",
      "  warnings.warn(\n"
     ]
    }
   ],
   "source": [
    "import geopandas as gpd"
   ]
  },
  {
   "cell_type": "code",
   "execution_count": 2,
   "metadata": {},
   "outputs": [],
   "source": [
    "gdf_br = gpd.read_file('resultados/assentamentos_precarios_BR.gpkg')"
   ]
  },
  {
   "cell_type": "code",
   "execution_count": 8,
   "metadata": {},
   "outputs": [],
   "source": [
    "gdf_br_rms = gdf_br[gdf_br.rm != 0.]"
   ]
  },
  {
   "cell_type": "code",
   "execution_count": 11,
   "metadata": {},
   "outputs": [
    {
     "data": {
      "text/html": [
       "<div>\n",
       "<style scoped>\n",
       "    .dataframe tbody tr th:only-of-type {\n",
       "        vertical-align: middle;\n",
       "    }\n",
       "\n",
       "    .dataframe tbody tr th {\n",
       "        vertical-align: top;\n",
       "    }\n",
       "\n",
       "    .dataframe thead th {\n",
       "        text-align: right;\n",
       "    }\n",
       "</style>\n",
       "<table border=\"1\" class=\"dataframe\">\n",
       "  <thead>\n",
       "    <tr style=\"text-align: right;\">\n",
       "      <th></th>\n",
       "      <th>uf</th>\n",
       "      <th>nome_UF</th>\n",
       "      <th>rm</th>\n",
       "      <th>nome_rm</th>\n",
       "    </tr>\n",
       "  </thead>\n",
       "  <tbody>\n",
       "    <tr>\n",
       "      <th>45</th>\n",
       "      <td>None</td>\n",
       "      <td>None</td>\n",
       "      <td>NaN</td>\n",
       "      <td>None</td>\n",
       "    </tr>\n",
       "    <tr>\n",
       "      <th>51</th>\n",
       "      <td>None</td>\n",
       "      <td>None</td>\n",
       "      <td>NaN</td>\n",
       "      <td>None</td>\n",
       "    </tr>\n",
       "    <tr>\n",
       "      <th>52</th>\n",
       "      <td>None</td>\n",
       "      <td>None</td>\n",
       "      <td>NaN</td>\n",
       "      <td>None</td>\n",
       "    </tr>\n",
       "    <tr>\n",
       "      <th>63</th>\n",
       "      <td>None</td>\n",
       "      <td>None</td>\n",
       "      <td>NaN</td>\n",
       "      <td>None</td>\n",
       "    </tr>\n",
       "    <tr>\n",
       "      <th>354</th>\n",
       "      <td>None</td>\n",
       "      <td>None</td>\n",
       "      <td>NaN</td>\n",
       "      <td>None</td>\n",
       "    </tr>\n",
       "    <tr>\n",
       "      <th>...</th>\n",
       "      <td>...</td>\n",
       "      <td>...</td>\n",
       "      <td>...</td>\n",
       "      <td>...</td>\n",
       "    </tr>\n",
       "    <tr>\n",
       "      <th>316205</th>\n",
       "      <td>28</td>\n",
       "      <td>SE</td>\n",
       "      <td>14.0</td>\n",
       "      <td>RM Aracaju</td>\n",
       "    </tr>\n",
       "    <tr>\n",
       "      <th>316206</th>\n",
       "      <td>28</td>\n",
       "      <td>SE</td>\n",
       "      <td>14.0</td>\n",
       "      <td>RM Aracaju</td>\n",
       "    </tr>\n",
       "    <tr>\n",
       "      <th>316207</th>\n",
       "      <td>28</td>\n",
       "      <td>SE</td>\n",
       "      <td>14.0</td>\n",
       "      <td>RM Aracaju</td>\n",
       "    </tr>\n",
       "    <tr>\n",
       "      <th>316208</th>\n",
       "      <td>28</td>\n",
       "      <td>SE</td>\n",
       "      <td>14.0</td>\n",
       "      <td>RM Aracaju</td>\n",
       "    </tr>\n",
       "    <tr>\n",
       "      <th>316540</th>\n",
       "      <td>None</td>\n",
       "      <td>None</td>\n",
       "      <td>NaN</td>\n",
       "      <td>None</td>\n",
       "    </tr>\n",
       "  </tbody>\n",
       "</table>\n",
       "<p>140910 rows × 4 columns</p>\n",
       "</div>"
      ],
      "text/plain": [
       "          uf nome_UF    rm     nome_rm\n",
       "45      None    None   NaN        None\n",
       "51      None    None   NaN        None\n",
       "52      None    None   NaN        None\n",
       "63      None    None   NaN        None\n",
       "354     None    None   NaN        None\n",
       "...      ...     ...   ...         ...\n",
       "316205    28      SE  14.0  RM Aracaju\n",
       "316206    28      SE  14.0  RM Aracaju\n",
       "316207    28      SE  14.0  RM Aracaju\n",
       "316208    28      SE  14.0  RM Aracaju\n",
       "316540  None    None   NaN        None\n",
       "\n",
       "[140910 rows x 4 columns]"
      ]
     },
     "execution_count": 11,
     "metadata": {},
     "output_type": "execute_result"
    }
   ],
   "source": [
    "gdf_br_rms.loc[:, ['uf', 'nome_UF', 'rm', 'nome_rm']].dissolve(by='rm')"
   ]
  },
  {
   "cell_type": "code",
   "execution_count": null,
   "metadata": {},
   "outputs": [],
   "source": []
  }
 ],
 "metadata": {
  "kernelspec": {
   "display_name": "geo",
   "language": "python",
   "name": "python3"
  },
  "language_info": {
   "codemirror_mode": {
    "name": "ipython",
    "version": 3
   },
   "file_extension": ".py",
   "mimetype": "text/x-python",
   "name": "python",
   "nbconvert_exporter": "python",
   "pygments_lexer": "ipython3",
   "version": "3.8.12"
  }
 },
 "nbformat": 4,
 "nbformat_minor": 2
}
